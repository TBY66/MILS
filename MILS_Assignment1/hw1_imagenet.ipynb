{
 "cells": [
  {
   "cell_type": "code",
   "execution_count": null,
   "metadata": {},
   "outputs": [],
   "source": [
    "import torch\n",
    "import torch.nn as nn\n",
    "import torch.optim as optim\n",
    "import torch.nn.functional as F\n",
    "from torch.utils.data import Dataset, DataLoader\n",
    "from torchvision import transforms\n",
    "from torchinfo import summary\n",
    "from tqdm import tqdm\n",
    "from PIL import Image\n",
    "import numpy as np\n",
    "import matplotlib.pyplot as plt\n",
    "import os\n",
    "import pandas as pd\n"
   ]
  },
  {
   "cell_type": "code",
   "execution_count": null,
   "metadata": {},
   "outputs": [],
   "source": [
    "\n",
    "class ImageDataset(Dataset):\n",
    "    def __init__(self, txt_file, base_dir, transform=None):\n",
    "        self.img_labels = []\n",
    "        self.transform = transform\n",
    "        self.base_dir = base_dir  # Root directory for images\n",
    "        \n",
    "        with open(txt_file, 'r') as f:\n",
    "            for line in f:\n",
    "                path, label = line.strip().split()\n",
    "                full_path = os.path.join(base_dir, path)  # Convert to absolute path\n",
    "                \n",
    "                if os.path.exists(full_path):  # Ensure file exists\n",
    "                    self.img_labels.append((full_path, int(label)))\n",
    "                else:\n",
    "                    print(f\"Warning: File not found -> {full_path}\")  # Debugging output\n",
    "\n",
    "    def __len__(self):\n",
    "        return len(self.img_labels)\n",
    "\n",
    "    def __getitem__(self, idx):\n",
    "        img_path, label = self.img_labels[idx]\n",
    "\n",
    "        if not os.path.exists(img_path):\n",
    "            raise FileNotFoundError(f\"Image not found: {img_path}\")\n",
    "\n",
    "        image = Image.open(img_path).convert(\"RGB\")\n",
    "        if self.transform:\n",
    "            image = self.transform(image)\n",
    "\n",
    "        return image, label\n"
   ]
  },
  {
   "cell_type": "code",
   "execution_count": 16,
   "metadata": {},
   "outputs": [],
   "source": [
    "transform = transforms.Compose([\n",
    "    transforms.Resize((224, 224)),  # Resize to match ResNet input size\n",
    "    transforms.ToTensor(),\n",
    "    transforms.Normalize([0.485, 0.456, 0.406], [0.229, 0.224, 0.225])  # Standard ImageNet normalization\n",
    "])\n",
    "\n",
    "# Create dataset and dataloader\n",
    "train_dataset = ImageDataset(txt_file=\"train.txt\", \n",
    "                             base_dir=\"\", \n",
    "                             transform=transform)\n",
    "train_loader = DataLoader(train_dataset, batch_size=32, shuffle=True)\n",
    "\n",
    "val_dataset = ImageDataset(txt_file=\"val.txt\", \n",
    "                             base_dir=\"\", \n",
    "                             transform=transform)\n",
    "val_loader = DataLoader(train_dataset, batch_size=32, shuffle=True)"
   ]
  },
  {
   "cell_type": "markdown",
   "metadata": {},
   "source": [
    "ResNet18"
   ]
  },
  {
   "cell_type": "code",
   "execution_count": 17,
   "metadata": {},
   "outputs": [],
   "source": [
    "class BasicBlock(nn.Module):\n",
    "    def __init__(self, in_channels, out_channels, stride=1):\n",
    "        super(BasicBlock, self).__init__()\n",
    "        self.conv1 = nn.Conv2d(in_channels, out_channels, kernel_size=3, stride=stride, padding=1, bias=False)\n",
    "        self.bn1 = nn.BatchNorm2d(out_channels)\n",
    "        self.relu = nn.ReLU(inplace=True)\n",
    "        self.conv2 = nn.Conv2d(out_channels, out_channels, kernel_size=3, stride=1, padding=1, bias=False)\n",
    "        self.bn2 = nn.BatchNorm2d(out_channels)\n",
    "        \n",
    "        self.downsample = nn.Sequential()\n",
    "        if stride != 1 or in_channels != out_channels:\n",
    "            self.downsample = nn.Sequential(\n",
    "                nn.Conv2d(in_channels, out_channels, kernel_size=1, stride=stride, bias=False),\n",
    "                nn.BatchNorm2d(out_channels),\n",
    "            )\n",
    "            \n",
    "    def forward(self, x):\n",
    "        shortcut = self.downsample(x)\n",
    "        out = self.conv1(x)\n",
    "        out = self.bn1(out)\n",
    "        out = self.relu(out)\n",
    "        out = self.conv2(out)\n",
    "        out = self.bn2(out)\n",
    "        out += shortcut\n",
    "        out = self.relu(out)\n",
    "        return out\n",
    "\n",
    "class ResNet18(nn.Module):\n",
    "    def __init__(self, num_classes=50):\n",
    "        super(ResNet18, self).__init__()\n",
    "        self.in_channels = 64\n",
    "        self.conv1 = nn.Conv2d(3, 64, kernel_size=7, stride=2, padding=3, bias=False)\n",
    "        self.bn1 = nn.BatchNorm2d(64)\n",
    "        self.relu = nn.ReLU(inplace=True)\n",
    "        self.maxpool = nn.MaxPool2d(kernel_size=3, stride=2, padding=1)\n",
    "        \n",
    "        self.layer1 = self._make_layer(BasicBlock, 64, 2, stride=1)\n",
    "        self.layer2 = self._make_layer(BasicBlock, 128, 2, stride=2)\n",
    "        self.layer3 = self._make_layer(BasicBlock, 256, 2, stride=2)\n",
    "        self.layer4 = self._make_layer(BasicBlock, 512, 2, stride=2)\n",
    "        \n",
    "        self.avgpool = nn.AdaptiveAvgPool2d((1, 1))\n",
    "        self.fc = nn.Linear(512, num_classes)\n",
    "        \n",
    "    def _make_layer(self, block, out_channels, num_blocks, stride):\n",
    "        layers = []\n",
    "        layers.append(block(self.in_channels, out_channels, stride))\n",
    "        self.in_channels = out_channels\n",
    "        for _ in range(1, num_blocks):\n",
    "            layers.append(block(out_channels, out_channels, stride=1))\n",
    "        return nn.Sequential(*layers)\n",
    "        \n",
    "    def forward(self, x):\n",
    "        x = self.conv1(x)\n",
    "        x = self.bn1(x)\n",
    "        x = self.relu(x)\n",
    "        x = self.maxpool(x)\n",
    "        \n",
    "        x = self.layer1(x)\n",
    "        x = self.layer2(x)\n",
    "        x = self.layer3(x)\n",
    "        x = self.layer4(x)\n",
    "        \n",
    "        x = self.avgpool(x)\n",
    "        x = x.view(x.size(0), -1)\n",
    "        x = self.fc(x)\n",
    "        return x\n"
   ]
  },
  {
   "cell_type": "code",
   "execution_count": 18,
   "metadata": {},
   "outputs": [
    {
     "data": {
      "text/plain": [
       "==========================================================================================\n",
       "Layer (type:depth-idx)                   Output Shape              Param #\n",
       "==========================================================================================\n",
       "ResNet18                                 [1, 50]                   --\n",
       "├─Conv2d: 1-1                            [1, 64, 112, 112]         9,408\n",
       "├─BatchNorm2d: 1-2                       [1, 64, 112, 112]         128\n",
       "├─ReLU: 1-3                              [1, 64, 112, 112]         --\n",
       "├─MaxPool2d: 1-4                         [1, 64, 56, 56]           --\n",
       "├─Sequential: 1-5                        [1, 64, 56, 56]           --\n",
       "│    └─BasicBlock: 2-1                   [1, 64, 56, 56]           --\n",
       "│    │    └─Sequential: 3-1              [1, 64, 56, 56]           --\n",
       "│    │    └─Conv2d: 3-2                  [1, 64, 56, 56]           36,864\n",
       "│    │    └─BatchNorm2d: 3-3             [1, 64, 56, 56]           128\n",
       "│    │    └─ReLU: 3-4                    [1, 64, 56, 56]           --\n",
       "│    │    └─Conv2d: 3-5                  [1, 64, 56, 56]           36,864\n",
       "│    │    └─BatchNorm2d: 3-6             [1, 64, 56, 56]           128\n",
       "│    │    └─ReLU: 3-7                    [1, 64, 56, 56]           --\n",
       "│    └─BasicBlock: 2-2                   [1, 64, 56, 56]           --\n",
       "│    │    └─Sequential: 3-8              [1, 64, 56, 56]           --\n",
       "│    │    └─Conv2d: 3-9                  [1, 64, 56, 56]           36,864\n",
       "│    │    └─BatchNorm2d: 3-10            [1, 64, 56, 56]           128\n",
       "│    │    └─ReLU: 3-11                   [1, 64, 56, 56]           --\n",
       "│    │    └─Conv2d: 3-12                 [1, 64, 56, 56]           36,864\n",
       "│    │    └─BatchNorm2d: 3-13            [1, 64, 56, 56]           128\n",
       "│    │    └─ReLU: 3-14                   [1, 64, 56, 56]           --\n",
       "├─Sequential: 1-6                        [1, 128, 28, 28]          --\n",
       "│    └─BasicBlock: 2-3                   [1, 128, 28, 28]          --\n",
       "│    │    └─Sequential: 3-15             [1, 128, 28, 28]          8,448\n",
       "│    │    └─Conv2d: 3-16                 [1, 128, 28, 28]          73,728\n",
       "│    │    └─BatchNorm2d: 3-17            [1, 128, 28, 28]          256\n",
       "│    │    └─ReLU: 3-18                   [1, 128, 28, 28]          --\n",
       "│    │    └─Conv2d: 3-19                 [1, 128, 28, 28]          147,456\n",
       "│    │    └─BatchNorm2d: 3-20            [1, 128, 28, 28]          256\n",
       "│    │    └─ReLU: 3-21                   [1, 128, 28, 28]          --\n",
       "│    └─BasicBlock: 2-4                   [1, 128, 28, 28]          --\n",
       "│    │    └─Sequential: 3-22             [1, 128, 28, 28]          --\n",
       "│    │    └─Conv2d: 3-23                 [1, 128, 28, 28]          147,456\n",
       "│    │    └─BatchNorm2d: 3-24            [1, 128, 28, 28]          256\n",
       "│    │    └─ReLU: 3-25                   [1, 128, 28, 28]          --\n",
       "│    │    └─Conv2d: 3-26                 [1, 128, 28, 28]          147,456\n",
       "│    │    └─BatchNorm2d: 3-27            [1, 128, 28, 28]          256\n",
       "│    │    └─ReLU: 3-28                   [1, 128, 28, 28]          --\n",
       "├─Sequential: 1-7                        [1, 256, 14, 14]          --\n",
       "│    └─BasicBlock: 2-5                   [1, 256, 14, 14]          --\n",
       "│    │    └─Sequential: 3-29             [1, 256, 14, 14]          33,280\n",
       "│    │    └─Conv2d: 3-30                 [1, 256, 14, 14]          294,912\n",
       "│    │    └─BatchNorm2d: 3-31            [1, 256, 14, 14]          512\n",
       "│    │    └─ReLU: 3-32                   [1, 256, 14, 14]          --\n",
       "│    │    └─Conv2d: 3-33                 [1, 256, 14, 14]          589,824\n",
       "│    │    └─BatchNorm2d: 3-34            [1, 256, 14, 14]          512\n",
       "│    │    └─ReLU: 3-35                   [1, 256, 14, 14]          --\n",
       "│    └─BasicBlock: 2-6                   [1, 256, 14, 14]          --\n",
       "│    │    └─Sequential: 3-36             [1, 256, 14, 14]          --\n",
       "│    │    └─Conv2d: 3-37                 [1, 256, 14, 14]          589,824\n",
       "│    │    └─BatchNorm2d: 3-38            [1, 256, 14, 14]          512\n",
       "│    │    └─ReLU: 3-39                   [1, 256, 14, 14]          --\n",
       "│    │    └─Conv2d: 3-40                 [1, 256, 14, 14]          589,824\n",
       "│    │    └─BatchNorm2d: 3-41            [1, 256, 14, 14]          512\n",
       "│    │    └─ReLU: 3-42                   [1, 256, 14, 14]          --\n",
       "├─Sequential: 1-8                        [1, 512, 7, 7]            --\n",
       "│    └─BasicBlock: 2-7                   [1, 512, 7, 7]            --\n",
       "│    │    └─Sequential: 3-43             [1, 512, 7, 7]            132,096\n",
       "│    │    └─Conv2d: 3-44                 [1, 512, 7, 7]            1,179,648\n",
       "│    │    └─BatchNorm2d: 3-45            [1, 512, 7, 7]            1,024\n",
       "│    │    └─ReLU: 3-46                   [1, 512, 7, 7]            --\n",
       "│    │    └─Conv2d: 3-47                 [1, 512, 7, 7]            2,359,296\n",
       "│    │    └─BatchNorm2d: 3-48            [1, 512, 7, 7]            1,024\n",
       "│    │    └─ReLU: 3-49                   [1, 512, 7, 7]            --\n",
       "│    └─BasicBlock: 2-8                   [1, 512, 7, 7]            --\n",
       "│    │    └─Sequential: 3-50             [1, 512, 7, 7]            --\n",
       "│    │    └─Conv2d: 3-51                 [1, 512, 7, 7]            2,359,296\n",
       "│    │    └─BatchNorm2d: 3-52            [1, 512, 7, 7]            1,024\n",
       "│    │    └─ReLU: 3-53                   [1, 512, 7, 7]            --\n",
       "│    │    └─Conv2d: 3-54                 [1, 512, 7, 7]            2,359,296\n",
       "│    │    └─BatchNorm2d: 3-55            [1, 512, 7, 7]            1,024\n",
       "│    │    └─ReLU: 3-56                   [1, 512, 7, 7]            --\n",
       "├─AdaptiveAvgPool2d: 1-9                 [1, 512, 1, 1]            --\n",
       "├─Linear: 1-10                           [1, 50]                   25,650\n",
       "==========================================================================================\n",
       "Total params: 11,202,162\n",
       "Trainable params: 11,202,162\n",
       "Non-trainable params: 0\n",
       "Total mult-adds (G): 1.81\n",
       "==========================================================================================\n",
       "Input size (MB): 0.60\n",
       "Forward/backward pass size (MB): 39.74\n",
       "Params size (MB): 44.81\n",
       "Estimated Total Size (MB): 85.15\n",
       "=========================================================================================="
      ]
     },
     "execution_count": 18,
     "metadata": {},
     "output_type": "execute_result"
    }
   ],
   "source": [
    "model = ResNet18()\n",
    "summary(model, input_size=(1, 3, 224, 224))"
   ]
  },
  {
   "cell_type": "code",
   "execution_count": 5,
   "metadata": {},
   "outputs": [
    {
     "name": "stdout",
     "output_type": "stream",
     "text": [
      "Using device: cuda\n"
     ]
    },
    {
     "name": "stderr",
     "output_type": "stream",
     "text": [
      "Epoch 1/50: 100%|██████████| 1979/1979 [10:00<00:00,  3.30it/s, loss=2.5738, avg_loss=3.2918, accuracy=12.99%]\n"
     ]
    },
    {
     "name": "stdout",
     "output_type": "stream",
     "text": [
      "\n",
      "Training - Epoch 1: Loss: 3.2918, Accuracy: 12.99%\n",
      "Validation - Epoch 1: Loss: 2.8767, Accuracy: 20.26%\n",
      "\n",
      "Validation loss improved. Model saved to resnet18_best.pth\n"
     ]
    },
    {
     "name": "stderr",
     "output_type": "stream",
     "text": [
      "Epoch 2/50: 100%|██████████| 1979/1979 [04:19<00:00,  7.64it/s, loss=2.5609, avg_loss=2.6495, accuracy=25.45%]\n"
     ]
    },
    {
     "name": "stdout",
     "output_type": "stream",
     "text": [
      "\n",
      "Training - Epoch 2: Loss: 2.6495, Accuracy: 25.45%\n",
      "Validation - Epoch 2: Loss: 2.4845, Accuracy: 29.60%\n",
      "\n",
      "Validation loss improved. Model saved to resnet18_best.pth\n"
     ]
    },
    {
     "name": "stderr",
     "output_type": "stream",
     "text": [
      "Epoch 3/50: 100%|██████████| 1979/1979 [04:18<00:00,  7.65it/s, loss=2.4841, avg_loss=2.2050, accuracy=36.02%]\n"
     ]
    },
    {
     "name": "stdout",
     "output_type": "stream",
     "text": [
      "\n",
      "Training - Epoch 3: Loss: 2.2050, Accuracy: 36.02%\n",
      "Validation - Epoch 3: Loss: 2.0460, Accuracy: 39.50%\n",
      "\n",
      "Validation loss improved. Model saved to resnet18_best.pth\n"
     ]
    },
    {
     "name": "stderr",
     "output_type": "stream",
     "text": [
      "Epoch 4/50: 100%|██████████| 1979/1979 [04:18<00:00,  7.66it/s, loss=1.5994, avg_loss=1.8507, accuracy=45.00%]\n"
     ]
    },
    {
     "name": "stdout",
     "output_type": "stream",
     "text": [
      "\n",
      "Training - Epoch 4: Loss: 1.8507, Accuracy: 45.00%\n",
      "Validation - Epoch 4: Loss: 1.6016, Accuracy: 51.61%\n",
      "\n",
      "Validation loss improved. Model saved to resnet18_best.pth\n"
     ]
    },
    {
     "name": "stderr",
     "output_type": "stream",
     "text": [
      "Epoch 5/50: 100%|██████████| 1979/1979 [04:14<00:00,  7.77it/s, loss=1.6992, avg_loss=1.5646, accuracy=52.59%]\n"
     ]
    },
    {
     "name": "stdout",
     "output_type": "stream",
     "text": [
      "\n",
      "Training - Epoch 5: Loss: 1.5646, Accuracy: 52.59%\n",
      "Validation - Epoch 5: Loss: 1.3027, Accuracy: 59.43%\n",
      "\n",
      "Validation loss improved. Model saved to resnet18_best.pth\n"
     ]
    },
    {
     "name": "stderr",
     "output_type": "stream",
     "text": [
      "Epoch 6/50: 100%|██████████| 1979/1979 [04:19<00:00,  7.63it/s, loss=0.8420, avg_loss=1.3222, accuracy=58.99%]\n"
     ]
    },
    {
     "name": "stdout",
     "output_type": "stream",
     "text": [
      "\n",
      "Training - Epoch 6: Loss: 1.3222, Accuracy: 58.99%\n",
      "Validation - Epoch 6: Loss: 1.0866, Accuracy: 65.88%\n",
      "\n",
      "Validation loss improved. Model saved to resnet18_best.pth\n"
     ]
    },
    {
     "name": "stderr",
     "output_type": "stream",
     "text": [
      "Epoch 7/50: 100%|██████████| 1979/1979 [04:19<00:00,  7.62it/s, loss=0.8739, avg_loss=1.0932, accuracy=65.22%]\n"
     ]
    },
    {
     "name": "stdout",
     "output_type": "stream",
     "text": [
      "\n",
      "Training - Epoch 7: Loss: 1.0932, Accuracy: 65.22%\n",
      "Validation - Epoch 7: Loss: 0.7723, Accuracy: 75.31%\n",
      "\n",
      "Validation loss improved. Model saved to resnet18_best.pth\n"
     ]
    },
    {
     "name": "stderr",
     "output_type": "stream",
     "text": [
      "Epoch 8/50: 100%|██████████| 1979/1979 [04:19<00:00,  7.63it/s, loss=1.0723, avg_loss=0.8520, accuracy=72.15%]\n"
     ]
    },
    {
     "name": "stdout",
     "output_type": "stream",
     "text": [
      "\n",
      "Training - Epoch 8: Loss: 0.8520, Accuracy: 72.15%\n",
      "Validation - Epoch 8: Loss: 0.6133, Accuracy: 79.72%\n",
      "\n",
      "Validation loss improved. Model saved to resnet18_best.pth\n"
     ]
    },
    {
     "name": "stderr",
     "output_type": "stream",
     "text": [
      "Epoch 9/50: 100%|██████████| 1979/1979 [04:19<00:00,  7.62it/s, loss=0.6882, avg_loss=0.6343, accuracy=78.78%]\n"
     ]
    },
    {
     "name": "stdout",
     "output_type": "stream",
     "text": [
      "\n",
      "Training - Epoch 9: Loss: 0.6343, Accuracy: 78.78%\n",
      "Validation - Epoch 9: Loss: 0.4000, Accuracy: 87.27%\n",
      "\n",
      "Validation loss improved. Model saved to resnet18_best.pth\n"
     ]
    },
    {
     "name": "stderr",
     "output_type": "stream",
     "text": [
      "Epoch 10/50: 100%|██████████| 1979/1979 [04:19<00:00,  7.61it/s, loss=0.3288, avg_loss=0.4469, accuracy=84.98%]\n"
     ]
    },
    {
     "name": "stdout",
     "output_type": "stream",
     "text": [
      "\n",
      "Training - Epoch 10: Loss: 0.4469, Accuracy: 84.98%\n",
      "Validation - Epoch 10: Loss: 0.2723, Accuracy: 91.13%\n",
      "\n",
      "Validation loss improved. Model saved to resnet18_best.pth\n"
     ]
    },
    {
     "name": "stderr",
     "output_type": "stream",
     "text": [
      "Epoch 11/50: 100%|██████████| 1979/1979 [04:22<00:00,  7.53it/s, loss=0.2421, avg_loss=0.3321, accuracy=88.91%]\n"
     ]
    },
    {
     "name": "stdout",
     "output_type": "stream",
     "text": [
      "\n",
      "Training - Epoch 11: Loss: 0.3321, Accuracy: 88.91%\n",
      "Validation - Epoch 11: Loss: 0.1794, Accuracy: 94.52%\n",
      "\n",
      "Validation loss improved. Model saved to resnet18_best.pth\n"
     ]
    },
    {
     "name": "stderr",
     "output_type": "stream",
     "text": [
      "Epoch 12/50: 100%|██████████| 1979/1979 [04:20<00:00,  7.61it/s, loss=0.1303, avg_loss=0.2580, accuracy=91.63%]\n"
     ]
    },
    {
     "name": "stdout",
     "output_type": "stream",
     "text": [
      "\n",
      "Training - Epoch 12: Loss: 0.2580, Accuracy: 91.63%\n",
      "Validation - Epoch 12: Loss: 0.1940, Accuracy: 93.84%\n",
      "\n",
      "No improvement for 1 epoch(s).\n"
     ]
    },
    {
     "name": "stderr",
     "output_type": "stream",
     "text": [
      "Epoch 13/50: 100%|██████████| 1979/1979 [04:19<00:00,  7.63it/s, loss=0.1382, avg_loss=0.2173, accuracy=93.12%]\n"
     ]
    },
    {
     "name": "stdout",
     "output_type": "stream",
     "text": [
      "\n",
      "Training - Epoch 13: Loss: 0.2173, Accuracy: 93.12%\n",
      "Validation - Epoch 13: Loss: 0.1369, Accuracy: 95.89%\n",
      "\n",
      "Validation loss improved. Model saved to resnet18_best.pth\n"
     ]
    },
    {
     "name": "stderr",
     "output_type": "stream",
     "text": [
      "Epoch 14/50: 100%|██████████| 1979/1979 [04:18<00:00,  7.66it/s, loss=0.2152, avg_loss=0.1892, accuracy=94.11%]\n"
     ]
    },
    {
     "name": "stdout",
     "output_type": "stream",
     "text": [
      "\n",
      "Training - Epoch 14: Loss: 0.1892, Accuracy: 94.11%\n",
      "Validation - Epoch 14: Loss: 0.1346, Accuracy: 96.15%\n",
      "\n",
      "Validation loss improved. Model saved to resnet18_best.pth\n"
     ]
    },
    {
     "name": "stderr",
     "output_type": "stream",
     "text": [
      "Epoch 15/50: 100%|██████████| 1979/1979 [04:18<00:00,  7.65it/s, loss=0.1102, avg_loss=0.1739, accuracy=94.74%]\n"
     ]
    },
    {
     "name": "stdout",
     "output_type": "stream",
     "text": [
      "\n",
      "Training - Epoch 15: Loss: 0.1739, Accuracy: 94.74%\n",
      "Validation - Epoch 15: Loss: 0.0957, Accuracy: 97.21%\n",
      "\n",
      "Validation loss improved. Model saved to resnet18_best.pth\n"
     ]
    },
    {
     "name": "stderr",
     "output_type": "stream",
     "text": [
      "Epoch 16/50: 100%|██████████| 1979/1979 [04:19<00:00,  7.63it/s, loss=0.3050, avg_loss=0.1544, accuracy=95.31%]\n"
     ]
    },
    {
     "name": "stdout",
     "output_type": "stream",
     "text": [
      "\n",
      "Training - Epoch 16: Loss: 0.1544, Accuracy: 95.31%\n",
      "Validation - Epoch 16: Loss: 0.0981, Accuracy: 97.23%\n",
      "\n",
      "No improvement for 1 epoch(s).\n"
     ]
    },
    {
     "name": "stderr",
     "output_type": "stream",
     "text": [
      "Epoch 17/50: 100%|██████████| 1979/1979 [04:18<00:00,  7.66it/s, loss=0.2915, avg_loss=0.1451, accuracy=95.69%]\n"
     ]
    },
    {
     "name": "stdout",
     "output_type": "stream",
     "text": [
      "\n",
      "Training - Epoch 17: Loss: 0.1451, Accuracy: 95.69%\n",
      "Validation - Epoch 17: Loss: 0.0821, Accuracy: 97.61%\n",
      "\n",
      "Validation loss improved. Model saved to resnet18_best.pth\n"
     ]
    },
    {
     "name": "stderr",
     "output_type": "stream",
     "text": [
      "Epoch 18/50: 100%|██████████| 1979/1979 [04:17<00:00,  7.68it/s, loss=0.0425, avg_loss=0.1321, accuracy=96.01%]\n"
     ]
    },
    {
     "name": "stdout",
     "output_type": "stream",
     "text": [
      "\n",
      "Training - Epoch 18: Loss: 0.1321, Accuracy: 96.01%\n",
      "Validation - Epoch 18: Loss: 0.0818, Accuracy: 97.62%\n",
      "\n",
      "Validation loss improved. Model saved to resnet18_best.pth\n"
     ]
    },
    {
     "name": "stderr",
     "output_type": "stream",
     "text": [
      "Epoch 19/50: 100%|██████████| 1979/1979 [04:18<00:00,  7.67it/s, loss=0.0386, avg_loss=0.1221, accuracy=96.30%]\n"
     ]
    },
    {
     "name": "stdout",
     "output_type": "stream",
     "text": [
      "\n",
      "Training - Epoch 19: Loss: 0.1221, Accuracy: 96.30%\n",
      "Validation - Epoch 19: Loss: 0.0990, Accuracy: 96.92%\n",
      "\n",
      "No improvement for 1 epoch(s).\n"
     ]
    },
    {
     "name": "stderr",
     "output_type": "stream",
     "text": [
      "Epoch 20/50: 100%|██████████| 1979/1979 [04:19<00:00,  7.62it/s, loss=0.1349, avg_loss=0.1165, accuracy=96.42%]\n"
     ]
    },
    {
     "name": "stdout",
     "output_type": "stream",
     "text": [
      "\n",
      "Training - Epoch 20: Loss: 0.1165, Accuracy: 96.42%\n",
      "Validation - Epoch 20: Loss: 0.0675, Accuracy: 98.00%\n",
      "\n",
      "Validation loss improved. Model saved to resnet18_best.pth\n"
     ]
    },
    {
     "name": "stderr",
     "output_type": "stream",
     "text": [
      "Epoch 21/50: 100%|██████████| 1979/1979 [04:19<00:00,  7.63it/s, loss=0.1084, avg_loss=0.1008, accuracy=96.92%]\n"
     ]
    },
    {
     "name": "stdout",
     "output_type": "stream",
     "text": [
      "\n",
      "Training - Epoch 21: Loss: 0.1008, Accuracy: 96.92%\n",
      "Validation - Epoch 21: Loss: 0.0674, Accuracy: 97.99%\n",
      "\n",
      "Validation loss improved. Model saved to resnet18_best.pth\n"
     ]
    },
    {
     "name": "stderr",
     "output_type": "stream",
     "text": [
      "Epoch 22/50: 100%|██████████| 1979/1979 [04:23<00:00,  7.51it/s, loss=0.2265, avg_loss=0.1027, accuracy=96.73%]\n"
     ]
    },
    {
     "name": "stdout",
     "output_type": "stream",
     "text": [
      "\n",
      "Training - Epoch 22: Loss: 0.1027, Accuracy: 96.73%\n",
      "Validation - Epoch 22: Loss: 0.0475, Accuracy: 98.61%\n",
      "\n",
      "Validation loss improved. Model saved to resnet18_best.pth\n"
     ]
    },
    {
     "name": "stderr",
     "output_type": "stream",
     "text": [
      "Epoch 23/50: 100%|██████████| 1979/1979 [04:19<00:00,  7.64it/s, loss=0.0093, avg_loss=0.0943, accuracy=96.98%]\n"
     ]
    },
    {
     "name": "stdout",
     "output_type": "stream",
     "text": [
      "\n",
      "Training - Epoch 23: Loss: 0.0943, Accuracy: 96.98%\n",
      "Validation - Epoch 23: Loss: 0.0425, Accuracy: 98.67%\n",
      "\n",
      "Validation loss improved. Model saved to resnet18_best.pth\n"
     ]
    },
    {
     "name": "stderr",
     "output_type": "stream",
     "text": [
      "Epoch 24/50: 100%|██████████| 1979/1979 [04:18<00:00,  7.65it/s, loss=0.1346, avg_loss=0.0919, accuracy=97.01%]\n"
     ]
    },
    {
     "name": "stdout",
     "output_type": "stream",
     "text": [
      "\n",
      "Training - Epoch 24: Loss: 0.0919, Accuracy: 97.01%\n",
      "Validation - Epoch 24: Loss: 0.0464, Accuracy: 98.50%\n",
      "\n",
      "No improvement for 1 epoch(s).\n"
     ]
    },
    {
     "name": "stderr",
     "output_type": "stream",
     "text": [
      "Epoch 25/50: 100%|██████████| 1979/1979 [04:19<00:00,  7.63it/s, loss=0.2436, avg_loss=0.0851, accuracy=97.24%]\n"
     ]
    },
    {
     "name": "stdout",
     "output_type": "stream",
     "text": [
      "\n",
      "Training - Epoch 25: Loss: 0.0851, Accuracy: 97.24%\n",
      "Validation - Epoch 25: Loss: 0.0537, Accuracy: 98.23%\n",
      "\n",
      "No improvement for 2 epoch(s).\n"
     ]
    },
    {
     "name": "stderr",
     "output_type": "stream",
     "text": [
      "Epoch 26/50: 100%|██████████| 1979/1979 [04:18<00:00,  7.67it/s, loss=0.0355, avg_loss=0.0825, accuracy=97.30%]\n"
     ]
    },
    {
     "name": "stdout",
     "output_type": "stream",
     "text": [
      "\n",
      "Training - Epoch 26: Loss: 0.0825, Accuracy: 97.30%\n",
      "Validation - Epoch 26: Loss: 0.0409, Accuracy: 98.68%\n",
      "\n",
      "Validation loss improved. Model saved to resnet18_best.pth\n"
     ]
    },
    {
     "name": "stderr",
     "output_type": "stream",
     "text": [
      "Epoch 27/50: 100%|██████████| 1979/1979 [04:18<00:00,  7.65it/s, loss=0.0905, avg_loss=0.0761, accuracy=97.50%]\n"
     ]
    },
    {
     "name": "stdout",
     "output_type": "stream",
     "text": [
      "\n",
      "Training - Epoch 27: Loss: 0.0761, Accuracy: 97.50%\n",
      "Validation - Epoch 27: Loss: 0.0624, Accuracy: 97.89%\n",
      "\n",
      "No improvement for 1 epoch(s).\n"
     ]
    },
    {
     "name": "stderr",
     "output_type": "stream",
     "text": [
      "Epoch 28/50: 100%|██████████| 1979/1979 [04:20<00:00,  7.61it/s, loss=0.0303, avg_loss=0.0794, accuracy=97.36%]\n"
     ]
    },
    {
     "name": "stdout",
     "output_type": "stream",
     "text": [
      "\n",
      "Training - Epoch 28: Loss: 0.0794, Accuracy: 97.36%\n",
      "Validation - Epoch 28: Loss: 0.0494, Accuracy: 98.30%\n",
      "\n",
      "No improvement for 2 epoch(s).\n"
     ]
    },
    {
     "name": "stderr",
     "output_type": "stream",
     "text": [
      "Epoch 29/50: 100%|██████████| 1979/1979 [04:19<00:00,  7.62it/s, loss=0.0034, avg_loss=0.0765, accuracy=97.30%]\n"
     ]
    },
    {
     "name": "stdout",
     "output_type": "stream",
     "text": [
      "\n",
      "Training - Epoch 29: Loss: 0.0765, Accuracy: 97.30%\n",
      "Validation - Epoch 29: Loss: 0.0380, Accuracy: 98.67%\n",
      "\n",
      "Validation loss improved. Model saved to resnet18_best.pth\n"
     ]
    },
    {
     "name": "stderr",
     "output_type": "stream",
     "text": [
      "Epoch 30/50: 100%|██████████| 1979/1979 [04:19<00:00,  7.61it/s, loss=0.0569, avg_loss=0.0676, accuracy=97.68%]\n"
     ]
    },
    {
     "name": "stdout",
     "output_type": "stream",
     "text": [
      "\n",
      "Training - Epoch 30: Loss: 0.0676, Accuracy: 97.68%\n",
      "Validation - Epoch 30: Loss: 0.0500, Accuracy: 98.29%\n",
      "\n",
      "No improvement for 1 epoch(s).\n"
     ]
    },
    {
     "name": "stderr",
     "output_type": "stream",
     "text": [
      "Epoch 31/50: 100%|██████████| 1979/1979 [04:22<00:00,  7.53it/s, loss=0.0496, avg_loss=0.0684, accuracy=97.67%]\n"
     ]
    },
    {
     "name": "stdout",
     "output_type": "stream",
     "text": [
      "\n",
      "Training - Epoch 31: Loss: 0.0684, Accuracy: 97.67%\n",
      "Validation - Epoch 31: Loss: 0.0366, Accuracy: 98.68%\n",
      "\n",
      "Validation loss improved. Model saved to resnet18_best.pth\n"
     ]
    },
    {
     "name": "stderr",
     "output_type": "stream",
     "text": [
      "Epoch 32/50: 100%|██████████| 1979/1979 [04:21<00:00,  7.57it/s, loss=0.0245, avg_loss=0.0665, accuracy=97.65%]\n"
     ]
    },
    {
     "name": "stdout",
     "output_type": "stream",
     "text": [
      "\n",
      "Training - Epoch 32: Loss: 0.0665, Accuracy: 97.65%\n",
      "Validation - Epoch 32: Loss: 0.0382, Accuracy: 98.66%\n",
      "\n",
      "No improvement for 1 epoch(s).\n"
     ]
    },
    {
     "name": "stderr",
     "output_type": "stream",
     "text": [
      "Epoch 33/50: 100%|██████████| 1979/1979 [04:17<00:00,  7.70it/s, loss=0.1364, avg_loss=0.0614, accuracy=97.83%]\n"
     ]
    },
    {
     "name": "stdout",
     "output_type": "stream",
     "text": [
      "\n",
      "Training - Epoch 33: Loss: 0.0614, Accuracy: 97.83%\n",
      "Validation - Epoch 33: Loss: 0.0310, Accuracy: 98.85%\n",
      "\n",
      "Validation loss improved. Model saved to resnet18_best.pth\n"
     ]
    },
    {
     "name": "stderr",
     "output_type": "stream",
     "text": [
      "Epoch 34/50: 100%|██████████| 1979/1979 [04:16<00:00,  7.71it/s, loss=0.1101, avg_loss=0.0649, accuracy=97.71%]\n"
     ]
    },
    {
     "name": "stdout",
     "output_type": "stream",
     "text": [
      "\n",
      "Training - Epoch 34: Loss: 0.0649, Accuracy: 97.71%\n",
      "Validation - Epoch 34: Loss: 0.0343, Accuracy: 98.76%\n",
      "\n",
      "No improvement for 1 epoch(s).\n"
     ]
    },
    {
     "name": "stderr",
     "output_type": "stream",
     "text": [
      "Epoch 35/50: 100%|██████████| 1979/1979 [04:16<00:00,  7.70it/s, loss=0.0804, avg_loss=0.0602, accuracy=97.80%]\n"
     ]
    },
    {
     "name": "stdout",
     "output_type": "stream",
     "text": [
      "\n",
      "Training - Epoch 35: Loss: 0.0602, Accuracy: 97.80%\n",
      "Validation - Epoch 35: Loss: 0.0433, Accuracy: 98.46%\n",
      "\n",
      "No improvement for 2 epoch(s).\n"
     ]
    },
    {
     "name": "stderr",
     "output_type": "stream",
     "text": [
      "Epoch 36/50: 100%|██████████| 1979/1979 [04:19<00:00,  7.62it/s, loss=0.0243, avg_loss=0.0553, accuracy=97.98%]\n"
     ]
    },
    {
     "name": "stdout",
     "output_type": "stream",
     "text": [
      "\n",
      "Training - Epoch 36: Loss: 0.0553, Accuracy: 97.98%\n",
      "Validation - Epoch 36: Loss: 0.0286, Accuracy: 98.98%\n",
      "\n",
      "Validation loss improved. Model saved to resnet18_best.pth\n"
     ]
    },
    {
     "name": "stderr",
     "output_type": "stream",
     "text": [
      "Epoch 37/50: 100%|██████████| 1979/1979 [04:26<00:00,  7.44it/s, loss=0.2188, avg_loss=0.0593, accuracy=97.79%]\n"
     ]
    },
    {
     "name": "stdout",
     "output_type": "stream",
     "text": [
      "\n",
      "Training - Epoch 37: Loss: 0.0593, Accuracy: 97.79%\n",
      "Validation - Epoch 37: Loss: 0.0299, Accuracy: 98.89%\n",
      "\n",
      "No improvement for 1 epoch(s).\n"
     ]
    },
    {
     "name": "stderr",
     "output_type": "stream",
     "text": [
      "Epoch 38/50: 100%|██████████| 1979/1979 [04:27<00:00,  7.39it/s, loss=0.0125, avg_loss=0.0568, accuracy=97.94%]\n"
     ]
    },
    {
     "name": "stdout",
     "output_type": "stream",
     "text": [
      "\n",
      "Training - Epoch 38: Loss: 0.0568, Accuracy: 97.94%\n",
      "Validation - Epoch 38: Loss: 0.0350, Accuracy: 98.71%\n",
      "\n",
      "No improvement for 2 epoch(s).\n"
     ]
    },
    {
     "name": "stderr",
     "output_type": "stream",
     "text": [
      "Epoch 39/50: 100%|██████████| 1979/1979 [04:24<00:00,  7.47it/s, loss=0.0071, avg_loss=0.0524, accuracy=98.01%]\n"
     ]
    },
    {
     "name": "stdout",
     "output_type": "stream",
     "text": [
      "\n",
      "Training - Epoch 39: Loss: 0.0524, Accuracy: 98.01%\n",
      "Validation - Epoch 39: Loss: 0.0392, Accuracy: 98.58%\n",
      "\n",
      "No improvement for 3 epoch(s).\n"
     ]
    },
    {
     "name": "stderr",
     "output_type": "stream",
     "text": [
      "Epoch 40/50: 100%|██████████| 1979/1979 [04:17<00:00,  7.69it/s, loss=0.0454, avg_loss=0.0551, accuracy=97.98%]\n"
     ]
    },
    {
     "name": "stdout",
     "output_type": "stream",
     "text": [
      "\n",
      "Training - Epoch 40: Loss: 0.0551, Accuracy: 97.98%\n",
      "Validation - Epoch 40: Loss: 0.0348, Accuracy: 98.71%\n",
      "\n",
      "No improvement for 4 epoch(s).\n"
     ]
    },
    {
     "name": "stderr",
     "output_type": "stream",
     "text": [
      "Epoch 41/50: 100%|██████████| 1979/1979 [04:17<00:00,  7.69it/s, loss=0.1325, avg_loss=0.0504, accuracy=98.11%]\n"
     ]
    },
    {
     "name": "stdout",
     "output_type": "stream",
     "text": [
      "\n",
      "Training - Epoch 41: Loss: 0.0504, Accuracy: 98.11%\n",
      "Validation - Epoch 41: Loss: 0.0311, Accuracy: 98.82%\n",
      "\n",
      "No improvement for 5 epoch(s).\n"
     ]
    },
    {
     "name": "stderr",
     "output_type": "stream",
     "text": [
      "Epoch 42/50: 100%|██████████| 1979/1979 [04:19<00:00,  7.64it/s, loss=0.0945, avg_loss=0.0533, accuracy=97.99%]\n"
     ]
    },
    {
     "name": "stdout",
     "output_type": "stream",
     "text": [
      "\n",
      "Training - Epoch 42: Loss: 0.0533, Accuracy: 97.99%\n",
      "Validation - Epoch 42: Loss: 0.0314, Accuracy: 98.82%\n",
      "\n",
      "No improvement for 6 epoch(s).\n"
     ]
    },
    {
     "name": "stderr",
     "output_type": "stream",
     "text": [
      "Epoch 43/50: 100%|██████████| 1979/1979 [04:19<00:00,  7.64it/s, loss=0.0081, avg_loss=0.0483, accuracy=98.14%]\n"
     ]
    },
    {
     "name": "stdout",
     "output_type": "stream",
     "text": [
      "\n",
      "Training - Epoch 43: Loss: 0.0483, Accuracy: 98.14%\n",
      "Validation - Epoch 43: Loss: 0.0219, Accuracy: 99.13%\n",
      "\n",
      "Validation loss improved. Model saved to resnet18_best.pth\n"
     ]
    },
    {
     "name": "stderr",
     "output_type": "stream",
     "text": [
      "Epoch 44/50: 100%|██████████| 1979/1979 [04:30<00:00,  7.32it/s, loss=0.0271, avg_loss=0.0520, accuracy=98.05%]\n"
     ]
    },
    {
     "name": "stdout",
     "output_type": "stream",
     "text": [
      "\n",
      "Training - Epoch 44: Loss: 0.0520, Accuracy: 98.05%\n",
      "Validation - Epoch 44: Loss: 0.0311, Accuracy: 98.78%\n",
      "\n",
      "No improvement for 1 epoch(s).\n"
     ]
    },
    {
     "name": "stderr",
     "output_type": "stream",
     "text": [
      "Epoch 45/50: 100%|██████████| 1979/1979 [04:17<00:00,  7.70it/s, loss=0.1418, avg_loss=0.0489, accuracy=98.11%]\n"
     ]
    },
    {
     "name": "stdout",
     "output_type": "stream",
     "text": [
      "\n",
      "Training - Epoch 45: Loss: 0.0489, Accuracy: 98.11%\n",
      "Validation - Epoch 45: Loss: 0.0358, Accuracy: 98.62%\n",
      "\n",
      "No improvement for 2 epoch(s).\n"
     ]
    },
    {
     "name": "stderr",
     "output_type": "stream",
     "text": [
      "Epoch 46/50: 100%|██████████| 1979/1979 [04:19<00:00,  7.64it/s, loss=0.0050, avg_loss=0.0483, accuracy=98.19%]\n"
     ]
    },
    {
     "name": "stdout",
     "output_type": "stream",
     "text": [
      "\n",
      "Training - Epoch 46: Loss: 0.0483, Accuracy: 98.19%\n",
      "Validation - Epoch 46: Loss: 0.0388, Accuracy: 98.59%\n",
      "\n",
      "No improvement for 3 epoch(s).\n"
     ]
    },
    {
     "name": "stderr",
     "output_type": "stream",
     "text": [
      "Epoch 47/50: 100%|██████████| 1979/1979 [04:18<00:00,  7.65it/s, loss=0.0249, avg_loss=0.0468, accuracy=98.20%]\n"
     ]
    },
    {
     "name": "stdout",
     "output_type": "stream",
     "text": [
      "\n",
      "Training - Epoch 47: Loss: 0.0468, Accuracy: 98.20%\n",
      "Validation - Epoch 47: Loss: 0.0303, Accuracy: 98.80%\n",
      "\n",
      "No improvement for 4 epoch(s).\n"
     ]
    },
    {
     "name": "stderr",
     "output_type": "stream",
     "text": [
      "Epoch 48/50: 100%|██████████| 1979/1979 [04:18<00:00,  7.66it/s, loss=0.0056, avg_loss=0.0446, accuracy=98.29%]\n"
     ]
    },
    {
     "name": "stdout",
     "output_type": "stream",
     "text": [
      "\n",
      "Training - Epoch 48: Loss: 0.0446, Accuracy: 98.29%\n",
      "Validation - Epoch 48: Loss: 0.0292, Accuracy: 98.84%\n",
      "\n",
      "No improvement for 5 epoch(s).\n"
     ]
    },
    {
     "name": "stderr",
     "output_type": "stream",
     "text": [
      "Epoch 49/50: 100%|██████████| 1979/1979 [04:18<00:00,  7.64it/s, loss=0.0063, avg_loss=0.0465, accuracy=98.14%]\n"
     ]
    },
    {
     "name": "stdout",
     "output_type": "stream",
     "text": [
      "\n",
      "Training - Epoch 49: Loss: 0.0465, Accuracy: 98.14%\n",
      "Validation - Epoch 49: Loss: 0.0224, Accuracy: 99.08%\n",
      "\n",
      "No improvement for 6 epoch(s).\n"
     ]
    },
    {
     "name": "stderr",
     "output_type": "stream",
     "text": [
      "Epoch 50/50: 100%|██████████| 1979/1979 [04:18<00:00,  7.67it/s, loss=0.0126, avg_loss=0.0413, accuracy=98.35%]\n"
     ]
    },
    {
     "name": "stdout",
     "output_type": "stream",
     "text": [
      "\n",
      "Training - Epoch 50: Loss: 0.0413, Accuracy: 98.35%\n",
      "Validation - Epoch 50: Loss: 0.0240, Accuracy: 99.01%\n",
      "\n",
      "No improvement for 7 epoch(s).\n",
      "Training complete or interrupted.\n"
     ]
    },
    {
     "data": {
      "image/png": "[encoded data removed]",
      "text/plain": [
       "<Figure size 1000x500 with 1 Axes>"
      ]
     },
     "metadata": {},
     "output_type": "display_data"
    }
   ],
   "source": [
    "num_epochs = 50\n",
    "patience = 10\n",
    "best_model_path = \"resnet18_best.pth\"\n",
    "best_val_loss = np.inf\n",
    "\n",
    "device = torch.device(\"cuda\" if torch.cuda.is_available() else \"cpu\")\n",
    "print(f\"Using device: {device}\")\n",
    "\n",
    "model = ResNet18()\n",
    "model.to(device)\n",
    "\n",
    "criterion = nn.CrossEntropyLoss()\n",
    "\n",
    "optimizer = optim.Adam(model.parameters(), lr=0.001)\n",
    "\n",
    "# Lists to store loss values\n",
    "train_losses = []\n",
    "val_losses = []\n",
    "\n",
    "try:\n",
    "    for epoch in range(num_epochs):\n",
    "        model.train()\n",
    "        running_loss = 0.0\n",
    "        correct = 0\n",
    "        total = 0\n",
    "\n",
    "        progress_bar = tqdm(train_loader, desc=f\"Epoch {epoch+1}/{num_epochs}\")\n",
    "\n",
    "        for batch_idx, (images, labels) in enumerate(progress_bar):\n",
    "            images, labels = images.to(device), labels.to(device)\n",
    "\n",
    "            optimizer.zero_grad()\n",
    "            outputs = model(images)\n",
    "            loss = criterion(outputs, labels)\n",
    "            loss.backward()\n",
    "            optimizer.step()\n",
    "\n",
    "            running_loss += loss.item()\n",
    "            _, predicted = torch.max(outputs.data, 1)\n",
    "            total += labels.size(0)\n",
    "            correct += (predicted == labels).sum().item()\n",
    "\n",
    "            progress_bar.set_postfix({\n",
    "                'loss': f\"{loss.item():.4f}\",\n",
    "                'avg_loss': f\"{running_loss/(batch_idx+1):.4f}\",\n",
    "                'accuracy': f\"{100 * correct / total:.2f}%\"\n",
    "            })\n",
    "\n",
    "        epoch_loss = running_loss / len(train_loader)\n",
    "        train_losses.append(epoch_loss)\n",
    "        epoch_accuracy = 100 * correct / total\n",
    "        print(f\"\\nTraining - Epoch {epoch+1}: Loss: {epoch_loss:.4f}, Accuracy: {epoch_accuracy:.2f}%\")\n",
    "\n",
    "        # Validation\n",
    "        model.eval()\n",
    "        val_loss = 0.0\n",
    "        val_correct = 0\n",
    "        val_total = 0\n",
    "\n",
    "        with torch.no_grad():\n",
    "            for images, labels in val_loader:\n",
    "                images, labels = images.to(device), labels.to(device)\n",
    "                outputs = model(images)\n",
    "                loss = criterion(outputs, labels)\n",
    "                val_loss += loss.item()\n",
    "                _, predicted = torch.max(outputs.data, 1)\n",
    "                val_total += labels.size(0)\n",
    "                val_correct += (predicted == labels).sum().item()\n",
    "\n",
    "        val_epoch_loss = val_loss / len(val_loader)\n",
    "        val_losses.append(val_epoch_loss)\n",
    "        val_epoch_accuracy = 100 * val_correct / val_total\n",
    "        print(f\"Validation - Epoch {epoch+1}: Loss: {val_epoch_loss:.4f}, Accuracy: {val_epoch_accuracy:.2f}%\\n\")\n",
    "\n",
    "        # Check for improvement\n",
    "        if val_epoch_loss < best_val_loss:\n",
    "            best_val_loss = val_epoch_loss\n",
    "            epochs_no_improve = 0\n",
    "            torch.save(model.state_dict(), best_model_path)\n",
    "            print(f\"Validation loss improved. Model saved to {best_model_path}\")\n",
    "        else:\n",
    "            epochs_no_improve += 1\n",
    "            print(f\"No improvement for {epochs_no_improve} epoch(s).\")\n",
    "\n",
    "        # Early stopping\n",
    "        if epochs_no_improve >= patience:\n",
    "            print(f\"Early stopping triggered after {epoch+1} epochs!\")\n",
    "            break\n",
    "\n",
    "except KeyboardInterrupt:\n",
    "    print(\"\\nTraining interrupted by user.\")\n",
    "    # Optionally save latest model\n",
    "    torch.save(model.state_dict(), \"resnet18_interrupt.pth\")\n",
    "    print(\"Model saved after interrupt as 'resnet18_interrupt.pth'.\")\n",
    "\n",
    "finally:\n",
    "    print(\"Training complete or interrupted.\")\n",
    "    # Plot losses\n",
    "    plt.figure(figsize=(10, 5))\n",
    "    plt.plot(range(1, len(train_losses) + 1), train_losses, label=\"Training Loss\", marker='o')\n",
    "    plt.plot(range(1, len(val_losses) + 1), val_losses, label=\"Validation Loss\", marker='s')\n",
    "    plt.xlabel(\"Epochs\")\n",
    "    plt.ylabel(\"Loss\")\n",
    "    plt.title(\"Training vs Validation Loss\")\n",
    "    plt.legend()\n",
    "    plt.grid()\n",
    "    plt.show()\n"
   ]
  },
  {
   "cell_type": "markdown",
   "metadata": {},
   "source": [
    "Task A: ResNet18 DynamicConv"
   ]
  },
  {
   "cell_type": "code",
   "execution_count": 19,
   "metadata": {},
   "outputs": [],
   "source": [
    "class BasicBlock(nn.Module):\n",
    "    def __init__(self, in_channels, out_channels, stride=1):\n",
    "        super(BasicBlock, self).__init__()\n",
    "        self.conv1 = nn.Conv2d(in_channels, out_channels, kernel_size=3, stride=stride, padding=1, bias=False)\n",
    "        self.bn1 = nn.BatchNorm2d(out_channels)\n",
    "        self.relu = nn.ReLU(inplace=True)\n",
    "        self.conv2 = nn.Conv2d(out_channels, out_channels, kernel_size=3, stride=1, padding=1, bias=False)\n",
    "        self.bn2 = nn.BatchNorm2d(out_channels)\n",
    "        \n",
    "        self.downsample = nn.Sequential()\n",
    "        if stride != 1 or in_channels != out_channels:\n",
    "            self.downsample = nn.Sequential(\n",
    "                nn.Conv2d(in_channels, out_channels, kernel_size=1, stride=stride, bias=False),\n",
    "                nn.BatchNorm2d(out_channels),\n",
    "            )\n",
    "            \n",
    "    def forward(self, x):\n",
    "        shortcut = self.downsample(x)\n",
    "        out = self.conv1(x)\n",
    "        out = self.bn1(out)\n",
    "        out = self.relu(out)\n",
    "        out = self.conv2(out)\n",
    "        out = self.bn2(out)\n",
    "        out += shortcut\n",
    "        out = self.relu(out)\n",
    "        return out\n",
    "\n",
    "class DynamicConv2d(nn.Module):\n",
    "    def __init__(self, in_channels_max, out_channels, kernel_size, stride=1, padding=0):\n",
    "        super(DynamicConv2d, self).__init__()\n",
    "        self.in_channels_max = in_channels_max\n",
    "        self.out_channels = out_channels\n",
    "        self.kernel_size = kernel_size if isinstance(kernel_size, tuple) else (kernel_size, kernel_size)\n",
    "        self.stride = stride\n",
    "        self.padding = padding\n",
    "\n",
    "        hidden_dim = 128\n",
    "        self.weight_generator = nn.Sequential(\n",
    "            nn.Linear(in_channels_max, hidden_dim),\n",
    "            nn.ReLU(),\n",
    "            nn.Linear(hidden_dim, out_channels * in_channels_max * self.kernel_size[0] * self.kernel_size[1])\n",
    "        )\n",
    "\n",
    "    def forward(self, x):\n",
    "        batch_size, in_channels, H, W = x.size()\n",
    "        input_mask = torch.zeros(self.in_channels_max, device=x.device)\n",
    "        input_mask[:in_channels] = 1.0\n",
    "        weight_vector = self.weight_generator(input_mask)\n",
    "        weight = weight_vector.view(self.out_channels, self.in_channels_max, *self.kernel_size)\n",
    "        weight = weight[:, :in_channels, :, :]\n",
    "        return F.conv2d(x, weight, stride=self.stride, padding=self.padding)\n",
    "\n",
    "\n",
    "class ResNet18_DynamicConv(nn.Module):\n",
    "    def __init__(self, num_classes=50, in_channels_max=3):\n",
    "        super(ResNet18_DynamicConv, self).__init__()\n",
    "        self.in_channels = 64\n",
    "\n",
    "        self.conv1 = DynamicConv2d(in_channels_max, 64, kernel_size=7, stride=2, padding=3) #DynamicConvLayer\n",
    "        \n",
    "        self.bn1 = nn.BatchNorm2d(64)\n",
    "        self.relu = nn.ReLU(inplace=True)\n",
    "        self.maxpool = nn.MaxPool2d(kernel_size=3, stride=2, padding=1)\n",
    "        \n",
    "        self.layer1 = self._make_layer(BasicBlock, 64, 2, stride=1)\n",
    "        self.layer2 = self._make_layer(BasicBlock, 128, 2, stride=2)\n",
    "        self.layer3 = self._make_layer(BasicBlock, 256, 2, stride=2)\n",
    "        self.layer4 = self._make_layer(BasicBlock, 512, 2, stride=2)\n",
    "        \n",
    "        self.avgpool = nn.AdaptiveAvgPool2d((1, 1))\n",
    "        self.fc = nn.Linear(512, num_classes)\n",
    "        \n",
    "    def _make_layer(self, block, out_channels, num_blocks, stride):\n",
    "        layers = []\n",
    "        layers.append(block(self.in_channels, out_channels, stride))\n",
    "        self.in_channels = out_channels\n",
    "        for _ in range(1, num_blocks):\n",
    "            layers.append(block(out_channels, out_channels, stride=1))\n",
    "        return nn.Sequential(*layers)\n",
    "        \n",
    "    def forward(self, x):\n",
    "        x = self.conv1(x)  # dynamic conv layer\n",
    "        x = self.bn1(x)\n",
    "        x = self.relu(x)\n",
    "        x = self.maxpool(x)\n",
    "        \n",
    "        x = self.layer1(x)\n",
    "        x = self.layer2(x)\n",
    "        x = self.layer3(x)\n",
    "        x = self.layer4(x)\n",
    "        \n",
    "        x = self.avgpool(x)\n",
    "        x = x.view(x.size(0), -1)\n",
    "        x = self.fc(x)\n",
    "        return x\n"
   ]
  },
  {
   "cell_type": "code",
   "execution_count": 20,
   "metadata": {},
   "outputs": [
    {
     "data": {
      "text/plain": [
       "==========================================================================================\n",
       "Layer (type:depth-idx)                   Output Shape              Param #\n",
       "==========================================================================================\n",
       "ResNet18_DynamicConv                     [1, 50]                   --\n",
       "├─DynamicConv2d: 1-1                     [1, 64, 112, 112]         --\n",
       "│    └─Sequential: 2-1                   [9408]                    --\n",
       "│    │    └─Linear: 3-1                  [128]                     512\n",
       "│    │    └─ReLU: 3-2                    [128]                     --\n",
       "│    │    └─Linear: 3-3                  [9408]                    1,213,632\n",
       "├─BatchNorm2d: 1-2                       [1, 64, 112, 112]         128\n",
       "├─ReLU: 1-3                              [1, 64, 112, 112]         --\n",
       "├─MaxPool2d: 1-4                         [1, 64, 56, 56]           --\n",
       "├─Sequential: 1-5                        [1, 64, 56, 56]           --\n",
       "│    └─BasicBlock: 2-2                   [1, 64, 56, 56]           --\n",
       "│    │    └─Sequential: 3-4              [1, 64, 56, 56]           --\n",
       "│    │    └─Conv2d: 3-5                  [1, 64, 56, 56]           36,864\n",
       "│    │    └─BatchNorm2d: 3-6             [1, 64, 56, 56]           128\n",
       "│    │    └─ReLU: 3-7                    [1, 64, 56, 56]           --\n",
       "│    │    └─Conv2d: 3-8                  [1, 64, 56, 56]           36,864\n",
       "│    │    └─BatchNorm2d: 3-9             [1, 64, 56, 56]           128\n",
       "│    │    └─ReLU: 3-10                   [1, 64, 56, 56]           --\n",
       "│    └─BasicBlock: 2-3                   [1, 64, 56, 56]           --\n",
       "│    │    └─Sequential: 3-11             [1, 64, 56, 56]           --\n",
       "│    │    └─Conv2d: 3-12                 [1, 64, 56, 56]           36,864\n",
       "│    │    └─BatchNorm2d: 3-13            [1, 64, 56, 56]           128\n",
       "│    │    └─ReLU: 3-14                   [1, 64, 56, 56]           --\n",
       "│    │    └─Conv2d: 3-15                 [1, 64, 56, 56]           36,864\n",
       "│    │    └─BatchNorm2d: 3-16            [1, 64, 56, 56]           128\n",
       "│    │    └─ReLU: 3-17                   [1, 64, 56, 56]           --\n",
       "├─Sequential: 1-6                        [1, 128, 28, 28]          --\n",
       "│    └─BasicBlock: 2-4                   [1, 128, 28, 28]          --\n",
       "│    │    └─Sequential: 3-18             [1, 128, 28, 28]          8,448\n",
       "│    │    └─Conv2d: 3-19                 [1, 128, 28, 28]          73,728\n",
       "│    │    └─BatchNorm2d: 3-20            [1, 128, 28, 28]          256\n",
       "│    │    └─ReLU: 3-21                   [1, 128, 28, 28]          --\n",
       "│    │    └─Conv2d: 3-22                 [1, 128, 28, 28]          147,456\n",
       "│    │    └─BatchNorm2d: 3-23            [1, 128, 28, 28]          256\n",
       "│    │    └─ReLU: 3-24                   [1, 128, 28, 28]          --\n",
       "│    └─BasicBlock: 2-5                   [1, 128, 28, 28]          --\n",
       "│    │    └─Sequential: 3-25             [1, 128, 28, 28]          --\n",
       "│    │    └─Conv2d: 3-26                 [1, 128, 28, 28]          147,456\n",
       "│    │    └─BatchNorm2d: 3-27            [1, 128, 28, 28]          256\n",
       "│    │    └─ReLU: 3-28                   [1, 128, 28, 28]          --\n",
       "│    │    └─Conv2d: 3-29                 [1, 128, 28, 28]          147,456\n",
       "│    │    └─BatchNorm2d: 3-30            [1, 128, 28, 28]          256\n",
       "│    │    └─ReLU: 3-31                   [1, 128, 28, 28]          --\n",
       "├─Sequential: 1-7                        [1, 256, 14, 14]          --\n",
       "│    └─BasicBlock: 2-6                   [1, 256, 14, 14]          --\n",
       "│    │    └─Sequential: 3-32             [1, 256, 14, 14]          33,280\n",
       "│    │    └─Conv2d: 3-33                 [1, 256, 14, 14]          294,912\n",
       "│    │    └─BatchNorm2d: 3-34            [1, 256, 14, 14]          512\n",
       "│    │    └─ReLU: 3-35                   [1, 256, 14, 14]          --\n",
       "│    │    └─Conv2d: 3-36                 [1, 256, 14, 14]          589,824\n",
       "│    │    └─BatchNorm2d: 3-37            [1, 256, 14, 14]          512\n",
       "│    │    └─ReLU: 3-38                   [1, 256, 14, 14]          --\n",
       "│    └─BasicBlock: 2-7                   [1, 256, 14, 14]          --\n",
       "│    │    └─Sequential: 3-39             [1, 256, 14, 14]          --\n",
       "│    │    └─Conv2d: 3-40                 [1, 256, 14, 14]          589,824\n",
       "│    │    └─BatchNorm2d: 3-41            [1, 256, 14, 14]          512\n",
       "│    │    └─ReLU: 3-42                   [1, 256, 14, 14]          --\n",
       "│    │    └─Conv2d: 3-43                 [1, 256, 14, 14]          589,824\n",
       "│    │    └─BatchNorm2d: 3-44            [1, 256, 14, 14]          512\n",
       "│    │    └─ReLU: 3-45                   [1, 256, 14, 14]          --\n",
       "├─Sequential: 1-8                        [1, 512, 7, 7]            --\n",
       "│    └─BasicBlock: 2-8                   [1, 512, 7, 7]            --\n",
       "│    │    └─Sequential: 3-46             [1, 512, 7, 7]            132,096\n",
       "│    │    └─Conv2d: 3-47                 [1, 512, 7, 7]            1,179,648\n",
       "│    │    └─BatchNorm2d: 3-48            [1, 512, 7, 7]            1,024\n",
       "│    │    └─ReLU: 3-49                   [1, 512, 7, 7]            --\n",
       "│    │    └─Conv2d: 3-50                 [1, 512, 7, 7]            2,359,296\n",
       "│    │    └─BatchNorm2d: 3-51            [1, 512, 7, 7]            1,024\n",
       "│    │    └─ReLU: 3-52                   [1, 512, 7, 7]            --\n",
       "│    └─BasicBlock: 2-9                   [1, 512, 7, 7]            --\n",
       "│    │    └─Sequential: 3-53             [1, 512, 7, 7]            --\n",
       "│    │    └─Conv2d: 3-54                 [1, 512, 7, 7]            2,359,296\n",
       "│    │    └─BatchNorm2d: 3-55            [1, 512, 7, 7]            1,024\n",
       "│    │    └─ReLU: 3-56                   [1, 512, 7, 7]            --\n",
       "│    │    └─Conv2d: 3-57                 [1, 512, 7, 7]            2,359,296\n",
       "│    │    └─BatchNorm2d: 3-58            [1, 512, 7, 7]            1,024\n",
       "│    │    └─ReLU: 3-59                   [1, 512, 7, 7]            --\n",
       "├─AdaptiveAvgPool2d: 1-9                 [1, 512, 1, 1]            --\n",
       "├─Linear: 1-10                           [1, 50]                   25,650\n",
       "==========================================================================================\n",
       "Total params: 12,406,898\n",
       "Trainable params: 12,406,898\n",
       "Non-trainable params: 0\n",
       "Total mult-adds (G): 13.11\n",
       "==========================================================================================\n",
       "Input size (MB): 0.60\n",
       "Forward/backward pass size (MB): 33.39\n",
       "Params size (MB): 49.63\n",
       "Estimated Total Size (MB): 83.62\n",
       "=========================================================================================="
      ]
     },
     "execution_count": 20,
     "metadata": {},
     "output_type": "execute_result"
    }
   ],
   "source": [
    "model = ResNet18_DynamicConv()\n",
    "summary(model, input_size=(1, 3, 224, 224))"
   ]
  },
  {
   "cell_type": "code",
   "execution_count": 6,
   "metadata": {},
   "outputs": [
    {
     "name": "stdout",
     "output_type": "stream",
     "text": [
      "\n",
      "=== Training with input channels: RGB (3) ===\n"
     ]
    },
    {
     "name": "stderr",
     "output_type": "stream",
     "text": [
      "Epoch 1/50: 100%|██████████| 1979/1979 [10:33<00:00,  3.12it/s, loss=3.1131, avg_loss=3.3308, accuracy=12.45%]\n"
     ]
    },
    {
     "name": "stdout",
     "output_type": "stream",
     "text": [
      "[Epoch 1] Validation Loss: 2.9727, Accuracy: 19.65%\n"
     ]
    },
    {
     "name": "stderr",
     "output_type": "stream",
     "text": [
      "Epoch 2/50: 100%|██████████| 1979/1979 [04:23<00:00,  7.51it/s, loss=2.4910, avg_loss=2.6391, accuracy=25.93%]\n",
      "Epoch 3/50: 100%|██████████| 1979/1979 [04:23<00:00,  7.51it/s, loss=1.8646, avg_loss=2.1920, accuracy=36.50%]\n",
      "Epoch 4/50: 100%|██████████| 1979/1979 [04:22<00:00,  7.52it/s, loss=2.1829, avg_loss=1.8196, accuracy=46.03%]\n",
      "Epoch 5/50: 100%|██████████| 1979/1979 [04:22<00:00,  7.53it/s, loss=1.5984, avg_loss=1.5200, accuracy=53.82%]\n"
     ]
    },
    {
     "name": "stdout",
     "output_type": "stream",
     "text": [
      "[Epoch 5] Validation Loss: 1.4951, Accuracy: 55.07%\n"
     ]
    },
    {
     "name": "stderr",
     "output_type": "stream",
     "text": [
      "Epoch 6/50: 100%|██████████| 1979/1979 [04:22<00:00,  7.53it/s, loss=1.6318, avg_loss=1.2553, accuracy=60.82%]\n",
      "Epoch 7/50: 100%|██████████| 1979/1979 [04:22<00:00,  7.54it/s, loss=0.6448, avg_loss=0.9939, accuracy=67.89%]\n",
      "Epoch 8/50: 100%|██████████| 1979/1979 [04:22<00:00,  7.53it/s, loss=0.5849, avg_loss=0.7442, accuracy=75.41%]\n",
      "Epoch 9/50: 100%|██████████| 1979/1979 [04:25<00:00,  7.45it/s, loss=0.2866, avg_loss=0.5155, accuracy=82.63%]\n",
      "Epoch 10/50: 100%|██████████| 1979/1979 [04:22<00:00,  7.55it/s, loss=0.7705, avg_loss=0.3732, accuracy=87.67%]\n"
     ]
    },
    {
     "name": "stdout",
     "output_type": "stream",
     "text": [
      "[Epoch 10] Validation Loss: 0.2095, Accuracy: 93.45%\n"
     ]
    },
    {
     "name": "stderr",
     "output_type": "stream",
     "text": [
      "Epoch 11/50: 100%|██████████| 1979/1979 [04:22<00:00,  7.54it/s, loss=0.2642, avg_loss=0.2797, accuracy=90.89%]\n",
      "Epoch 12/50: 100%|██████████| 1979/1979 [04:22<00:00,  7.54it/s, loss=0.1086, avg_loss=0.2349, accuracy=92.52%]\n",
      "Epoch 13/50: 100%|██████████| 1979/1979 [04:22<00:00,  7.55it/s, loss=0.3284, avg_loss=0.2026, accuracy=93.83%]\n",
      "Epoch 14/50: 100%|██████████| 1979/1979 [04:22<00:00,  7.55it/s, loss=0.4687, avg_loss=0.1804, accuracy=94.55%]\n",
      "Epoch 15/50: 100%|██████████| 1979/1979 [04:22<00:00,  7.55it/s, loss=0.0476, avg_loss=0.1614, accuracy=95.08%]\n"
     ]
    },
    {
     "name": "stdout",
     "output_type": "stream",
     "text": [
      "[Epoch 15] Validation Loss: 0.0956, Accuracy: 97.38%\n"
     ]
    },
    {
     "name": "stderr",
     "output_type": "stream",
     "text": [
      "Epoch 16/50: 100%|██████████| 1979/1979 [04:21<00:00,  7.55it/s, loss=0.1228, avg_loss=0.1505, accuracy=95.50%]\n",
      "Epoch 17/50: 100%|██████████| 1979/1979 [04:23<00:00,  7.51it/s, loss=0.0541, avg_loss=0.1383, accuracy=95.83%]\n",
      "Epoch 18/50: 100%|██████████| 1979/1979 [04:23<00:00,  7.52it/s, loss=0.0280, avg_loss=0.1284, accuracy=96.11%]\n",
      "Epoch 19/50: 100%|██████████| 1979/1979 [04:22<00:00,  7.55it/s, loss=0.2229, avg_loss=0.1131, accuracy=96.48%]\n",
      "Epoch 20/50: 100%|██████████| 1979/1979 [04:21<00:00,  7.56it/s, loss=0.2425, avg_loss=0.1097, accuracy=96.61%]\n"
     ]
    },
    {
     "name": "stdout",
     "output_type": "stream",
     "text": [
      "[Epoch 20] Validation Loss: 0.0690, Accuracy: 97.86%\n"
     ]
    },
    {
     "name": "stderr",
     "output_type": "stream",
     "text": [
      "Epoch 21/50: 100%|██████████| 1979/1979 [04:21<00:00,  7.56it/s, loss=0.1490, avg_loss=0.1039, accuracy=96.78%]\n",
      "Epoch 22/50: 100%|██████████| 1979/1979 [04:22<00:00,  7.54it/s, loss=0.1587, avg_loss=0.0977, accuracy=96.87%]\n",
      "Epoch 23/50: 100%|██████████| 1979/1979 [04:22<00:00,  7.54it/s, loss=0.0131, avg_loss=0.0903, accuracy=97.05%]\n",
      "Epoch 24/50: 100%|██████████| 1979/1979 [04:22<00:00,  7.55it/s, loss=0.0152, avg_loss=0.0886, accuracy=97.11%]\n",
      "Epoch 25/50: 100%|██████████| 1979/1979 [04:22<00:00,  7.54it/s, loss=0.1328, avg_loss=0.0864, accuracy=97.12%]\n"
     ]
    },
    {
     "name": "stdout",
     "output_type": "stream",
     "text": [
      "[Epoch 25] Validation Loss: 0.0525, Accuracy: 98.27%\n"
     ]
    },
    {
     "name": "stderr",
     "output_type": "stream",
     "text": [
      "Epoch 26/50: 100%|██████████| 1979/1979 [04:21<00:00,  7.57it/s, loss=0.1545, avg_loss=0.0778, accuracy=97.41%]\n",
      "Epoch 27/50: 100%|██████████| 1979/1979 [04:21<00:00,  7.55it/s, loss=0.1550, avg_loss=0.0790, accuracy=97.35%]\n",
      "Epoch 28/50: 100%|██████████| 1979/1979 [04:21<00:00,  7.56it/s, loss=0.0606, avg_loss=0.0720, accuracy=97.47%]\n",
      "Epoch 29/50: 100%|██████████| 1979/1979 [04:21<00:00,  7.56it/s, loss=0.0021, avg_loss=0.0671, accuracy=97.63%]\n",
      "Epoch 30/50: 100%|██████████| 1979/1979 [04:22<00:00,  7.55it/s, loss=0.2193, avg_loss=0.0710, accuracy=97.56%]\n"
     ]
    },
    {
     "name": "stdout",
     "output_type": "stream",
     "text": [
      "[Epoch 30] Validation Loss: 0.0418, Accuracy: 98.55%\n"
     ]
    },
    {
     "name": "stderr",
     "output_type": "stream",
     "text": [
      "Epoch 31/50: 100%|██████████| 1979/1979 [04:21<00:00,  7.57it/s, loss=0.1550, avg_loss=0.0673, accuracy=97.67%]\n",
      "Epoch 32/50: 100%|██████████| 1979/1979 [04:21<00:00,  7.57it/s, loss=0.0158, avg_loss=0.0642, accuracy=97.70%]\n",
      "Epoch 33/50: 100%|██████████| 1979/1979 [04:21<00:00,  7.56it/s, loss=0.0076, avg_loss=0.0626, accuracy=97.79%]\n",
      "Epoch 34/50: 100%|██████████| 1979/1979 [04:21<00:00,  7.58it/s, loss=0.0776, avg_loss=0.0649, accuracy=97.74%]\n",
      "Epoch 35/50: 100%|██████████| 1979/1979 [04:21<00:00,  7.56it/s, loss=0.2636, avg_loss=0.0560, accuracy=97.97%]\n"
     ]
    },
    {
     "name": "stdout",
     "output_type": "stream",
     "text": [
      "[Epoch 35] Validation Loss: 0.0280, Accuracy: 98.95%\n"
     ]
    },
    {
     "name": "stderr",
     "output_type": "stream",
     "text": [
      "Epoch 36/50: 100%|██████████| 1979/1979 [04:21<00:00,  7.56it/s, loss=0.0348, avg_loss=0.0633, accuracy=97.70%]\n",
      "Epoch 37/50: 100%|██████████| 1979/1979 [04:21<00:00,  7.58it/s, loss=0.1055, avg_loss=0.0550, accuracy=97.95%]\n",
      "Epoch 38/50: 100%|██████████| 1979/1979 [04:21<00:00,  7.57it/s, loss=0.0493, avg_loss=0.0591, accuracy=97.93%]\n",
      "Epoch 39/50: 100%|██████████| 1979/1979 [04:21<00:00,  7.57it/s, loss=0.0605, avg_loss=0.0535, accuracy=98.02%]\n",
      "Epoch 40/50: 100%|██████████| 1979/1979 [04:20<00:00,  7.58it/s, loss=0.0203, avg_loss=0.0536, accuracy=98.03%]\n"
     ]
    },
    {
     "name": "stdout",
     "output_type": "stream",
     "text": [
      "[Epoch 40] Validation Loss: 0.0350, Accuracy: 98.69%\n"
     ]
    },
    {
     "name": "stderr",
     "output_type": "stream",
     "text": [
      "Epoch 41/50: 100%|██████████| 1979/1979 [04:21<00:00,  7.56it/s, loss=0.5735, avg_loss=0.0537, accuracy=97.99%]\n",
      "Epoch 42/50: 100%|██████████| 1979/1979 [04:21<00:00,  7.56it/s, loss=0.0774, avg_loss=0.0483, accuracy=98.22%]\n",
      "Epoch 43/50: 100%|██████████| 1979/1979 [04:21<00:00,  7.56it/s, loss=0.0093, avg_loss=0.0498, accuracy=98.10%]\n",
      "Epoch 44/50: 100%|██████████| 1979/1979 [04:22<00:00,  7.55it/s, loss=0.2211, avg_loss=0.0462, accuracy=98.17%]\n",
      "Epoch 45/50: 100%|██████████| 1979/1979 [04:22<00:00,  7.53it/s, loss=0.0498, avg_loss=0.0484, accuracy=98.14%]\n"
     ]
    },
    {
     "name": "stdout",
     "output_type": "stream",
     "text": [
      "[Epoch 45] Validation Loss: 0.0261, Accuracy: 98.98%\n"
     ]
    },
    {
     "name": "stderr",
     "output_type": "stream",
     "text": [
      "Epoch 46/50: 100%|██████████| 1979/1979 [04:21<00:00,  7.56it/s, loss=0.0614, avg_loss=0.0495, accuracy=98.08%]\n",
      "Epoch 47/50: 100%|██████████| 1979/1979 [04:21<00:00,  7.56it/s, loss=0.0705, avg_loss=0.0440, accuracy=98.26%]\n",
      "Epoch 48/50: 100%|██████████| 1979/1979 [04:21<00:00,  7.56it/s, loss=0.1739, avg_loss=0.0459, accuracy=98.24%]\n",
      "Epoch 49/50: 100%|██████████| 1979/1979 [04:21<00:00,  7.57it/s, loss=0.0207, avg_loss=0.0432, accuracy=98.26%]\n",
      "Epoch 50/50: 100%|██████████| 1979/1979 [04:21<00:00,  7.57it/s, loss=0.0028, avg_loss=0.0432, accuracy=98.29%]\n"
     ]
    },
    {
     "name": "stdout",
     "output_type": "stream",
     "text": [
      "[Epoch 50] Validation Loss: 0.0295, Accuracy: 98.86%\n"
     ]
    },
    {
     "data": {
      "image/png": "[encoded data removed]",
      "text/plain": [
       "<Figure size 800x400 with 1 Axes>"
      ]
     },
     "metadata": {},
     "output_type": "display_data"
    },
    {
     "name": "stdout",
     "output_type": "stream",
     "text": [
      "\n",
      "=== Training with input channels: RG (2) ===\n"
     ]
    },
    {
     "name": "stderr",
     "output_type": "stream",
     "text": [
      "Epoch 1/50: 100%|██████████| 1979/1979 [04:19<00:00,  7.64it/s, loss=2.7940, avg_loss=3.2844, accuracy=13.34%]\n"
     ]
    },
    {
     "name": "stdout",
     "output_type": "stream",
     "text": [
      "[Epoch 1] Validation Loss: 2.8591, Accuracy: 20.48%\n"
     ]
    },
    {
     "name": "stderr",
     "output_type": "stream",
     "text": [
      "Epoch 2/50: 100%|██████████| 1979/1979 [04:17<00:00,  7.68it/s, loss=2.2058, avg_loss=2.6797, accuracy=25.12%]\n",
      "Epoch 3/50: 100%|██████████| 1979/1979 [04:18<00:00,  7.66it/s, loss=1.8253, avg_loss=2.2395, accuracy=35.43%]\n",
      "Epoch 4/50: 100%|██████████| 1979/1979 [04:18<00:00,  7.65it/s, loss=1.7498, avg_loss=1.8649, accuracy=44.81%]\n",
      "Epoch 5/50: 100%|██████████| 1979/1979 [04:18<00:00,  7.66it/s, loss=1.8050, avg_loss=1.5601, accuracy=52.54%]\n"
     ]
    },
    {
     "name": "stdout",
     "output_type": "stream",
     "text": [
      "[Epoch 5] Validation Loss: 1.3744, Accuracy: 57.83%\n"
     ]
    },
    {
     "name": "stderr",
     "output_type": "stream",
     "text": [
      "Epoch 6/50: 100%|██████████| 1979/1979 [04:18<00:00,  7.66it/s, loss=1.5981, avg_loss=1.2838, accuracy=60.23%]\n",
      "Epoch 7/50: 100%|██████████| 1979/1979 [04:18<00:00,  7.66it/s, loss=0.8052, avg_loss=1.0130, accuracy=67.58%]\n",
      "Epoch 8/50: 100%|██████████| 1979/1979 [04:18<00:00,  7.66it/s, loss=1.3096, avg_loss=0.7452, accuracy=75.28%]\n",
      "Epoch 9/50: 100%|██████████| 1979/1979 [04:18<00:00,  7.66it/s, loss=0.4943, avg_loss=0.5204, accuracy=82.61%]\n",
      "Epoch 10/50: 100%|██████████| 1979/1979 [04:18<00:00,  7.64it/s, loss=0.2319, avg_loss=0.3575, accuracy=88.29%]\n"
     ]
    },
    {
     "name": "stdout",
     "output_type": "stream",
     "text": [
      "[Epoch 10] Validation Loss: 0.3566, Accuracy: 92.16%\n"
     ]
    },
    {
     "name": "stderr",
     "output_type": "stream",
     "text": [
      "Epoch 11/50: 100%|██████████| 1979/1979 [04:18<00:00,  7.65it/s, loss=0.1460, avg_loss=0.2834, accuracy=90.83%]\n",
      "Epoch 12/50: 100%|██████████| 1979/1979 [04:18<00:00,  7.65it/s, loss=0.2306, avg_loss=0.2269, accuracy=93.09%]\n",
      "Epoch 13/50: 100%|██████████| 1979/1979 [04:19<00:00,  7.64it/s, loss=0.2247, avg_loss=0.1951, accuracy=94.04%]\n",
      "Epoch 14/50: 100%|██████████| 1979/1979 [04:18<00:00,  7.66it/s, loss=0.2299, avg_loss=0.1830, accuracy=94.43%]\n",
      "Epoch 15/50: 100%|██████████| 1979/1979 [04:18<00:00,  7.64it/s, loss=0.4803, avg_loss=0.1607, accuracy=95.16%]\n"
     ]
    },
    {
     "name": "stdout",
     "output_type": "stream",
     "text": [
      "[Epoch 15] Validation Loss: 0.2659, Accuracy: 95.86%\n"
     ]
    },
    {
     "name": "stderr",
     "output_type": "stream",
     "text": [
      "Epoch 16/50: 100%|██████████| 1979/1979 [04:18<00:00,  7.65it/s, loss=0.0374, avg_loss=0.1492, accuracy=95.56%]\n",
      "Epoch 17/50: 100%|██████████| 1979/1979 [04:18<00:00,  7.66it/s, loss=0.1554, avg_loss=0.1304, accuracy=96.15%]\n",
      "Epoch 18/50: 100%|██████████| 1979/1979 [04:19<00:00,  7.64it/s, loss=0.0473, avg_loss=0.1273, accuracy=96.16%]\n",
      "Epoch 19/50: 100%|██████████| 1979/1979 [04:18<00:00,  7.65it/s, loss=0.1572, avg_loss=0.1136, accuracy=96.60%]\n",
      "Epoch 20/50: 100%|██████████| 1979/1979 [04:18<00:00,  7.64it/s, loss=0.0190, avg_loss=0.1133, accuracy=96.50%]\n"
     ]
    },
    {
     "name": "stdout",
     "output_type": "stream",
     "text": [
      "[Epoch 20] Validation Loss: 0.0691, Accuracy: 98.08%\n"
     ]
    },
    {
     "name": "stderr",
     "output_type": "stream",
     "text": [
      "Epoch 21/50: 100%|██████████| 1979/1979 [04:18<00:00,  7.65it/s, loss=0.3761, avg_loss=0.1026, accuracy=96.72%]\n",
      "Epoch 22/50: 100%|██████████| 1979/1979 [04:18<00:00,  7.66it/s, loss=0.0265, avg_loss=0.0983, accuracy=96.90%]\n",
      "Epoch 23/50: 100%|██████████| 1979/1979 [04:18<00:00,  7.66it/s, loss=0.0665, avg_loss=0.0886, accuracy=97.17%]\n",
      "Epoch 24/50: 100%|██████████| 1979/1979 [04:17<00:00,  7.67it/s, loss=0.3230, avg_loss=0.0915, accuracy=96.98%]\n",
      "Epoch 25/50: 100%|██████████| 1979/1979 [04:18<00:00,  7.67it/s, loss=0.0303, avg_loss=0.0836, accuracy=97.23%]\n"
     ]
    },
    {
     "name": "stdout",
     "output_type": "stream",
     "text": [
      "[Epoch 25] Validation Loss: 0.1018, Accuracy: 97.66%\n"
     ]
    },
    {
     "name": "stderr",
     "output_type": "stream",
     "text": [
      "Epoch 26/50: 100%|██████████| 1979/1979 [04:18<00:00,  7.65it/s, loss=0.0213, avg_loss=0.0794, accuracy=97.32%]\n",
      "Epoch 27/50: 100%|██████████| 1979/1979 [04:19<00:00,  7.64it/s, loss=0.0822, avg_loss=0.0737, accuracy=97.46%]\n",
      "Epoch 28/50: 100%|██████████| 1979/1979 [04:18<00:00,  7.65it/s, loss=0.0348, avg_loss=0.0743, accuracy=97.44%]\n",
      "Epoch 29/50: 100%|██████████| 1979/1979 [04:18<00:00,  7.65it/s, loss=0.0528, avg_loss=0.0708, accuracy=97.46%]\n",
      "Epoch 30/50: 100%|██████████| 1979/1979 [04:19<00:00,  7.63it/s, loss=0.1141, avg_loss=0.0663, accuracy=97.66%]\n"
     ]
    },
    {
     "name": "stdout",
     "output_type": "stream",
     "text": [
      "[Epoch 30] Validation Loss: 0.0705, Accuracy: 98.69%\n"
     ]
    },
    {
     "name": "stderr",
     "output_type": "stream",
     "text": [
      "Epoch 31/50: 100%|██████████| 1979/1979 [04:19<00:00,  7.62it/s, loss=0.3394, avg_loss=0.0664, accuracy=97.67%]\n",
      "Epoch 32/50: 100%|██████████| 1979/1979 [04:21<00:00,  7.57it/s, loss=0.0764, avg_loss=0.0653, accuracy=97.69%]\n",
      "Epoch 33/50: 100%|██████████| 1979/1979 [04:19<00:00,  7.64it/s, loss=0.0303, avg_loss=0.0609, accuracy=97.84%]\n",
      "Epoch 34/50: 100%|██████████| 1979/1979 [04:27<00:00,  7.39it/s, loss=0.0249, avg_loss=0.0635, accuracy=97.67%]\n",
      "Epoch 35/50: 100%|██████████| 1979/1979 [04:12<00:00,  7.83it/s, loss=0.0799, avg_loss=0.0578, accuracy=97.85%]\n"
     ]
    },
    {
     "name": "stdout",
     "output_type": "stream",
     "text": [
      "[Epoch 35] Validation Loss: 0.0577, Accuracy: 98.32%\n"
     ]
    },
    {
     "name": "stderr",
     "output_type": "stream",
     "text": [
      "Epoch 36/50: 100%|██████████| 1979/1979 [04:23<00:00,  7.50it/s, loss=0.0641, avg_loss=0.0598, accuracy=97.80%]\n",
      "Epoch 37/50: 100%|██████████| 1979/1979 [04:31<00:00,  7.29it/s, loss=0.0925, avg_loss=0.0538, accuracy=98.00%]\n",
      "Epoch 38/50: 100%|██████████| 1979/1979 [04:27<00:00,  7.39it/s, loss=0.1116, avg_loss=0.0567, accuracy=97.91%]\n",
      "Epoch 39/50: 100%|██████████| 1979/1979 [05:54<00:00,  5.58it/s, loss=0.0616, avg_loss=0.0547, accuracy=98.02%]\n",
      "Epoch 40/50: 100%|██████████| 1979/1979 [07:29<00:00,  4.41it/s, loss=0.0209, avg_loss=0.0524, accuracy=98.05%]\n"
     ]
    },
    {
     "name": "stdout",
     "output_type": "stream",
     "text": [
      "[Epoch 40] Validation Loss: 0.0357, Accuracy: 98.83%\n"
     ]
    },
    {
     "name": "stderr",
     "output_type": "stream",
     "text": [
      "Epoch 41/50: 100%|██████████| 1979/1979 [05:26<00:00,  6.07it/s, loss=0.2228, avg_loss=0.0506, accuracy=98.08%]\n",
      "Epoch 42/50: 100%|██████████| 1979/1979 [05:17<00:00,  6.23it/s, loss=0.0380, avg_loss=0.0491, accuracy=98.16%]\n",
      "Epoch 43/50: 100%|██████████| 1979/1979 [09:24<00:00,  3.51it/s, loss=0.0149, avg_loss=0.0520, accuracy=97.99%]\n",
      "Epoch 44/50: 100%|██████████| 1979/1979 [05:33<00:00,  5.94it/s, loss=0.0014, avg_loss=0.0462, accuracy=98.22%]\n",
      "Epoch 45/50: 100%|██████████| 1979/1979 [05:10<00:00,  6.38it/s, loss=0.0278, avg_loss=0.0464, accuracy=98.26%]\n"
     ]
    },
    {
     "name": "stdout",
     "output_type": "stream",
     "text": [
      "[Epoch 45] Validation Loss: 0.0260, Accuracy: 98.97%\n"
     ]
    },
    {
     "name": "stderr",
     "output_type": "stream",
     "text": [
      "Epoch 46/50: 100%|██████████| 1979/1979 [05:22<00:00,  6.15it/s, loss=0.0069, avg_loss=0.0474, accuracy=98.17%]\n",
      "Epoch 47/50: 100%|██████████| 1979/1979 [04:20<00:00,  7.61it/s, loss=0.0541, avg_loss=0.0433, accuracy=98.29%]\n",
      "Epoch 48/50: 100%|██████████| 1979/1979 [04:19<00:00,  7.61it/s, loss=0.0007, avg_loss=0.0453, accuracy=98.23%]\n",
      "Epoch 49/50: 100%|██████████| 1979/1979 [04:19<00:00,  7.61it/s, loss=0.2195, avg_loss=0.0439, accuracy=98.29%]\n",
      "Epoch 50/50: 100%|██████████| 1979/1979 [04:19<00:00,  7.62it/s, loss=0.1082, avg_loss=0.0439, accuracy=98.29%]\n"
     ]
    },
    {
     "name": "stdout",
     "output_type": "stream",
     "text": [
      "[Epoch 50] Validation Loss: 0.0297, Accuracy: 98.82%\n"
     ]
    },
    {
     "data": {
      "image/png": "[encoded data removed]",
      "text/plain": [
       "<Figure size 800x400 with 1 Axes>"
      ]
     },
     "metadata": {},
     "output_type": "display_data"
    },
    {
     "name": "stdout",
     "output_type": "stream",
     "text": [
      "\n",
      "=== Training with input channels: GB (2) ===\n"
     ]
    },
    {
     "name": "stderr",
     "output_type": "stream",
     "text": [
      "Epoch 1/50: 100%|██████████| 1979/1979 [04:20<00:00,  7.59it/s, loss=3.1819, avg_loss=3.2660, accuracy=13.65%]\n"
     ]
    },
    {
     "name": "stdout",
     "output_type": "stream",
     "text": [
      "[Epoch 1] Validation Loss: 2.8704, Accuracy: 21.32%\n"
     ]
    },
    {
     "name": "stderr",
     "output_type": "stream",
     "text": [
      "Epoch 2/50: 100%|██████████| 1979/1979 [04:20<00:00,  7.61it/s, loss=2.8185, avg_loss=2.6707, accuracy=25.22%]\n",
      "Epoch 3/50: 100%|██████████| 1979/1979 [04:20<00:00,  7.59it/s, loss=2.0404, avg_loss=2.2406, accuracy=35.42%]\n",
      "Epoch 4/50: 100%|██████████| 1979/1979 [04:20<00:00,  7.60it/s, loss=1.7141, avg_loss=1.8665, accuracy=44.86%]\n",
      "Epoch 5/50: 100%|██████████| 1979/1979 [04:20<00:00,  7.61it/s, loss=1.5769, avg_loss=1.5616, accuracy=52.67%]\n"
     ]
    },
    {
     "name": "stdout",
     "output_type": "stream",
     "text": [
      "[Epoch 5] Validation Loss: 1.2569, Accuracy: 60.68%\n"
     ]
    },
    {
     "name": "stderr",
     "output_type": "stream",
     "text": [
      "Epoch 6/50: 100%|██████████| 1979/1979 [04:21<00:00,  7.58it/s, loss=1.1924, avg_loss=1.2865, accuracy=59.95%]\n",
      "Epoch 7/50: 100%|██████████| 1979/1979 [04:21<00:00,  7.58it/s, loss=0.9932, avg_loss=1.0248, accuracy=67.28%]\n",
      "Epoch 8/50: 100%|██████████| 1979/1979 [04:21<00:00,  7.58it/s, loss=0.8919, avg_loss=0.7532, accuracy=75.14%]\n",
      "Epoch 9/50: 100%|██████████| 1979/1979 [04:21<00:00,  7.57it/s, loss=0.4967, avg_loss=0.5239, accuracy=82.31%]\n",
      "Epoch 10/50: 100%|██████████| 1979/1979 [04:21<00:00,  7.57it/s, loss=0.5095, avg_loss=0.3618, accuracy=88.05%]\n"
     ]
    },
    {
     "name": "stdout",
     "output_type": "stream",
     "text": [
      "[Epoch 10] Validation Loss: 0.2719, Accuracy: 90.99%\n"
     ]
    },
    {
     "name": "stderr",
     "output_type": "stream",
     "text": [
      "Epoch 11/50: 100%|██████████| 1979/1979 [04:20<00:00,  7.58it/s, loss=0.2566, avg_loss=0.2700, accuracy=91.38%]\n",
      "Epoch 12/50: 100%|██████████| 1979/1979 [04:21<00:00,  7.57it/s, loss=0.3887, avg_loss=0.2284, accuracy=92.77%]\n",
      "Epoch 13/50: 100%|██████████| 1979/1979 [04:21<00:00,  7.57it/s, loss=0.2966, avg_loss=0.1987, accuracy=93.95%]\n",
      "Epoch 14/50: 100%|██████████| 1979/1979 [04:21<00:00,  7.58it/s, loss=0.1186, avg_loss=0.1772, accuracy=94.65%]\n",
      "Epoch 15/50: 100%|██████████| 1979/1979 [04:20<00:00,  7.58it/s, loss=0.3575, avg_loss=0.1633, accuracy=95.17%]\n"
     ]
    },
    {
     "name": "stdout",
     "output_type": "stream",
     "text": [
      "[Epoch 15] Validation Loss: 0.1175, Accuracy: 96.52%\n"
     ]
    },
    {
     "name": "stderr",
     "output_type": "stream",
     "text": [
      "Epoch 16/50: 100%|██████████| 1979/1979 [04:20<00:00,  7.59it/s, loss=0.1834, avg_loss=0.1464, accuracy=95.66%]\n",
      "Epoch 17/50: 100%|██████████| 1979/1979 [04:20<00:00,  7.60it/s, loss=0.2271, avg_loss=0.1348, accuracy=96.12%]\n",
      "Epoch 18/50: 100%|██████████| 1979/1979 [04:20<00:00,  7.59it/s, loss=0.4093, avg_loss=0.1249, accuracy=96.43%]\n",
      "Epoch 19/50: 100%|██████████| 1979/1979 [04:21<00:00,  7.58it/s, loss=0.0381, avg_loss=0.1144, accuracy=96.63%]\n",
      "Epoch 20/50: 100%|██████████| 1979/1979 [04:21<00:00,  7.58it/s, loss=0.0228, avg_loss=0.1110, accuracy=96.67%]\n"
     ]
    },
    {
     "name": "stdout",
     "output_type": "stream",
     "text": [
      "[Epoch 20] Validation Loss: 0.0571, Accuracy: 98.28%\n"
     ]
    },
    {
     "name": "stderr",
     "output_type": "stream",
     "text": [
      "Epoch 21/50: 100%|██████████| 1979/1979 [04:20<00:00,  7.59it/s, loss=0.2364, avg_loss=0.1028, accuracy=96.84%]\n",
      "Epoch 22/50: 100%|██████████| 1979/1979 [04:20<00:00,  7.59it/s, loss=0.0846, avg_loss=0.0921, accuracy=97.17%]\n",
      "Epoch 23/50: 100%|██████████| 1979/1979 [04:20<00:00,  7.60it/s, loss=0.1295, avg_loss=0.0923, accuracy=97.07%]\n",
      "Epoch 24/50: 100%|██████████| 1979/1979 [04:21<00:00,  7.58it/s, loss=0.0200, avg_loss=0.0872, accuracy=97.22%]\n",
      "Epoch 25/50: 100%|██████████| 1979/1979 [04:20<00:00,  7.58it/s, loss=0.0580, avg_loss=0.0819, accuracy=97.25%]\n"
     ]
    },
    {
     "name": "stdout",
     "output_type": "stream",
     "text": [
      "[Epoch 25] Validation Loss: 0.0445, Accuracy: 98.56%\n"
     ]
    },
    {
     "name": "stderr",
     "output_type": "stream",
     "text": [
      "Epoch 26/50: 100%|██████████| 1979/1979 [04:20<00:00,  7.59it/s, loss=0.0116, avg_loss=0.0838, accuracy=97.23%]\n",
      "Epoch 27/50: 100%|██████████| 1979/1979 [04:20<00:00,  7.59it/s, loss=0.0488, avg_loss=0.0786, accuracy=97.38%]\n",
      "Epoch 28/50: 100%|██████████| 1979/1979 [04:20<00:00,  7.59it/s, loss=0.1944, avg_loss=0.0697, accuracy=97.65%]\n",
      "Epoch 29/50: 100%|██████████| 1979/1979 [04:20<00:00,  7.58it/s, loss=0.0351, avg_loss=0.0740, accuracy=97.45%]\n",
      "Epoch 30/50: 100%|██████████| 1979/1979 [04:20<00:00,  7.58it/s, loss=0.0498, avg_loss=0.0670, accuracy=97.68%]\n"
     ]
    },
    {
     "name": "stdout",
     "output_type": "stream",
     "text": [
      "[Epoch 30] Validation Loss: 0.0841, Accuracy: 97.21%\n"
     ]
    },
    {
     "name": "stderr",
     "output_type": "stream",
     "text": [
      "Epoch 31/50: 100%|██████████| 1979/1979 [04:21<00:00,  7.58it/s, loss=0.0241, avg_loss=0.0638, accuracy=97.80%]\n",
      "Epoch 32/50: 100%|██████████| 1979/1979 [04:21<00:00,  7.57it/s, loss=0.0156, avg_loss=0.0654, accuracy=97.74%]\n",
      "Epoch 33/50: 100%|██████████| 1979/1979 [04:21<00:00,  7.57it/s, loss=0.0262, avg_loss=0.0632, accuracy=97.75%]\n",
      "Epoch 34/50: 100%|██████████| 1979/1979 [04:25<00:00,  7.47it/s, loss=0.0045, avg_loss=0.0622, accuracy=97.77%]\n",
      "Epoch 35/50: 100%|██████████| 1979/1979 [04:28<00:00,  7.36it/s, loss=0.0172, avg_loss=0.0559, accuracy=97.93%]\n"
     ]
    },
    {
     "name": "stdout",
     "output_type": "stream",
     "text": [
      "[Epoch 35] Validation Loss: 0.0378, Accuracy: 98.62%\n"
     ]
    },
    {
     "name": "stderr",
     "output_type": "stream",
     "text": [
      "Epoch 36/50: 100%|██████████| 1979/1979 [04:44<00:00,  6.95it/s, loss=0.0116, avg_loss=0.0565, accuracy=97.94%]\n",
      "Epoch 37/50: 100%|██████████| 1979/1979 [05:04<00:00,  6.50it/s, loss=0.0066, avg_loss=0.0583, accuracy=97.83%]\n",
      "Epoch 38/50: 100%|██████████| 1979/1979 [04:21<00:00,  7.58it/s, loss=0.1035, avg_loss=0.0539, accuracy=98.01%]\n",
      "Epoch 39/50: 100%|██████████| 1979/1979 [04:20<00:00,  7.59it/s, loss=0.0238, avg_loss=0.0527, accuracy=98.08%]\n",
      "Epoch 40/50: 100%|██████████| 1979/1979 [04:20<00:00,  7.59it/s, loss=0.0087, avg_loss=0.0499, accuracy=98.11%]\n"
     ]
    },
    {
     "name": "stdout",
     "output_type": "stream",
     "text": [
      "[Epoch 40] Validation Loss: 0.0365, Accuracy: 98.69%\n"
     ]
    },
    {
     "name": "stderr",
     "output_type": "stream",
     "text": [
      "Epoch 41/50: 100%|██████████| 1979/1979 [04:20<00:00,  7.58it/s, loss=0.0213, avg_loss=0.0512, accuracy=98.08%]\n",
      "Epoch 42/50: 100%|██████████| 1979/1979 [04:21<00:00,  7.58it/s, loss=0.1121, avg_loss=0.0494, accuracy=98.12%]\n",
      "Epoch 43/50: 100%|██████████| 1979/1979 [04:21<00:00,  7.58it/s, loss=0.0747, avg_loss=0.0529, accuracy=97.98%]\n",
      "Epoch 44/50: 100%|██████████| 1979/1979 [04:20<00:00,  7.59it/s, loss=0.0090, avg_loss=0.0475, accuracy=98.19%]\n",
      "Epoch 45/50: 100%|██████████| 1979/1979 [04:21<00:00,  7.58it/s, loss=0.1305, avg_loss=0.0473, accuracy=98.18%]\n"
     ]
    },
    {
     "name": "stdout",
     "output_type": "stream",
     "text": [
      "[Epoch 45] Validation Loss: 0.0275, Accuracy: 98.95%\n"
     ]
    },
    {
     "name": "stderr",
     "output_type": "stream",
     "text": [
      "Epoch 46/50: 100%|██████████| 1979/1979 [04:21<00:00,  7.58it/s, loss=0.0602, avg_loss=0.0469, accuracy=98.22%]\n",
      "Epoch 47/50: 100%|██████████| 1979/1979 [04:20<00:00,  7.58it/s, loss=0.0844, avg_loss=0.0460, accuracy=98.26%]\n",
      "Epoch 48/50: 100%|██████████| 1979/1979 [04:20<00:00,  7.60it/s, loss=0.0159, avg_loss=0.0459, accuracy=98.20%]\n",
      "Epoch 49/50: 100%|██████████| 1979/1979 [04:20<00:00,  7.58it/s, loss=0.1082, avg_loss=0.0432, accuracy=98.29%]\n",
      "Epoch 50/50: 100%|██████████| 1979/1979 [04:21<00:00,  7.58it/s, loss=0.0730, avg_loss=0.0445, accuracy=98.25%]\n"
     ]
    },
    {
     "name": "stdout",
     "output_type": "stream",
     "text": [
      "[Epoch 50] Validation Loss: 0.0238, Accuracy: 99.04%\n"
     ]
    },
    {
     "data": {
      "image/png": "[encoded data removed]",
      "text/plain": [
       "<Figure size 800x400 with 1 Axes>"
      ]
     },
     "metadata": {},
     "output_type": "display_data"
    },
    {
     "name": "stdout",
     "output_type": "stream",
     "text": [
      "\n",
      "=== Training with input channels: RB (2) ===\n"
     ]
    },
    {
     "name": "stderr",
     "output_type": "stream",
     "text": [
      "Epoch 1/50: 100%|██████████| 1979/1979 [04:20<00:00,  7.61it/s, loss=2.9381, avg_loss=3.3065, accuracy=12.57%]\n"
     ]
    },
    {
     "name": "stdout",
     "output_type": "stream",
     "text": [
      "[Epoch 1] Validation Loss: 3.1392, Accuracy: 15.62%\n"
     ]
    },
    {
     "name": "stderr",
     "output_type": "stream",
     "text": [
      "Epoch 2/50: 100%|██████████| 1979/1979 [04:19<00:00,  7.61it/s, loss=2.4809, avg_loss=2.6697, accuracy=25.02%]\n",
      "Epoch 3/50: 100%|██████████| 1979/1979 [04:19<00:00,  7.61it/s, loss=2.1349, avg_loss=2.2285, accuracy=35.89%]\n",
      "Epoch 4/50: 100%|██████████| 1979/1979 [04:20<00:00,  7.61it/s, loss=1.5376, avg_loss=1.8629, accuracy=44.86%]\n",
      "Epoch 5/50: 100%|██████████| 1979/1979 [04:20<00:00,  7.60it/s, loss=1.8949, avg_loss=1.5632, accuracy=52.65%]\n"
     ]
    },
    {
     "name": "stdout",
     "output_type": "stream",
     "text": [
      "[Epoch 5] Validation Loss: 1.3943, Accuracy: 56.85%\n"
     ]
    },
    {
     "name": "stderr",
     "output_type": "stream",
     "text": [
      "Epoch 6/50: 100%|██████████| 1979/1979 [04:20<00:00,  7.60it/s, loss=1.0045, avg_loss=1.2939, accuracy=59.81%]\n",
      "Epoch 7/50: 100%|██████████| 1979/1979 [04:20<00:00,  7.61it/s, loss=1.2916, avg_loss=1.0362, accuracy=66.86%]\n",
      "Epoch 8/50: 100%|██████████| 1979/1979 [04:20<00:00,  7.60it/s, loss=0.6818, avg_loss=0.7686, accuracy=74.72%]\n",
      "Epoch 9/50: 100%|██████████| 1979/1979 [04:20<00:00,  7.61it/s, loss=0.7377, avg_loss=0.5344, accuracy=82.20%]\n",
      "Epoch 10/50: 100%|██████████| 1979/1979 [04:20<00:00,  7.61it/s, loss=0.1699, avg_loss=0.3700, accuracy=87.69%]\n"
     ]
    },
    {
     "name": "stdout",
     "output_type": "stream",
     "text": [
      "[Epoch 10] Validation Loss: 0.2254, Accuracy: 93.04%\n"
     ]
    },
    {
     "name": "stderr",
     "output_type": "stream",
     "text": [
      "Epoch 11/50: 100%|██████████| 1979/1979 [04:19<00:00,  7.64it/s, loss=0.7100, avg_loss=0.2770, accuracy=90.97%]\n",
      "Epoch 12/50: 100%|██████████| 1979/1979 [04:19<00:00,  7.63it/s, loss=0.0893, avg_loss=0.2340, accuracy=92.64%]\n",
      "Epoch 13/50: 100%|██████████| 1979/1979 [04:19<00:00,  7.63it/s, loss=0.5705, avg_loss=0.1990, accuracy=93.86%]\n",
      "Epoch 14/50: 100%|██████████| 1979/1979 [04:19<00:00,  7.63it/s, loss=0.1253, avg_loss=0.1779, accuracy=94.56%]\n",
      "Epoch 15/50: 100%|██████████| 1979/1979 [04:19<00:00,  7.63it/s, loss=0.1534, avg_loss=0.1596, accuracy=95.26%]\n"
     ]
    },
    {
     "name": "stdout",
     "output_type": "stream",
     "text": [
      "[Epoch 15] Validation Loss: 0.0973, Accuracy: 97.31%\n"
     ]
    },
    {
     "name": "stderr",
     "output_type": "stream",
     "text": [
      "Epoch 16/50: 100%|██████████| 1979/1979 [04:20<00:00,  7.61it/s, loss=0.1786, avg_loss=0.1454, accuracy=95.66%]\n",
      "Epoch 17/50: 100%|██████████| 1979/1979 [04:19<00:00,  7.62it/s, loss=0.2135, avg_loss=0.1381, accuracy=95.88%]\n",
      "Epoch 18/50: 100%|██████████| 1979/1979 [04:20<00:00,  7.61it/s, loss=0.1164, avg_loss=0.1231, accuracy=96.41%]\n",
      "Epoch 19/50: 100%|██████████| 1979/1979 [04:20<00:00,  7.60it/s, loss=0.1165, avg_loss=0.1192, accuracy=96.36%]\n",
      "Epoch 20/50: 100%|██████████| 1979/1979 [04:19<00:00,  7.61it/s, loss=0.1273, avg_loss=0.1079, accuracy=96.75%]\n"
     ]
    },
    {
     "name": "stdout",
     "output_type": "stream",
     "text": [
      "[Epoch 20] Validation Loss: 0.0654, Accuracy: 98.03%\n"
     ]
    },
    {
     "name": "stderr",
     "output_type": "stream",
     "text": [
      "Epoch 21/50: 100%|██████████| 1979/1979 [04:23<00:00,  7.51it/s, loss=0.0186, avg_loss=0.1045, accuracy=96.75%]\n",
      "Epoch 22/50: 100%|██████████| 1979/1979 [04:20<00:00,  7.61it/s, loss=0.0463, avg_loss=0.0983, accuracy=96.91%]\n",
      "Epoch 23/50: 100%|██████████| 1979/1979 [04:19<00:00,  7.61it/s, loss=0.0409, avg_loss=0.0907, accuracy=97.11%]\n",
      "Epoch 24/50: 100%|██████████| 1979/1979 [04:23<00:00,  7.52it/s, loss=0.2806, avg_loss=0.0862, accuracy=97.17%]\n",
      "Epoch 25/50: 100%|██████████| 1979/1979 [04:21<00:00,  7.57it/s, loss=0.1477, avg_loss=0.0859, accuracy=97.16%]\n"
     ]
    },
    {
     "name": "stdout",
     "output_type": "stream",
     "text": [
      "[Epoch 25] Validation Loss: 0.0592, Accuracy: 98.07%\n"
     ]
    },
    {
     "name": "stderr",
     "output_type": "stream",
     "text": [
      "Epoch 26/50: 100%|██████████| 1979/1979 [04:20<00:00,  7.59it/s, loss=0.0961, avg_loss=0.0824, accuracy=97.27%]\n",
      "Epoch 27/50: 100%|██████████| 1979/1979 [04:20<00:00,  7.60it/s, loss=0.1367, avg_loss=0.0721, accuracy=97.66%]\n",
      "Epoch 28/50: 100%|██████████| 1979/1979 [04:20<00:00,  7.59it/s, loss=0.1064, avg_loss=0.0734, accuracy=97.46%]\n",
      "Epoch 29/50: 100%|██████████| 1979/1979 [04:20<00:00,  7.59it/s, loss=0.1537, avg_loss=0.0738, accuracy=97.49%]\n",
      "Epoch 30/50: 100%|██████████| 1979/1979 [04:21<00:00,  7.58it/s, loss=0.0102, avg_loss=0.0657, accuracy=97.73%]\n"
     ]
    },
    {
     "name": "stdout",
     "output_type": "stream",
     "text": [
      "[Epoch 30] Validation Loss: 0.0506, Accuracy: 98.30%\n"
     ]
    },
    {
     "name": "stderr",
     "output_type": "stream",
     "text": [
      "Epoch 31/50: 100%|██████████| 1979/1979 [04:20<00:00,  7.59it/s, loss=0.0078, avg_loss=0.0642, accuracy=97.74%]\n",
      "Epoch 32/50: 100%|██████████| 1979/1979 [04:20<00:00,  7.60it/s, loss=0.0336, avg_loss=0.0697, accuracy=97.55%]\n",
      "Epoch 33/50: 100%|██████████| 1979/1979 [04:20<00:00,  7.59it/s, loss=0.0916, avg_loss=0.0610, accuracy=97.79%]\n",
      "Epoch 34/50: 100%|██████████| 1979/1979 [04:22<00:00,  7.54it/s, loss=0.0193, avg_loss=0.0572, accuracy=97.95%]\n",
      "Epoch 35/50: 100%|██████████| 1979/1979 [04:20<00:00,  7.59it/s, loss=0.2193, avg_loss=0.0603, accuracy=97.81%]\n"
     ]
    },
    {
     "name": "stdout",
     "output_type": "stream",
     "text": [
      "[Epoch 35] Validation Loss: 0.0353, Accuracy: 98.71%\n"
     ]
    },
    {
     "name": "stderr",
     "output_type": "stream",
     "text": [
      "Epoch 36/50: 100%|██████████| 1979/1979 [04:19<00:00,  7.62it/s, loss=0.1324, avg_loss=0.0582, accuracy=97.93%]\n",
      "Epoch 37/50: 100%|██████████| 1979/1979 [04:08<00:00,  7.96it/s, loss=0.0214, avg_loss=0.0537, accuracy=98.07%]\n",
      "Epoch 38/50: 100%|██████████| 1979/1979 [07:34<00:00,  4.36it/s, loss=0.1801, avg_loss=0.0561, accuracy=97.93%]\n",
      "Epoch 39/50: 100%|██████████| 1979/1979 [04:20<00:00,  7.59it/s, loss=0.0509, avg_loss=0.0546, accuracy=97.96%]\n",
      "Epoch 40/50: 100%|██████████| 1979/1979 [04:20<00:00,  7.59it/s, loss=0.0061, avg_loss=0.0522, accuracy=98.00%]\n"
     ]
    },
    {
     "name": "stdout",
     "output_type": "stream",
     "text": [
      "[Epoch 40] Validation Loss: 0.0329, Accuracy: 98.76%\n"
     ]
    },
    {
     "name": "stderr",
     "output_type": "stream",
     "text": [
      "Epoch 41/50: 100%|██████████| 1979/1979 [04:21<00:00,  7.58it/s, loss=0.1280, avg_loss=0.0513, accuracy=98.06%]\n"
     ]
    },
    {
     "name": "stdout",
     "output_type": "stream",
     "text": [
      "Early stopping at epoch 41 for RB\n"
     ]
    },
    {
     "data": {
      "image/png": "[encoded data removed]",
      "text/plain": [
       "<Figure size 800x400 with 1 Axes>"
      ]
     },
     "metadata": {},
     "output_type": "display_data"
    },
    {
     "name": "stdout",
     "output_type": "stream",
     "text": [
      "\n",
      "=== Training with input channels: R (1) ===\n"
     ]
    },
    {
     "name": "stderr",
     "output_type": "stream",
     "text": [
      "Epoch 1/50: 100%|██████████| 1979/1979 [04:12<00:00,  7.82it/s, loss=3.2621, avg_loss=3.4135, accuracy=10.81%]\n"
     ]
    },
    {
     "name": "stdout",
     "output_type": "stream",
     "text": [
      "[Epoch 1] Validation Loss: 3.2503, Accuracy: 12.88%\n"
     ]
    },
    {
     "name": "stderr",
     "output_type": "stream",
     "text": [
      "Epoch 2/50: 100%|██████████| 1979/1979 [04:09<00:00,  7.93it/s, loss=2.5672, avg_loss=2.8973, accuracy=20.25%]\n",
      "Epoch 3/50: 100%|██████████| 1979/1979 [04:09<00:00,  7.93it/s, loss=2.2821, avg_loss=2.4181, accuracy=31.33%]\n",
      "Epoch 4/50: 100%|██████████| 1979/1979 [04:09<00:00,  7.93it/s, loss=2.1295, avg_loss=2.0262, accuracy=40.57%]\n",
      "Epoch 5/50: 100%|██████████| 1979/1979 [04:12<00:00,  7.83it/s, loss=1.4752, avg_loss=1.7071, accuracy=48.78%]\n"
     ]
    },
    {
     "name": "stdout",
     "output_type": "stream",
     "text": [
      "[Epoch 5] Validation Loss: 1.4454, Accuracy: 55.92%\n"
     ]
    },
    {
     "name": "stderr",
     "output_type": "stream",
     "text": [
      "Epoch 6/50: 100%|██████████| 1979/1979 [04:12<00:00,  7.83it/s, loss=1.6639, avg_loss=1.4194, accuracy=56.33%]\n",
      "Epoch 7/50: 100%|██████████| 1979/1979 [04:12<00:00,  7.83it/s, loss=1.5132, avg_loss=1.1397, accuracy=63.65%]\n",
      "Epoch 8/50: 100%|██████████| 1979/1979 [04:13<00:00,  7.82it/s, loss=0.7652, avg_loss=0.8454, accuracy=72.29%]\n",
      "Epoch 9/50: 100%|██████████| 1979/1979 [04:13<00:00,  7.81it/s, loss=0.4551, avg_loss=0.5762, accuracy=80.64%]\n",
      "Epoch 10/50: 100%|██████████| 1979/1979 [04:13<00:00,  7.82it/s, loss=0.6997, avg_loss=0.3985, accuracy=86.58%]\n"
     ]
    },
    {
     "name": "stdout",
     "output_type": "stream",
     "text": [
      "[Epoch 10] Validation Loss: 0.2737, Accuracy: 91.08%\n"
     ]
    },
    {
     "name": "stderr",
     "output_type": "stream",
     "text": [
      "Epoch 11/50: 100%|██████████| 1979/1979 [04:12<00:00,  7.83it/s, loss=0.4635, avg_loss=0.3005, accuracy=90.25%]\n",
      "Epoch 12/50: 100%|██████████| 1979/1979 [04:12<00:00,  7.83it/s, loss=0.1246, avg_loss=0.2419, accuracy=92.58%]\n",
      "Epoch 13/50: 100%|██████████| 1979/1979 [04:12<00:00,  7.83it/s, loss=0.3024, avg_loss=0.2107, accuracy=93.54%]\n",
      "Epoch 14/50: 100%|██████████| 1979/1979 [04:12<00:00,  7.83it/s, loss=0.0772, avg_loss=0.1890, accuracy=94.33%]\n",
      "Epoch 15/50: 100%|██████████| 1979/1979 [04:12<00:00,  7.84it/s, loss=0.1784, avg_loss=0.1614, accuracy=95.30%]\n"
     ]
    },
    {
     "name": "stdout",
     "output_type": "stream",
     "text": [
      "[Epoch 15] Validation Loss: 0.1969, Accuracy: 94.04%\n"
     ]
    },
    {
     "name": "stderr",
     "output_type": "stream",
     "text": [
      "Epoch 16/50: 100%|██████████| 1979/1979 [04:12<00:00,  7.83it/s, loss=0.0724, avg_loss=0.1593, accuracy=95.29%]\n",
      "Epoch 17/50: 100%|██████████| 1979/1979 [04:13<00:00,  7.82it/s, loss=0.2024, avg_loss=0.1454, accuracy=95.67%]\n",
      "Epoch 18/50: 100%|██████████| 1979/1979 [04:12<00:00,  7.82it/s, loss=0.1433, avg_loss=0.1334, accuracy=96.06%]\n",
      "Epoch 19/50: 100%|██████████| 1979/1979 [04:12<00:00,  7.83it/s, loss=0.0084, avg_loss=0.1251, accuracy=96.26%]\n",
      "Epoch 20/50: 100%|██████████| 1979/1979 [04:12<00:00,  7.83it/s, loss=0.1125, avg_loss=0.1116, accuracy=96.61%]\n"
     ]
    },
    {
     "name": "stdout",
     "output_type": "stream",
     "text": [
      "[Epoch 20] Validation Loss: 0.0968, Accuracy: 97.08%\n"
     ]
    },
    {
     "name": "stderr",
     "output_type": "stream",
     "text": [
      "Epoch 21/50: 100%|██████████| 1979/1979 [04:12<00:00,  7.83it/s, loss=0.0266, avg_loss=0.1094, accuracy=96.61%]\n",
      "Epoch 22/50: 100%|██████████| 1979/1979 [04:12<00:00,  7.84it/s, loss=0.2146, avg_loss=0.1020, accuracy=96.82%]\n",
      "Epoch 23/50: 100%|██████████| 1979/1979 [04:12<00:00,  7.84it/s, loss=0.0639, avg_loss=0.0970, accuracy=96.92%]\n",
      "Epoch 24/50: 100%|██████████| 1979/1979 [04:12<00:00,  7.83it/s, loss=0.1270, avg_loss=0.0911, accuracy=97.05%]\n",
      "Epoch 25/50: 100%|██████████| 1979/1979 [04:12<00:00,  7.83it/s, loss=0.1699, avg_loss=0.0892, accuracy=97.10%]\n"
     ]
    },
    {
     "name": "stdout",
     "output_type": "stream",
     "text": [
      "[Epoch 25] Validation Loss: 0.0726, Accuracy: 97.56%\n"
     ]
    },
    {
     "name": "stderr",
     "output_type": "stream",
     "text": [
      "Epoch 26/50: 100%|██████████| 1979/1979 [04:12<00:00,  7.83it/s, loss=0.1252, avg_loss=0.0826, accuracy=97.27%]\n",
      "Epoch 27/50: 100%|██████████| 1979/1979 [04:12<00:00,  7.84it/s, loss=0.1200, avg_loss=0.0796, accuracy=97.28%]\n",
      "Epoch 28/50: 100%|██████████| 1979/1979 [04:12<00:00,  7.83it/s, loss=0.1490, avg_loss=0.0755, accuracy=97.41%]\n",
      "Epoch 29/50: 100%|██████████| 1979/1979 [04:12<00:00,  7.85it/s, loss=0.0762, avg_loss=0.0728, accuracy=97.47%]\n",
      "Epoch 30/50: 100%|██████████| 1979/1979 [04:12<00:00,  7.84it/s, loss=0.2213, avg_loss=0.0709, accuracy=97.53%]\n"
     ]
    },
    {
     "name": "stdout",
     "output_type": "stream",
     "text": [
      "[Epoch 30] Validation Loss: 0.0660, Accuracy: 97.78%\n"
     ]
    },
    {
     "name": "stderr",
     "output_type": "stream",
     "text": [
      "Epoch 31/50: 100%|██████████| 1979/1979 [04:12<00:00,  7.84it/s, loss=0.0360, avg_loss=0.0690, accuracy=97.60%]\n",
      "Epoch 32/50: 100%|██████████| 1979/1979 [04:12<00:00,  7.85it/s, loss=0.0122, avg_loss=0.0669, accuracy=97.67%]\n",
      "Epoch 33/50: 100%|██████████| 1979/1979 [04:12<00:00,  7.84it/s, loss=0.1050, avg_loss=0.0655, accuracy=97.69%]\n",
      "Epoch 34/50: 100%|██████████| 1979/1979 [04:12<00:00,  7.84it/s, loss=0.0297, avg_loss=0.0619, accuracy=97.79%]\n",
      "Epoch 35/50: 100%|██████████| 1979/1979 [04:13<00:00,  7.82it/s, loss=0.0049, avg_loss=0.0655, accuracy=97.68%]\n"
     ]
    },
    {
     "name": "stdout",
     "output_type": "stream",
     "text": [
      "[Epoch 35] Validation Loss: 0.0315, Accuracy: 98.86%\n"
     ]
    },
    {
     "name": "stderr",
     "output_type": "stream",
     "text": [
      "Epoch 36/50: 100%|██████████| 1979/1979 [04:12<00:00,  7.82it/s, loss=0.0292, avg_loss=0.0599, accuracy=97.78%]\n",
      "Epoch 37/50: 100%|██████████| 1979/1979 [04:12<00:00,  7.83it/s, loss=0.0459, avg_loss=0.0584, accuracy=97.91%]\n",
      "Epoch 38/50: 100%|██████████| 1979/1979 [04:12<00:00,  7.83it/s, loss=0.2557, avg_loss=0.0605, accuracy=97.80%]\n",
      "Epoch 39/50: 100%|██████████| 1979/1979 [04:12<00:00,  7.84it/s, loss=0.0017, avg_loss=0.0550, accuracy=97.96%]\n",
      "Epoch 40/50: 100%|██████████| 1979/1979 [04:12<00:00,  7.84it/s, loss=0.0196, avg_loss=0.0520, accuracy=98.11%]\n"
     ]
    },
    {
     "name": "stdout",
     "output_type": "stream",
     "text": [
      "[Epoch 40] Validation Loss: 0.0294, Accuracy: 98.89%\n"
     ]
    },
    {
     "name": "stderr",
     "output_type": "stream",
     "text": [
      "Epoch 41/50: 100%|██████████| 1979/1979 [04:12<00:00,  7.83it/s, loss=0.0234, avg_loss=0.0574, accuracy=97.93%]\n",
      "Epoch 42/50: 100%|██████████| 1979/1979 [04:12<00:00,  7.83it/s, loss=0.0655, avg_loss=0.0510, accuracy=98.08%]\n",
      "Epoch 43/50: 100%|██████████| 1979/1979 [04:12<00:00,  7.84it/s, loss=0.0357, avg_loss=0.0530, accuracy=98.02%]\n",
      "Epoch 44/50: 100%|██████████| 1979/1979 [04:12<00:00,  7.83it/s, loss=0.0358, avg_loss=0.0489, accuracy=98.20%]\n",
      "Epoch 45/50: 100%|██████████| 1979/1979 [04:12<00:00,  7.83it/s, loss=0.0063, avg_loss=0.0487, accuracy=98.13%]\n"
     ]
    },
    {
     "name": "stdout",
     "output_type": "stream",
     "text": [
      "[Epoch 45] Validation Loss: 0.0277, Accuracy: 98.95%\n"
     ]
    },
    {
     "name": "stderr",
     "output_type": "stream",
     "text": [
      "Epoch 46/50: 100%|██████████| 1979/1979 [04:12<00:00,  7.83it/s, loss=0.0569, avg_loss=0.0506, accuracy=98.08%]\n",
      "Epoch 47/50: 100%|██████████| 1979/1979 [04:12<00:00,  7.85it/s, loss=0.0085, avg_loss=0.0460, accuracy=98.21%]\n",
      "Epoch 48/50: 100%|██████████| 1979/1979 [04:11<00:00,  7.86it/s, loss=0.0707, avg_loss=0.0457, accuracy=98.25%]\n",
      "Epoch 49/50: 100%|██████████| 1979/1979 [04:11<00:00,  7.88it/s, loss=0.0788, avg_loss=0.0472, accuracy=98.18%]\n",
      "Epoch 50/50: 100%|██████████| 1979/1979 [04:11<00:00,  7.88it/s, loss=0.0086, avg_loss=0.0429, accuracy=98.32%]\n"
     ]
    },
    {
     "name": "stdout",
     "output_type": "stream",
     "text": [
      "[Epoch 50] Validation Loss: 0.0310, Accuracy: 98.79%\n"
     ]
    },
    {
     "data": {
      "image/png": "[encoded data removed]",
      "text/plain": [
       "<Figure size 800x400 with 1 Axes>"
      ]
     },
     "metadata": {},
     "output_type": "display_data"
    },
    {
     "name": "stdout",
     "output_type": "stream",
     "text": [
      "\n",
      "=== Training with input channels: G (1) ===\n"
     ]
    },
    {
     "name": "stderr",
     "output_type": "stream",
     "text": [
      "Epoch 1/50: 100%|██████████| 1979/1979 [04:13<00:00,  7.82it/s, loss=3.0986, avg_loss=3.3895, accuracy=11.12%]\n"
     ]
    },
    {
     "name": "stdout",
     "output_type": "stream",
     "text": [
      "[Epoch 1] Validation Loss: 3.4889, Accuracy: 11.69%\n"
     ]
    },
    {
     "name": "stderr",
     "output_type": "stream",
     "text": [
      "Epoch 2/50: 100%|██████████| 1979/1979 [04:13<00:00,  7.82it/s, loss=3.3565, avg_loss=2.8741, accuracy=20.93%]\n",
      "Epoch 3/50: 100%|██████████| 1979/1979 [04:14<00:00,  7.79it/s, loss=2.6123, avg_loss=2.3955, accuracy=31.48%]\n",
      "Epoch 4/50: 100%|██████████| 1979/1979 [04:13<00:00,  7.80it/s, loss=1.7984, avg_loss=1.9980, accuracy=41.36%]\n",
      "Epoch 5/50: 100%|██████████| 1979/1979 [04:13<00:00,  7.80it/s, loss=1.8940, avg_loss=1.6834, accuracy=49.31%]\n"
     ]
    },
    {
     "name": "stdout",
     "output_type": "stream",
     "text": [
      "[Epoch 5] Validation Loss: 1.7676, Accuracy: 48.80%\n"
     ]
    },
    {
     "name": "stderr",
     "output_type": "stream",
     "text": [
      "Epoch 6/50: 100%|██████████| 1979/1979 [04:13<00:00,  7.80it/s, loss=1.1222, avg_loss=1.4012, accuracy=56.78%]\n",
      "Epoch 7/50: 100%|██████████| 1979/1979 [04:13<00:00,  7.80it/s, loss=1.5223, avg_loss=1.1165, accuracy=64.52%]\n",
      "Epoch 8/50: 100%|██████████| 1979/1979 [04:13<00:00,  7.80it/s, loss=1.1440, avg_loss=0.8386, accuracy=72.28%]\n",
      "Epoch 9/50: 100%|██████████| 1979/1979 [04:14<00:00,  7.77it/s, loss=0.5542, avg_loss=0.5789, accuracy=80.63%]\n",
      "Epoch 10/50: 100%|██████████| 1979/1979 [04:14<00:00,  7.78it/s, loss=0.3903, avg_loss=0.4019, accuracy=86.56%]\n"
     ]
    },
    {
     "name": "stdout",
     "output_type": "stream",
     "text": [
      "[Epoch 10] Validation Loss: 0.3059, Accuracy: 90.08%\n"
     ]
    },
    {
     "name": "stderr",
     "output_type": "stream",
     "text": [
      "Epoch 11/50: 100%|██████████| 1979/1979 [04:14<00:00,  7.77it/s, loss=0.6024, avg_loss=0.2981, accuracy=90.25%]\n",
      "Epoch 12/50: 100%|██████████| 1979/1979 [04:14<00:00,  7.77it/s, loss=0.5461, avg_loss=0.2401, accuracy=92.52%]\n",
      "Epoch 13/50: 100%|██████████| 1979/1979 [04:14<00:00,  7.77it/s, loss=0.2449, avg_loss=0.2091, accuracy=93.65%]\n",
      "Epoch 14/50: 100%|██████████| 1979/1979 [04:14<00:00,  7.77it/s, loss=0.7939, avg_loss=0.1842, accuracy=94.43%]\n",
      "Epoch 15/50: 100%|██████████| 1979/1979 [04:14<00:00,  7.77it/s, loss=0.1068, avg_loss=0.1675, accuracy=95.05%]\n"
     ]
    },
    {
     "name": "stdout",
     "output_type": "stream",
     "text": [
      "[Epoch 15] Validation Loss: 0.1191, Accuracy: 96.59%\n"
     ]
    },
    {
     "name": "stderr",
     "output_type": "stream",
     "text": [
      "Epoch 16/50: 100%|██████████| 1979/1979 [04:14<00:00,  7.77it/s, loss=0.0867, avg_loss=0.1549, accuracy=95.43%]\n",
      "Epoch 17/50: 100%|██████████| 1979/1979 [04:14<00:00,  7.77it/s, loss=0.3825, avg_loss=0.1399, accuracy=95.75%]\n",
      "Epoch 18/50: 100%|██████████| 1979/1979 [04:14<00:00,  7.78it/s, loss=0.4071, avg_loss=0.1321, accuracy=96.11%]\n",
      "Epoch 19/50: 100%|██████████| 1979/1979 [04:14<00:00,  7.78it/s, loss=0.0639, avg_loss=0.1159, accuracy=96.56%]\n",
      "Epoch 20/50: 100%|██████████| 1979/1979 [04:14<00:00,  7.77it/s, loss=0.4097, avg_loss=0.1095, accuracy=96.66%]\n"
     ]
    },
    {
     "name": "stdout",
     "output_type": "stream",
     "text": [
      "[Epoch 20] Validation Loss: 0.0665, Accuracy: 97.96%\n"
     ]
    },
    {
     "name": "stderr",
     "output_type": "stream",
     "text": [
      "Epoch 21/50: 100%|██████████| 1979/1979 [04:14<00:00,  7.76it/s, loss=0.0586, avg_loss=0.1047, accuracy=96.75%]\n",
      "Epoch 22/50: 100%|██████████| 1979/1979 [04:14<00:00,  7.77it/s, loss=0.0219, avg_loss=0.1009, accuracy=96.76%]\n",
      "Epoch 23/50: 100%|██████████| 1979/1979 [04:14<00:00,  7.76it/s, loss=0.0341, avg_loss=0.0959, accuracy=96.98%]\n",
      "Epoch 24/50: 100%|██████████| 1979/1979 [04:14<00:00,  7.77it/s, loss=0.1838, avg_loss=0.0932, accuracy=96.90%]\n",
      "Epoch 25/50: 100%|██████████| 1979/1979 [04:14<00:00,  7.77it/s, loss=0.0804, avg_loss=0.0851, accuracy=97.16%]\n"
     ]
    },
    {
     "name": "stdout",
     "output_type": "stream",
     "text": [
      "[Epoch 25] Validation Loss: 0.0780, Accuracy: 97.43%\n"
     ]
    },
    {
     "name": "stderr",
     "output_type": "stream",
     "text": [
      "Epoch 26/50: 100%|██████████| 1979/1979 [04:14<00:00,  7.77it/s, loss=0.0363, avg_loss=0.0762, accuracy=97.43%]\n",
      "Epoch 27/50: 100%|██████████| 1979/1979 [04:14<00:00,  7.77it/s, loss=0.2019, avg_loss=0.0816, accuracy=97.26%]\n",
      "Epoch 28/50: 100%|██████████| 1979/1979 [04:14<00:00,  7.77it/s, loss=0.1069, avg_loss=0.0720, accuracy=97.52%]\n",
      "Epoch 29/50: 100%|██████████| 1979/1979 [04:14<00:00,  7.77it/s, loss=0.0063, avg_loss=0.0763, accuracy=97.35%]\n",
      "Epoch 30/50: 100%|██████████| 1979/1979 [04:14<00:00,  7.76it/s, loss=0.1501, avg_loss=0.0669, accuracy=97.69%]\n"
     ]
    },
    {
     "name": "stdout",
     "output_type": "stream",
     "text": [
      "[Epoch 30] Validation Loss: 0.0653, Accuracy: 97.78%\n"
     ]
    },
    {
     "name": "stderr",
     "output_type": "stream",
     "text": [
      "Epoch 31/50: 100%|██████████| 1979/1979 [04:14<00:00,  7.77it/s, loss=0.2631, avg_loss=0.0720, accuracy=97.47%]\n",
      "Epoch 32/50: 100%|██████████| 1979/1979 [04:14<00:00,  7.77it/s, loss=0.0325, avg_loss=0.0661, accuracy=97.69%]\n",
      "Epoch 33/50: 100%|██████████| 1979/1979 [04:14<00:00,  7.77it/s, loss=0.0323, avg_loss=0.0631, accuracy=97.80%]\n",
      "Epoch 34/50: 100%|██████████| 1979/1979 [04:14<00:00,  7.76it/s, loss=0.0390, avg_loss=0.0627, accuracy=97.77%]\n",
      "Epoch 35/50: 100%|██████████| 1979/1979 [04:14<00:00,  7.77it/s, loss=0.0485, avg_loss=0.0628, accuracy=97.77%]\n"
     ]
    },
    {
     "name": "stdout",
     "output_type": "stream",
     "text": [
      "[Epoch 35] Validation Loss: 0.0374, Accuracy: 98.68%\n"
     ]
    },
    {
     "name": "stderr",
     "output_type": "stream",
     "text": [
      "Epoch 36/50: 100%|██████████| 1979/1979 [04:14<00:00,  7.77it/s, loss=0.1126, avg_loss=0.0587, accuracy=97.84%]\n",
      "Epoch 37/50: 100%|██████████| 1979/1979 [04:14<00:00,  7.77it/s, loss=0.2286, avg_loss=0.0567, accuracy=97.90%]\n",
      "Epoch 38/50: 100%|██████████| 1979/1979 [04:15<00:00,  7.76it/s, loss=0.0433, avg_loss=0.0600, accuracy=97.77%]\n",
      "Epoch 39/50: 100%|██████████| 1979/1979 [04:14<00:00,  7.76it/s, loss=0.0637, avg_loss=0.0530, accuracy=97.98%]\n",
      "Epoch 40/50: 100%|██████████| 1979/1979 [04:14<00:00,  7.76it/s, loss=0.0862, avg_loss=0.0543, accuracy=98.00%]\n"
     ]
    },
    {
     "name": "stdout",
     "output_type": "stream",
     "text": [
      "[Epoch 40] Validation Loss: 0.0579, Accuracy: 97.99%\n"
     ]
    },
    {
     "name": "stderr",
     "output_type": "stream",
     "text": [
      "Epoch 41/50: 100%|██████████| 1979/1979 [04:14<00:00,  7.77it/s, loss=0.0534, avg_loss=0.0515, accuracy=98.08%]\n",
      "Epoch 42/50: 100%|██████████| 1979/1979 [04:22<00:00,  7.55it/s, loss=0.0094, avg_loss=0.0495, accuracy=98.05%]\n",
      "Epoch 43/50: 100%|██████████| 1979/1979 [04:19<00:00,  7.62it/s, loss=0.1116, avg_loss=0.0526, accuracy=97.98%]\n",
      "Epoch 44/50: 100%|██████████| 1979/1979 [04:18<00:00,  7.65it/s, loss=0.0595, avg_loss=0.0493, accuracy=98.07%]\n",
      "Epoch 45/50: 100%|██████████| 1979/1979 [04:18<00:00,  7.66it/s, loss=0.1215, avg_loss=0.0501, accuracy=98.07%]\n"
     ]
    },
    {
     "name": "stdout",
     "output_type": "stream",
     "text": [
      "[Epoch 45] Validation Loss: 0.0447, Accuracy: 98.36%\n"
     ]
    },
    {
     "name": "stderr",
     "output_type": "stream",
     "text": [
      "Epoch 46/50: 100%|██████████| 1979/1979 [04:17<00:00,  7.69it/s, loss=0.1310, avg_loss=0.0481, accuracy=98.15%]\n",
      "Epoch 47/50: 100%|██████████| 1979/1979 [04:17<00:00,  7.69it/s, loss=0.0284, avg_loss=0.0476, accuracy=98.17%]\n",
      "Epoch 48/50: 100%|██████████| 1979/1979 [04:17<00:00,  7.69it/s, loss=0.0203, avg_loss=0.0467, accuracy=98.16%]\n",
      "Epoch 49/50: 100%|██████████| 1979/1979 [04:17<00:00,  7.70it/s, loss=0.0508, avg_loss=0.0462, accuracy=98.18%]\n",
      "Epoch 50/50: 100%|██████████| 1979/1979 [04:17<00:00,  7.69it/s, loss=0.0612, avg_loss=0.0439, accuracy=98.27%]\n"
     ]
    },
    {
     "name": "stdout",
     "output_type": "stream",
     "text": [
      "[Epoch 50] Validation Loss: 0.0296, Accuracy: 98.92%\n"
     ]
    },
    {
     "data": {
      "image/png": "[encoded data removed]",
      "text/plain": [
       "<Figure size 800x400 with 1 Axes>"
      ]
     },
     "metadata": {},
     "output_type": "display_data"
    },
    {
     "name": "stdout",
     "output_type": "stream",
     "text": [
      "\n",
      "=== Training with input channels: B (1) ===\n"
     ]
    },
    {
     "name": "stderr",
     "output_type": "stream",
     "text": [
      "Epoch 1/50: 100%|██████████| 1979/1979 [04:16<00:00,  7.72it/s, loss=3.2351, avg_loss=3.3947, accuracy=11.03%]\n"
     ]
    },
    {
     "name": "stdout",
     "output_type": "stream",
     "text": [
      "[Epoch 1] Validation Loss: 3.1847, Accuracy: 13.86%\n"
     ]
    },
    {
     "name": "stderr",
     "output_type": "stream",
     "text": [
      "Epoch 2/50: 100%|██████████| 1979/1979 [04:16<00:00,  7.71it/s, loss=3.0213, avg_loss=2.8655, accuracy=21.05%]\n",
      "Epoch 3/50: 100%|██████████| 1979/1979 [04:16<00:00,  7.72it/s, loss=1.9595, avg_loss=2.3770, accuracy=32.14%]\n",
      "Epoch 4/50: 100%|██████████| 1979/1979 [04:16<00:00,  7.72it/s, loss=2.0654, avg_loss=1.9804, accuracy=41.76%]\n",
      "Epoch 5/50: 100%|██████████| 1979/1979 [04:16<00:00,  7.71it/s, loss=1.6984, avg_loss=1.6674, accuracy=49.58%]\n"
     ]
    },
    {
     "name": "stdout",
     "output_type": "stream",
     "text": [
      "[Epoch 5] Validation Loss: 1.4673, Accuracy: 55.18%\n"
     ]
    },
    {
     "name": "stderr",
     "output_type": "stream",
     "text": [
      "Epoch 6/50: 100%|██████████| 1979/1979 [04:17<00:00,  7.70it/s, loss=1.1910, avg_loss=1.3706, accuracy=57.40%]\n",
      "Epoch 7/50: 100%|██████████| 1979/1979 [04:16<00:00,  7.71it/s, loss=1.2598, avg_loss=1.0724, accuracy=65.71%]\n",
      "Epoch 8/50: 100%|██████████| 1979/1979 [04:16<00:00,  7.70it/s, loss=0.7686, avg_loss=0.7608, accuracy=74.92%]\n",
      "Epoch 9/50: 100%|██████████| 1979/1979 [04:16<00:00,  7.71it/s, loss=0.4925, avg_loss=0.5071, accuracy=83.12%]\n",
      "Epoch 10/50: 100%|██████████| 1979/1979 [04:17<00:00,  7.70it/s, loss=0.5018, avg_loss=0.3480, accuracy=88.52%]\n"
     ]
    },
    {
     "name": "stdout",
     "output_type": "stream",
     "text": [
      "[Epoch 10] Validation Loss: 0.2799, Accuracy: 90.90%\n"
     ]
    },
    {
     "name": "stderr",
     "output_type": "stream",
     "text": [
      "Epoch 11/50: 100%|██████████| 1979/1979 [04:16<00:00,  7.72it/s, loss=0.3227, avg_loss=0.2668, accuracy=91.59%]\n",
      "Epoch 12/50: 100%|██████████| 1979/1979 [04:16<00:00,  7.72it/s, loss=0.4072, avg_loss=0.2223, accuracy=93.12%]\n",
      "Epoch 13/50: 100%|██████████| 1979/1979 [04:16<00:00,  7.71it/s, loss=0.1670, avg_loss=0.2036, accuracy=93.86%]\n",
      "Epoch 14/50: 100%|██████████| 1979/1979 [04:16<00:00,  7.71it/s, loss=0.2450, avg_loss=0.1786, accuracy=94.77%]\n",
      "Epoch 15/50: 100%|██████████| 1979/1979 [04:16<00:00,  7.71it/s, loss=0.0281, avg_loss=0.1610, accuracy=95.28%]\n"
     ]
    },
    {
     "name": "stdout",
     "output_type": "stream",
     "text": [
      "[Epoch 15] Validation Loss: 0.0890, Accuracy: 97.55%\n"
     ]
    },
    {
     "name": "stderr",
     "output_type": "stream",
     "text": [
      "Epoch 16/50: 100%|██████████| 1979/1979 [04:16<00:00,  7.70it/s, loss=0.1524, avg_loss=0.1443, accuracy=95.77%]\n",
      "Epoch 17/50: 100%|██████████| 1979/1979 [04:17<00:00,  7.69it/s, loss=0.0794, avg_loss=0.1355, accuracy=95.90%]\n",
      "Epoch 18/50: 100%|██████████| 1979/1979 [04:16<00:00,  7.70it/s, loss=0.1185, avg_loss=0.1264, accuracy=96.21%]\n",
      "Epoch 19/50: 100%|██████████| 1979/1979 [04:17<00:00,  7.70it/s, loss=0.2825, avg_loss=0.1181, accuracy=96.32%]\n",
      "Epoch 20/50: 100%|██████████| 1979/1979 [04:17<00:00,  7.70it/s, loss=0.1652, avg_loss=0.1100, accuracy=96.56%]\n"
     ]
    },
    {
     "name": "stdout",
     "output_type": "stream",
     "text": [
      "[Epoch 20] Validation Loss: 0.0795, Accuracy: 97.53%\n"
     ]
    },
    {
     "name": "stderr",
     "output_type": "stream",
     "text": [
      "Epoch 21/50: 100%|██████████| 1979/1979 [04:16<00:00,  7.73it/s, loss=0.0429, avg_loss=0.1031, accuracy=96.70%]\n",
      "Epoch 22/50: 100%|██████████| 1979/1979 [04:16<00:00,  7.72it/s, loss=0.0821, avg_loss=0.0984, accuracy=96.89%]\n",
      "Epoch 23/50: 100%|██████████| 1979/1979 [04:19<00:00,  7.62it/s, loss=0.1730, avg_loss=0.0906, accuracy=97.06%]\n",
      "Epoch 24/50: 100%|██████████| 1979/1979 [04:17<00:00,  7.69it/s, loss=0.1039, avg_loss=0.0926, accuracy=96.94%]\n",
      "Epoch 25/50: 100%|██████████| 1979/1979 [04:17<00:00,  7.68it/s, loss=0.1000, avg_loss=0.0832, accuracy=97.21%]\n"
     ]
    },
    {
     "name": "stdout",
     "output_type": "stream",
     "text": [
      "[Epoch 25] Validation Loss: 0.0439, Accuracy: 98.54%\n"
     ]
    },
    {
     "name": "stderr",
     "output_type": "stream",
     "text": [
      "Epoch 26/50: 100%|██████████| 1979/1979 [04:17<00:00,  7.68it/s, loss=0.2914, avg_loss=0.0841, accuracy=97.21%]\n",
      "Epoch 27/50: 100%|██████████| 1979/1979 [04:21<00:00,  7.57it/s, loss=0.0502, avg_loss=0.0801, accuracy=97.36%]\n",
      "Epoch 28/50: 100%|██████████| 1979/1979 [04:17<00:00,  7.68it/s, loss=0.1408, avg_loss=0.0731, accuracy=97.54%]\n",
      "Epoch 29/50: 100%|██████████| 1979/1979 [04:17<00:00,  7.68it/s, loss=0.0659, avg_loss=0.0699, accuracy=97.58%]\n",
      "Epoch 30/50: 100%|██████████| 1979/1979 [04:17<00:00,  7.67it/s, loss=0.0851, avg_loss=0.0706, accuracy=97.61%]\n"
     ]
    },
    {
     "name": "stdout",
     "output_type": "stream",
     "text": [
      "[Epoch 30] Validation Loss: 0.0605, Accuracy: 97.98%\n"
     ]
    },
    {
     "name": "stderr",
     "output_type": "stream",
     "text": [
      "Epoch 31/50: 100%|██████████| 1979/1979 [04:17<00:00,  7.68it/s, loss=0.0266, avg_loss=0.0677, accuracy=97.66%]\n",
      "Epoch 32/50: 100%|██████████| 1979/1979 [04:17<00:00,  7.68it/s, loss=0.0675, avg_loss=0.0673, accuracy=97.64%]\n",
      "Epoch 33/50: 100%|██████████| 1979/1979 [04:17<00:00,  7.69it/s, loss=0.0453, avg_loss=0.0629, accuracy=97.72%]\n",
      "Epoch 34/50: 100%|██████████| 1979/1979 [04:17<00:00,  7.68it/s, loss=0.2485, avg_loss=0.0626, accuracy=97.69%]\n",
      "Epoch 35/50: 100%|██████████| 1979/1979 [04:17<00:00,  7.68it/s, loss=0.2346, avg_loss=0.0601, accuracy=97.79%]\n"
     ]
    },
    {
     "name": "stdout",
     "output_type": "stream",
     "text": [
      "[Epoch 35] Validation Loss: 0.0392, Accuracy: 98.66%\n"
     ]
    },
    {
     "name": "stderr",
     "output_type": "stream",
     "text": [
      "Epoch 36/50: 100%|██████████| 1979/1979 [04:17<00:00,  7.70it/s, loss=0.0857, avg_loss=0.0594, accuracy=97.88%]\n",
      "Epoch 37/50: 100%|██████████| 1979/1979 [04:16<00:00,  7.70it/s, loss=0.0629, avg_loss=0.0583, accuracy=97.85%]\n",
      "Epoch 38/50: 100%|██████████| 1979/1979 [04:16<00:00,  7.71it/s, loss=0.0085, avg_loss=0.0573, accuracy=97.91%]\n",
      "Epoch 39/50: 100%|██████████| 1979/1979 [04:17<00:00,  7.70it/s, loss=0.1762, avg_loss=0.0571, accuracy=97.88%]\n",
      "Epoch 40/50: 100%|██████████| 1979/1979 [04:16<00:00,  7.70it/s, loss=0.0708, avg_loss=0.0528, accuracy=98.05%]\n"
     ]
    },
    {
     "name": "stdout",
     "output_type": "stream",
     "text": [
      "[Epoch 40] Validation Loss: 0.0293, Accuracy: 98.90%\n"
     ]
    },
    {
     "name": "stderr",
     "output_type": "stream",
     "text": [
      "Epoch 41/50: 100%|██████████| 1979/1979 [04:17<00:00,  7.68it/s, loss=0.1439, avg_loss=0.0537, accuracy=97.92%]\n",
      "Epoch 42/50: 100%|██████████| 1979/1979 [04:17<00:00,  7.69it/s, loss=0.0056, avg_loss=0.0473, accuracy=98.14%]\n",
      "Epoch 43/50: 100%|██████████| 1979/1979 [04:17<00:00,  7.69it/s, loss=0.2648, avg_loss=0.0508, accuracy=98.11%]\n",
      "Epoch 44/50: 100%|██████████| 1979/1979 [04:17<00:00,  7.68it/s, loss=0.1289, avg_loss=0.0490, accuracy=98.12%]\n",
      "Epoch 45/50: 100%|██████████| 1979/1979 [04:17<00:00,  7.68it/s, loss=0.0257, avg_loss=0.0471, accuracy=98.16%]\n"
     ]
    },
    {
     "name": "stdout",
     "output_type": "stream",
     "text": [
      "[Epoch 45] Validation Loss: 0.0239, Accuracy: 99.04%\n"
     ]
    },
    {
     "name": "stderr",
     "output_type": "stream",
     "text": [
      "Epoch 46/50: 100%|██████████| 1979/1979 [04:17<00:00,  7.70it/s, loss=0.0248, avg_loss=0.0441, accuracy=98.32%]\n",
      "Epoch 47/50: 100%|██████████| 1979/1979 [04:17<00:00,  7.70it/s, loss=0.0055, avg_loss=0.0504, accuracy=98.05%]\n",
      "Epoch 48/50: 100%|██████████| 1979/1979 [04:17<00:00,  7.70it/s, loss=0.0334, avg_loss=0.0451, accuracy=98.23%]\n",
      "Epoch 49/50: 100%|██████████| 1979/1979 [04:17<00:00,  7.69it/s, loss=0.0033, avg_loss=0.0475, accuracy=98.16%]\n",
      "Epoch 50/50: 100%|██████████| 1979/1979 [04:17<00:00,  7.70it/s, loss=0.0266, avg_loss=0.0436, accuracy=98.34%]\n"
     ]
    },
    {
     "name": "stdout",
     "output_type": "stream",
     "text": [
      "[Epoch 50] Validation Loss: 0.0242, Accuracy: 99.02%\n"
     ]
    },
    {
     "data": {
      "image/png": "[encoded data removed]",
      "text/plain": [
       "<Figure size 800x400 with 1 Axes>"
      ]
     },
     "metadata": {},
     "output_type": "display_data"
    },
    {
     "name": "stdout",
     "output_type": "stream",
     "text": [
      "\n",
      "=== Summary of Results ===\n",
      "Input Channels  Best Val Loss  Final Val Accuracy (%)\n",
      "           RGB       0.022508                   98.86\n",
      "            RG       0.022164                   98.82\n",
      "            GB       0.022051                   99.04\n",
      "            RB       0.031032                   98.77\n",
      "             R       0.024303                   98.79\n",
      "             G       0.025664                   98.92\n",
      "             B       0.022559                   99.02\n"
     ]
    }
   ],
   "source": [
    "import signal\n",
    "\n",
    "\n",
    "# Signal Handling\n",
    "interrupted = False\n",
    "\n",
    "def signal_handler(sig, frame):\n",
    "    global interrupted\n",
    "    print(\"\\nKeyboardInterrupt received. Stopping training after current epoch...\")\n",
    "    interrupted = True\n",
    "\n",
    "signal.signal(signal.SIGINT, signal_handler)\n",
    "\n",
    "# Model, Criterion, Optimizer\n",
    "model = ResNet18_DynamicConv(num_classes=50, in_channels_max=3).to(torch.device(\"cuda\" if torch.cuda.is_available() else \"cpu\"))\n",
    "device = next(model.parameters()).device\n",
    "criterion = nn.CrossEntropyLoss()\n",
    "optimizer = optim.Adam(model.parameters(), lr=0.001)\n",
    "\n",
    "# Define channel settings\n",
    "channel_settings = {\n",
    "    'RGB': 3,\n",
    "    'RG': 2,\n",
    "    'GB': 2, \n",
    "    'RB': 2, \n",
    "    'R': 1,\n",
    "    'G': 1,\n",
    "    'B': 1\n",
    "}\n",
    "\n",
    "# Initialize results list to store summary data\n",
    "results = []\n",
    "\n",
    "# Loop over channel settings\n",
    "for channel_name, in_channels in channel_settings.items():\n",
    "    print(f\"\\n=== Training with input channels: {channel_name} ({in_channels}) ===\")\n",
    "\n",
    "    # Initialize model, optimizer, and other components\n",
    "    model = ResNet18_DynamicConv(num_classes=50, in_channels_max=3).to(torch.device(\"cuda\" if torch.cuda.is_available() else \"cpu\"))\n",
    "    device = next(model.parameters()).device\n",
    "    criterion = nn.CrossEntropyLoss()\n",
    "    optimizer = optim.Adam(model.parameters(), lr=0.001)\n",
    "\n",
    "    best_val_loss = np.inf\n",
    "    patience = 10\n",
    "    epochs_no_improve = 0\n",
    "    num_epochs = 50\n",
    "    train_losses = []\n",
    "    val_losses = []\n",
    "\n",
    "    interrupted = False  # Flag to track interruptions\n",
    "\n",
    "    try:\n",
    "        for epoch in range(num_epochs):\n",
    "            model.train()\n",
    "            running_loss = 0.0\n",
    "            correct = 0\n",
    "            total = 0\n",
    "\n",
    "            progress_bar = tqdm(train_loader, desc=f\"Epoch {epoch+1}/{num_epochs}\")\n",
    "\n",
    "            for batch_idx, (images, labels) in enumerate(progress_bar):\n",
    "                # Ensure input channels match the current configuration\n",
    "                if images.shape[1] > in_channels:\n",
    "                    images = images[:, :in_channels, :, :]  # Trim channels if needed\n",
    "                images, labels = images.to(device), labels.to(device)\n",
    "\n",
    "                optimizer.zero_grad()\n",
    "                outputs = model(images)\n",
    "                loss = criterion(outputs, labels)\n",
    "                loss.backward()\n",
    "                optimizer.step()\n",
    "\n",
    "                running_loss += loss.item()\n",
    "                _, predicted = torch.max(outputs.data, 1)\n",
    "                total += labels.size(0)\n",
    "                correct += (predicted == labels).sum().item()\n",
    "\n",
    "                progress_bar.set_postfix({\n",
    "                    'loss': f\"{loss.item():.4f}\",\n",
    "                    'avg_loss': f\"{running_loss/(batch_idx+1):.4f}\",\n",
    "                    'accuracy': f\"{100 * correct / total:.2f}%\"\n",
    "                })\n",
    "\n",
    "            epoch_loss = running_loss / len(train_loader)\n",
    "            train_losses.append(epoch_loss)\n",
    "\n",
    "            # Validation\n",
    "            model.eval()\n",
    "            val_loss = 0.0\n",
    "            val_correct = 0\n",
    "            val_total = 0\n",
    "\n",
    "            with torch.no_grad():\n",
    "                for images, labels in val_loader:\n",
    "                    # Ensure input channels match the current configuration\n",
    "                    if images.shape[1] > in_channels:\n",
    "                        images = images[:, :in_channels, :, :]\n",
    "                    images, labels = images.to(device), labels.to(device)\n",
    "\n",
    "                    outputs = model(images)\n",
    "                    loss = criterion(outputs, labels)\n",
    "\n",
    "                    val_loss += loss.item()\n",
    "                    _, predicted = torch.max(outputs.data, 1)\n",
    "                    val_total += labels.size(0)\n",
    "                    val_correct += (predicted == labels).sum().item()\n",
    "\n",
    "            val_epoch_loss = val_loss / len(val_loader)\n",
    "            val_losses.append(val_epoch_loss)\n",
    "\n",
    "            if (epoch + 1) % 5 == 0 or epoch == 0:\n",
    "                print(f\"[Epoch {epoch+1}] Validation Loss: {val_epoch_loss:.4f}, Accuracy: {100 * val_correct / val_total:.2f}%\")\n",
    "\n",
    "            if val_epoch_loss < best_val_loss:\n",
    "                best_val_loss = val_epoch_loss\n",
    "                epochs_no_improve = 0\n",
    "                torch.save(model.state_dict(), f\"resnet18_best_{channel_name}.pth\")\n",
    "            else:\n",
    "                epochs_no_improve += 1\n",
    "\n",
    "            if epochs_no_improve >= patience:\n",
    "                print(f\"Early stopping at epoch {epoch+1} for {channel_name}\")\n",
    "                break\n",
    "\n",
    "    except KeyboardInterrupt:\n",
    "        print(f\"\\nTraining interrupted for {channel_name}. Saving the model so far...\")\n",
    "        interrupted = True\n",
    "\n",
    "    results.append({\n",
    "        'Input Channels': channel_name,\n",
    "        'Best Val Loss': best_val_loss,\n",
    "        'Final Val Accuracy (%)': round(100 * val_correct / val_total, 2)\n",
    "    })\n",
    "\n",
    "    # Plotting losses\n",
    "    plt.figure(figsize=(8, 4))\n",
    "    plt.plot(train_losses, label='Train Loss')\n",
    "    plt.plot(val_losses, label='Val Loss')\n",
    "    plt.title(f'Loss Curve ({channel_name})')\n",
    "    plt.xlabel('Epoch')\n",
    "    plt.ylabel('Loss')\n",
    "    plt.legend()\n",
    "    plt.grid()\n",
    "    plt.show()\n",
    "\n",
    "# === Summary Table ===\n",
    "df = pd.DataFrame(results)\n",
    "print(\"\\n=== Summary of Results ===\")\n",
    "print(df.to_string(index=False))\n"
   ]
  },
  {
   "cell_type": "markdown",
   "metadata": {},
   "source": [
    "ResNet34"
   ]
  },
  {
   "cell_type": "code",
   "execution_count": 21,
   "metadata": {},
   "outputs": [],
   "source": [
    "class BasicBlock(nn.Module):\n",
    "    def __init__(self, in_channels, out_channels, stride=1):\n",
    "        super(BasicBlock, self).__init__()\n",
    "        self.conv1 = nn.Conv2d(in_channels, out_channels, kernel_size=3, stride=stride, padding=1, bias=False)\n",
    "        self.bn1 = nn.BatchNorm2d(out_channels)\n",
    "        self.relu = nn.ReLU(inplace=True)\n",
    "        self.conv2 = nn.Conv2d(out_channels, out_channels, kernel_size=3, stride=1, padding=1, bias=False)\n",
    "        self.bn2 = nn.BatchNorm2d(out_channels)\n",
    "        \n",
    "        self.downsample = nn.Sequential()\n",
    "        if stride != 1 or in_channels != out_channels:\n",
    "            self.downsample = nn.Sequential(\n",
    "                nn.Conv2d(in_channels, out_channels, kernel_size=1, stride=stride, bias=False),\n",
    "                nn.BatchNorm2d(out_channels),\n",
    "            )\n",
    "            \n",
    "    def forward(self, x):\n",
    "        shortcut = self.downsample(x)\n",
    "        out = self.conv1(x)\n",
    "        out = self.bn1(out)\n",
    "        out = self.relu(out)\n",
    "        out = self.conv2(out)\n",
    "        out = self.bn2(out)\n",
    "        out += shortcut\n",
    "        out = self.relu(out)\n",
    "        return out\n",
    "\n",
    "class ResNet34(nn.Module):\n",
    "    def __init__(self, num_classes=50):\n",
    "        super(ResNet34, self).__init__()\n",
    "        self.in_channels = 64\n",
    "        self.conv1 = nn.Conv2d(3, 64, kernel_size=7, stride=2, padding=3, bias=False)\n",
    "        self.bn1 = nn.BatchNorm2d(64)\n",
    "        self.relu = nn.ReLU(inplace=True)\n",
    "        self.maxpool = nn.MaxPool2d(kernel_size=3, stride=2, padding=1)\n",
    "        \n",
    "        self.layer1 = self._make_layer(BasicBlock, 64, 3, stride=1)\n",
    "        self.layer2 = self._make_layer(BasicBlock, 128, 4, stride=2)\n",
    "        self.layer3 = self._make_layer(BasicBlock, 256, 6, stride=2)\n",
    "        self.layer4 = self._make_layer(BasicBlock, 512, 3, stride=2)\n",
    "        \n",
    "        self.avgpool = nn.AdaptiveAvgPool2d((1, 1))\n",
    "        self.fc = nn.Linear(512, num_classes)\n",
    "        \n",
    "    def _make_layer(self, block, out_channels, num_blocks, stride):\n",
    "        layers = []\n",
    "        layers.append(block(self.in_channels, out_channels, stride))\n",
    "        self.in_channels = out_channels\n",
    "        for _ in range(1, num_blocks):\n",
    "            layers.append(block(out_channels, out_channels, stride=1))\n",
    "        return nn.Sequential(*layers)\n",
    "        \n",
    "    def forward(self, x):\n",
    "        x = self.conv1(x)\n",
    "        x = self.bn1(x)\n",
    "        x = self.relu(x)\n",
    "        x = self.maxpool(x)\n",
    "        \n",
    "        x = self.layer1(x)\n",
    "        x = self.layer2(x)\n",
    "        x = self.layer3(x)\n",
    "        x = self.layer4(x)\n",
    "        \n",
    "        x = self.avgpool(x)\n",
    "        x = x.view(x.size(0), -1)\n",
    "        x = self.fc(x)\n",
    "        return x"
   ]
  },
  {
   "cell_type": "code",
   "execution_count": 22,
   "metadata": {},
   "outputs": [
    {
     "data": {
      "text/plain": [
       "==========================================================================================\n",
       "Layer (type:depth-idx)                   Output Shape              Param #\n",
       "==========================================================================================\n",
       "ResNet34                                 [1, 50]                   --\n",
       "├─Conv2d: 1-1                            [1, 64, 112, 112]         9,408\n",
       "├─BatchNorm2d: 1-2                       [1, 64, 112, 112]         128\n",
       "├─ReLU: 1-3                              [1, 64, 112, 112]         --\n",
       "├─MaxPool2d: 1-4                         [1, 64, 56, 56]           --\n",
       "├─Sequential: 1-5                        [1, 64, 56, 56]           --\n",
       "│    └─BasicBlock: 2-1                   [1, 64, 56, 56]           --\n",
       "│    │    └─Sequential: 3-1              [1, 64, 56, 56]           --\n",
       "│    │    └─Conv2d: 3-2                  [1, 64, 56, 56]           36,864\n",
       "│    │    └─BatchNorm2d: 3-3             [1, 64, 56, 56]           128\n",
       "│    │    └─ReLU: 3-4                    [1, 64, 56, 56]           --\n",
       "│    │    └─Conv2d: 3-5                  [1, 64, 56, 56]           36,864\n",
       "│    │    └─BatchNorm2d: 3-6             [1, 64, 56, 56]           128\n",
       "│    │    └─ReLU: 3-7                    [1, 64, 56, 56]           --\n",
       "│    └─BasicBlock: 2-2                   [1, 64, 56, 56]           --\n",
       "│    │    └─Sequential: 3-8              [1, 64, 56, 56]           --\n",
       "│    │    └─Conv2d: 3-9                  [1, 64, 56, 56]           36,864\n",
       "│    │    └─BatchNorm2d: 3-10            [1, 64, 56, 56]           128\n",
       "│    │    └─ReLU: 3-11                   [1, 64, 56, 56]           --\n",
       "│    │    └─Conv2d: 3-12                 [1, 64, 56, 56]           36,864\n",
       "│    │    └─BatchNorm2d: 3-13            [1, 64, 56, 56]           128\n",
       "│    │    └─ReLU: 3-14                   [1, 64, 56, 56]           --\n",
       "│    └─BasicBlock: 2-3                   [1, 64, 56, 56]           --\n",
       "│    │    └─Sequential: 3-15             [1, 64, 56, 56]           --\n",
       "│    │    └─Conv2d: 3-16                 [1, 64, 56, 56]           36,864\n",
       "│    │    └─BatchNorm2d: 3-17            [1, 64, 56, 56]           128\n",
       "│    │    └─ReLU: 3-18                   [1, 64, 56, 56]           --\n",
       "│    │    └─Conv2d: 3-19                 [1, 64, 56, 56]           36,864\n",
       "│    │    └─BatchNorm2d: 3-20            [1, 64, 56, 56]           128\n",
       "│    │    └─ReLU: 3-21                   [1, 64, 56, 56]           --\n",
       "├─Sequential: 1-6                        [1, 128, 28, 28]          --\n",
       "│    └─BasicBlock: 2-4                   [1, 128, 28, 28]          --\n",
       "│    │    └─Sequential: 3-22             [1, 128, 28, 28]          8,448\n",
       "│    │    └─Conv2d: 3-23                 [1, 128, 28, 28]          73,728\n",
       "│    │    └─BatchNorm2d: 3-24            [1, 128, 28, 28]          256\n",
       "│    │    └─ReLU: 3-25                   [1, 128, 28, 28]          --\n",
       "│    │    └─Conv2d: 3-26                 [1, 128, 28, 28]          147,456\n",
       "│    │    └─BatchNorm2d: 3-27            [1, 128, 28, 28]          256\n",
       "│    │    └─ReLU: 3-28                   [1, 128, 28, 28]          --\n",
       "│    └─BasicBlock: 2-5                   [1, 128, 28, 28]          --\n",
       "│    │    └─Sequential: 3-29             [1, 128, 28, 28]          --\n",
       "│    │    └─Conv2d: 3-30                 [1, 128, 28, 28]          147,456\n",
       "│    │    └─BatchNorm2d: 3-31            [1, 128, 28, 28]          256\n",
       "│    │    └─ReLU: 3-32                   [1, 128, 28, 28]          --\n",
       "│    │    └─Conv2d: 3-33                 [1, 128, 28, 28]          147,456\n",
       "│    │    └─BatchNorm2d: 3-34            [1, 128, 28, 28]          256\n",
       "│    │    └─ReLU: 3-35                   [1, 128, 28, 28]          --\n",
       "│    └─BasicBlock: 2-6                   [1, 128, 28, 28]          --\n",
       "│    │    └─Sequential: 3-36             [1, 128, 28, 28]          --\n",
       "│    │    └─Conv2d: 3-37                 [1, 128, 28, 28]          147,456\n",
       "│    │    └─BatchNorm2d: 3-38            [1, 128, 28, 28]          256\n",
       "│    │    └─ReLU: 3-39                   [1, 128, 28, 28]          --\n",
       "│    │    └─Conv2d: 3-40                 [1, 128, 28, 28]          147,456\n",
       "│    │    └─BatchNorm2d: 3-41            [1, 128, 28, 28]          256\n",
       "│    │    └─ReLU: 3-42                   [1, 128, 28, 28]          --\n",
       "│    └─BasicBlock: 2-7                   [1, 128, 28, 28]          --\n",
       "│    │    └─Sequential: 3-43             [1, 128, 28, 28]          --\n",
       "│    │    └─Conv2d: 3-44                 [1, 128, 28, 28]          147,456\n",
       "│    │    └─BatchNorm2d: 3-45            [1, 128, 28, 28]          256\n",
       "│    │    └─ReLU: 3-46                   [1, 128, 28, 28]          --\n",
       "│    │    └─Conv2d: 3-47                 [1, 128, 28, 28]          147,456\n",
       "│    │    └─BatchNorm2d: 3-48            [1, 128, 28, 28]          256\n",
       "│    │    └─ReLU: 3-49                   [1, 128, 28, 28]          --\n",
       "├─Sequential: 1-7                        [1, 256, 14, 14]          --\n",
       "│    └─BasicBlock: 2-8                   [1, 256, 14, 14]          --\n",
       "│    │    └─Sequential: 3-50             [1, 256, 14, 14]          33,280\n",
       "│    │    └─Conv2d: 3-51                 [1, 256, 14, 14]          294,912\n",
       "│    │    └─BatchNorm2d: 3-52            [1, 256, 14, 14]          512\n",
       "│    │    └─ReLU: 3-53                   [1, 256, 14, 14]          --\n",
       "│    │    └─Conv2d: 3-54                 [1, 256, 14, 14]          589,824\n",
       "│    │    └─BatchNorm2d: 3-55            [1, 256, 14, 14]          512\n",
       "│    │    └─ReLU: 3-56                   [1, 256, 14, 14]          --\n",
       "│    └─BasicBlock: 2-9                   [1, 256, 14, 14]          --\n",
       "│    │    └─Sequential: 3-57             [1, 256, 14, 14]          --\n",
       "│    │    └─Conv2d: 3-58                 [1, 256, 14, 14]          589,824\n",
       "│    │    └─BatchNorm2d: 3-59            [1, 256, 14, 14]          512\n",
       "│    │    └─ReLU: 3-60                   [1, 256, 14, 14]          --\n",
       "│    │    └─Conv2d: 3-61                 [1, 256, 14, 14]          589,824\n",
       "│    │    └─BatchNorm2d: 3-62            [1, 256, 14, 14]          512\n",
       "│    │    └─ReLU: 3-63                   [1, 256, 14, 14]          --\n",
       "│    └─BasicBlock: 2-10                  [1, 256, 14, 14]          --\n",
       "│    │    └─Sequential: 3-64             [1, 256, 14, 14]          --\n",
       "│    │    └─Conv2d: 3-65                 [1, 256, 14, 14]          589,824\n",
       "│    │    └─BatchNorm2d: 3-66            [1, 256, 14, 14]          512\n",
       "│    │    └─ReLU: 3-67                   [1, 256, 14, 14]          --\n",
       "│    │    └─Conv2d: 3-68                 [1, 256, 14, 14]          589,824\n",
       "│    │    └─BatchNorm2d: 3-69            [1, 256, 14, 14]          512\n",
       "│    │    └─ReLU: 3-70                   [1, 256, 14, 14]          --\n",
       "│    └─BasicBlock: 2-11                  [1, 256, 14, 14]          --\n",
       "│    │    └─Sequential: 3-71             [1, 256, 14, 14]          --\n",
       "│    │    └─Conv2d: 3-72                 [1, 256, 14, 14]          589,824\n",
       "│    │    └─BatchNorm2d: 3-73            [1, 256, 14, 14]          512\n",
       "│    │    └─ReLU: 3-74                   [1, 256, 14, 14]          --\n",
       "│    │    └─Conv2d: 3-75                 [1, 256, 14, 14]          589,824\n",
       "│    │    └─BatchNorm2d: 3-76            [1, 256, 14, 14]          512\n",
       "│    │    └─ReLU: 3-77                   [1, 256, 14, 14]          --\n",
       "│    └─BasicBlock: 2-12                  [1, 256, 14, 14]          --\n",
       "│    │    └─Sequential: 3-78             [1, 256, 14, 14]          --\n",
       "│    │    └─Conv2d: 3-79                 [1, 256, 14, 14]          589,824\n",
       "│    │    └─BatchNorm2d: 3-80            [1, 256, 14, 14]          512\n",
       "│    │    └─ReLU: 3-81                   [1, 256, 14, 14]          --\n",
       "│    │    └─Conv2d: 3-82                 [1, 256, 14, 14]          589,824\n",
       "│    │    └─BatchNorm2d: 3-83            [1, 256, 14, 14]          512\n",
       "│    │    └─ReLU: 3-84                   [1, 256, 14, 14]          --\n",
       "│    └─BasicBlock: 2-13                  [1, 256, 14, 14]          --\n",
       "│    │    └─Sequential: 3-85             [1, 256, 14, 14]          --\n",
       "│    │    └─Conv2d: 3-86                 [1, 256, 14, 14]          589,824\n",
       "│    │    └─BatchNorm2d: 3-87            [1, 256, 14, 14]          512\n",
       "│    │    └─ReLU: 3-88                   [1, 256, 14, 14]          --\n",
       "│    │    └─Conv2d: 3-89                 [1, 256, 14, 14]          589,824\n",
       "│    │    └─BatchNorm2d: 3-90            [1, 256, 14, 14]          512\n",
       "│    │    └─ReLU: 3-91                   [1, 256, 14, 14]          --\n",
       "├─Sequential: 1-8                        [1, 512, 7, 7]            --\n",
       "│    └─BasicBlock: 2-14                  [1, 512, 7, 7]            --\n",
       "│    │    └─Sequential: 3-92             [1, 512, 7, 7]            132,096\n",
       "│    │    └─Conv2d: 3-93                 [1, 512, 7, 7]            1,179,648\n",
       "│    │    └─BatchNorm2d: 3-94            [1, 512, 7, 7]            1,024\n",
       "│    │    └─ReLU: 3-95                   [1, 512, 7, 7]            --\n",
       "│    │    └─Conv2d: 3-96                 [1, 512, 7, 7]            2,359,296\n",
       "│    │    └─BatchNorm2d: 3-97            [1, 512, 7, 7]            1,024\n",
       "│    │    └─ReLU: 3-98                   [1, 512, 7, 7]            --\n",
       "│    └─BasicBlock: 2-15                  [1, 512, 7, 7]            --\n",
       "│    │    └─Sequential: 3-99             [1, 512, 7, 7]            --\n",
       "│    │    └─Conv2d: 3-100                [1, 512, 7, 7]            2,359,296\n",
       "│    │    └─BatchNorm2d: 3-101           [1, 512, 7, 7]            1,024\n",
       "│    │    └─ReLU: 3-102                  [1, 512, 7, 7]            --\n",
       "│    │    └─Conv2d: 3-103                [1, 512, 7, 7]            2,359,296\n",
       "│    │    └─BatchNorm2d: 3-104           [1, 512, 7, 7]            1,024\n",
       "│    │    └─ReLU: 3-105                  [1, 512, 7, 7]            --\n",
       "│    └─BasicBlock: 2-16                  [1, 512, 7, 7]            --\n",
       "│    │    └─Sequential: 3-106            [1, 512, 7, 7]            --\n",
       "│    │    └─Conv2d: 3-107                [1, 512, 7, 7]            2,359,296\n",
       "│    │    └─BatchNorm2d: 3-108           [1, 512, 7, 7]            1,024\n",
       "│    │    └─ReLU: 3-109                  [1, 512, 7, 7]            --\n",
       "│    │    └─Conv2d: 3-110                [1, 512, 7, 7]            2,359,296\n",
       "│    │    └─BatchNorm2d: 3-111           [1, 512, 7, 7]            1,024\n",
       "│    │    └─ReLU: 3-112                  [1, 512, 7, 7]            --\n",
       "├─AdaptiveAvgPool2d: 1-9                 [1, 512, 1, 1]            --\n",
       "├─Linear: 1-10                           [1, 50]                   25,650\n",
       "==========================================================================================\n",
       "Total params: 21,310,322\n",
       "Trainable params: 21,310,322\n",
       "Non-trainable params: 0\n",
       "Total mult-adds (G): 3.66\n",
       "==========================================================================================\n",
       "Input size (MB): 0.60\n",
       "Forward/backward pass size (MB): 59.81\n",
       "Params size (MB): 85.24\n",
       "Estimated Total Size (MB): 145.65\n",
       "=========================================================================================="
      ]
     },
     "execution_count": 22,
     "metadata": {},
     "output_type": "execute_result"
    }
   ],
   "source": [
    "model = ResNet34()\n",
    "summary(model, input_size=(1, 3, 224, 224))"
   ]
  },
  {
   "cell_type": "code",
   "execution_count": 7,
   "metadata": {},
   "outputs": [
    {
     "name": "stdout",
     "output_type": "stream",
     "text": [
      "Using device: cuda\n"
     ]
    },
    {
     "name": "stderr",
     "output_type": "stream",
     "text": [
      "Epoch 1/50: 100%|██████████| 1979/1979 [05:52<00:00,  5.61it/s, loss=2.8417, avg_loss=3.3207, accuracy=12.27%]\n"
     ]
    },
    {
     "name": "stdout",
     "output_type": "stream",
     "text": [
      "\n",
      "Training - Epoch 1: Loss: 3.3207, Accuracy: 12.27%\n",
      "Validation - Epoch 1: Loss: 3.1115, Accuracy: 16.70%\n",
      "\n",
      "Validation loss improved. Model saved to resnet34_best.pth\n"
     ]
    },
    {
     "name": "stderr",
     "output_type": "stream",
     "text": [
      "Epoch 2/50: 100%|██████████| 1979/1979 [05:52<00:00,  5.61it/s, loss=2.1994, avg_loss=2.7397, accuracy=23.49%]\n"
     ]
    },
    {
     "name": "stdout",
     "output_type": "stream",
     "text": [
      "\n",
      "Training - Epoch 2: Loss: 2.7397, Accuracy: 23.49%\n",
      "Validation - Epoch 2: Loss: 2.5070, Accuracy: 29.42%\n",
      "\n",
      "Validation loss improved. Model saved to resnet34_best.pth\n"
     ]
    },
    {
     "name": "stderr",
     "output_type": "stream",
     "text": [
      "Epoch 3/50: 100%|██████████| 1979/1979 [05:53<00:00,  5.60it/s, loss=2.2851, avg_loss=2.3093, accuracy=33.65%]\n"
     ]
    },
    {
     "name": "stdout",
     "output_type": "stream",
     "text": [
      "\n",
      "Training - Epoch 3: Loss: 2.3093, Accuracy: 33.65%\n",
      "Validation - Epoch 3: Loss: 2.0387, Accuracy: 40.75%\n",
      "\n",
      "Validation loss improved. Model saved to resnet34_best.pth\n"
     ]
    },
    {
     "name": "stderr",
     "output_type": "stream",
     "text": [
      "Epoch 4/50: 100%|██████████| 1979/1979 [05:52<00:00,  5.61it/s, loss=1.6886, avg_loss=1.9421, accuracy=42.79%]\n"
     ]
    },
    {
     "name": "stdout",
     "output_type": "stream",
     "text": [
      "\n",
      "Training - Epoch 4: Loss: 1.9421, Accuracy: 42.79%\n",
      "Validation - Epoch 4: Loss: 1.7211, Accuracy: 48.19%\n",
      "\n",
      "Validation loss improved. Model saved to resnet34_best.pth\n"
     ]
    },
    {
     "name": "stderr",
     "output_type": "stream",
     "text": [
      "Epoch 5/50: 100%|██████████| 1979/1979 [05:52<00:00,  5.61it/s, loss=2.0359, avg_loss=1.6279, accuracy=51.12%]\n"
     ]
    },
    {
     "name": "stdout",
     "output_type": "stream",
     "text": [
      "\n",
      "Training - Epoch 5: Loss: 1.6279, Accuracy: 51.12%\n",
      "Validation - Epoch 5: Loss: 1.4243, Accuracy: 57.00%\n",
      "\n",
      "Validation loss improved. Model saved to resnet34_best.pth\n"
     ]
    },
    {
     "name": "stderr",
     "output_type": "stream",
     "text": [
      "Epoch 6/50: 100%|██████████| 1979/1979 [05:52<00:00,  5.61it/s, loss=1.1832, avg_loss=1.3644, accuracy=57.87%]\n"
     ]
    },
    {
     "name": "stdout",
     "output_type": "stream",
     "text": [
      "\n",
      "Training - Epoch 6: Loss: 1.3644, Accuracy: 57.87%\n",
      "Validation - Epoch 6: Loss: 1.1890, Accuracy: 63.92%\n",
      "\n",
      "Validation loss improved. Model saved to resnet34_best.pth\n"
     ]
    },
    {
     "name": "stderr",
     "output_type": "stream",
     "text": [
      "Epoch 7/50: 100%|██████████| 1979/1979 [05:52<00:00,  5.61it/s, loss=1.2787, avg_loss=1.1112, accuracy=64.59%]\n"
     ]
    },
    {
     "name": "stdout",
     "output_type": "stream",
     "text": [
      "\n",
      "Training - Epoch 7: Loss: 1.1112, Accuracy: 64.59%\n",
      "Validation - Epoch 7: Loss: 0.8978, Accuracy: 71.91%\n",
      "\n",
      "Validation loss improved. Model saved to resnet34_best.pth\n"
     ]
    },
    {
     "name": "stderr",
     "output_type": "stream",
     "text": [
      "Epoch 8/50: 100%|██████████| 1979/1979 [05:52<00:00,  5.61it/s, loss=0.5022, avg_loss=0.8679, accuracy=71.73%]\n"
     ]
    },
    {
     "name": "stdout",
     "output_type": "stream",
     "text": [
      "\n",
      "Training - Epoch 8: Loss: 0.8679, Accuracy: 71.73%\n",
      "Validation - Epoch 8: Loss: 0.6076, Accuracy: 81.12%\n",
      "\n",
      "Validation loss improved. Model saved to resnet34_best.pth\n"
     ]
    },
    {
     "name": "stderr",
     "output_type": "stream",
     "text": [
      "Epoch 9/50: 100%|██████████| 1979/1979 [05:52<00:00,  5.61it/s, loss=0.7271, avg_loss=0.6305, accuracy=78.73%]\n"
     ]
    },
    {
     "name": "stdout",
     "output_type": "stream",
     "text": [
      "\n",
      "Training - Epoch 9: Loss: 0.6305, Accuracy: 78.73%\n",
      "Validation - Epoch 9: Loss: 0.5398, Accuracy: 87.61%\n",
      "\n",
      "Validation loss improved. Model saved to resnet34_best.pth\n"
     ]
    },
    {
     "name": "stderr",
     "output_type": "stream",
     "text": [
      "Epoch 10/50: 100%|██████████| 1979/1979 [05:53<00:00,  5.60it/s, loss=0.4045, avg_loss=0.4261, accuracy=85.48%]\n"
     ]
    },
    {
     "name": "stdout",
     "output_type": "stream",
     "text": [
      "\n",
      "Training - Epoch 10: Loss: 0.4261, Accuracy: 85.48%\n",
      "Validation - Epoch 10: Loss: 0.3188, Accuracy: 91.85%\n",
      "\n",
      "Validation loss improved. Model saved to resnet34_best.pth\n"
     ]
    },
    {
     "name": "stderr",
     "output_type": "stream",
     "text": [
      "Epoch 11/50: 100%|██████████| 1979/1979 [05:52<00:00,  5.61it/s, loss=0.2781, avg_loss=0.3306, accuracy=89.11%]\n"
     ]
    },
    {
     "name": "stdout",
     "output_type": "stream",
     "text": [
      "\n",
      "Training - Epoch 11: Loss: 0.3306, Accuracy: 89.11%\n",
      "Validation - Epoch 11: Loss: 0.3588, Accuracy: 93.68%\n",
      "\n",
      "No improvement for 1 epoch(s).\n"
     ]
    },
    {
     "name": "stderr",
     "output_type": "stream",
     "text": [
      "Epoch 12/50: 100%|██████████| 1979/1979 [05:52<00:00,  5.61it/s, loss=0.3436, avg_loss=0.2449, accuracy=92.18%]\n"
     ]
    },
    {
     "name": "stdout",
     "output_type": "stream",
     "text": [
      "\n",
      "Training - Epoch 12: Loss: 0.2449, Accuracy: 92.18%\n",
      "Validation - Epoch 12: Loss: 0.5562, Accuracy: 93.73%\n",
      "\n",
      "No improvement for 2 epoch(s).\n"
     ]
    },
    {
     "name": "stderr",
     "output_type": "stream",
     "text": [
      "Epoch 13/50: 100%|██████████| 1979/1979 [05:52<00:00,  5.61it/s, loss=0.5845, avg_loss=0.2207, accuracy=93.03%]\n"
     ]
    },
    {
     "name": "stdout",
     "output_type": "stream",
     "text": [
      "\n",
      "Training - Epoch 13: Loss: 0.2207, Accuracy: 93.03%\n",
      "Validation - Epoch 13: Loss: 0.7378, Accuracy: 93.38%\n",
      "\n",
      "No improvement for 3 epoch(s).\n"
     ]
    },
    {
     "name": "stderr",
     "output_type": "stream",
     "text": [
      "Epoch 14/50: 100%|██████████| 1979/1979 [05:52<00:00,  5.61it/s, loss=0.1148, avg_loss=0.1888, accuracy=94.22%]\n"
     ]
    },
    {
     "name": "stdout",
     "output_type": "stream",
     "text": [
      "\n",
      "Training - Epoch 14: Loss: 0.1888, Accuracy: 94.22%\n",
      "Validation - Epoch 14: Loss: 0.2679, Accuracy: 94.37%\n",
      "\n",
      "Validation loss improved. Model saved to resnet34_best.pth\n"
     ]
    },
    {
     "name": "stderr",
     "output_type": "stream",
     "text": [
      "Epoch 15/50: 100%|██████████| 1979/1979 [05:52<00:00,  5.61it/s, loss=0.8167, avg_loss=0.1743, accuracy=94.60%]\n"
     ]
    },
    {
     "name": "stdout",
     "output_type": "stream",
     "text": [
      "\n",
      "Training - Epoch 15: Loss: 0.1743, Accuracy: 94.60%\n",
      "Validation - Epoch 15: Loss: 0.1464, Accuracy: 96.92%\n",
      "\n",
      "Validation loss improved. Model saved to resnet34_best.pth\n"
     ]
    },
    {
     "name": "stderr",
     "output_type": "stream",
     "text": [
      "Epoch 16/50: 100%|██████████| 1979/1979 [05:52<00:00,  5.61it/s, loss=0.0996, avg_loss=0.1630, accuracy=94.93%]\n"
     ]
    },
    {
     "name": "stdout",
     "output_type": "stream",
     "text": [
      "\n",
      "Training - Epoch 16: Loss: 0.1630, Accuracy: 94.93%\n",
      "Validation - Epoch 16: Loss: 0.1289, Accuracy: 96.75%\n",
      "\n",
      "Validation loss improved. Model saved to resnet34_best.pth\n"
     ]
    },
    {
     "name": "stderr",
     "output_type": "stream",
     "text": [
      "Epoch 17/50: 100%|██████████| 1979/1979 [10:16<00:00,  3.21it/s, loss=0.1742, avg_loss=0.1379, accuracy=95.77%]\n"
     ]
    },
    {
     "name": "stdout",
     "output_type": "stream",
     "text": [
      "\n",
      "Training - Epoch 17: Loss: 0.1379, Accuracy: 95.77%\n",
      "Validation - Epoch 17: Loss: 2.8866, Accuracy: 95.76%\n",
      "\n",
      "No improvement for 1 epoch(s).\n"
     ]
    },
    {
     "name": "stderr",
     "output_type": "stream",
     "text": [
      "Epoch 18/50: 100%|██████████| 1979/1979 [05:52<00:00,  5.62it/s, loss=0.0749, avg_loss=0.1328, accuracy=95.91%]\n"
     ]
    },
    {
     "name": "stdout",
     "output_type": "stream",
     "text": [
      "\n",
      "Training - Epoch 18: Loss: 0.1328, Accuracy: 95.91%\n",
      "Validation - Epoch 18: Loss: 0.8547, Accuracy: 97.26%\n",
      "\n",
      "No improvement for 2 epoch(s).\n"
     ]
    },
    {
     "name": "stderr",
     "output_type": "stream",
     "text": [
      "Epoch 19/50: 100%|██████████| 1979/1979 [05:52<00:00,  5.62it/s, loss=0.1241, avg_loss=0.1194, accuracy=96.25%]\n"
     ]
    },
    {
     "name": "stdout",
     "output_type": "stream",
     "text": [
      "\n",
      "Training - Epoch 19: Loss: 0.1194, Accuracy: 96.25%\n",
      "Validation - Epoch 19: Loss: 0.8933, Accuracy: 96.67%\n",
      "\n",
      "No improvement for 3 epoch(s).\n"
     ]
    },
    {
     "name": "stderr",
     "output_type": "stream",
     "text": [
      "Epoch 20/50: 100%|██████████| 1979/1979 [05:52<00:00,  5.62it/s, loss=0.0289, avg_loss=0.1144, accuracy=96.30%]\n"
     ]
    },
    {
     "name": "stdout",
     "output_type": "stream",
     "text": [
      "\n",
      "Training - Epoch 20: Loss: 0.1144, Accuracy: 96.30%\n",
      "Validation - Epoch 20: Loss: 0.1180, Accuracy: 98.19%\n",
      "\n",
      "Validation loss improved. Model saved to resnet34_best.pth\n"
     ]
    },
    {
     "name": "stderr",
     "output_type": "stream",
     "text": [
      "Epoch 21/50: 100%|██████████| 1979/1979 [05:54<00:00,  5.58it/s, loss=0.1117, avg_loss=0.1053, accuracy=96.50%]\n"
     ]
    },
    {
     "name": "stdout",
     "output_type": "stream",
     "text": [
      "\n",
      "Training - Epoch 21: Loss: 0.1053, Accuracy: 96.50%\n",
      "Validation - Epoch 21: Loss: 0.6725, Accuracy: 96.82%\n",
      "\n",
      "No improvement for 1 epoch(s).\n"
     ]
    },
    {
     "name": "stderr",
     "output_type": "stream",
     "text": [
      "Epoch 22/50: 100%|██████████| 1979/1979 [06:19<00:00,  5.22it/s, loss=0.0867, avg_loss=0.1071, accuracy=96.48%]\n"
     ]
    },
    {
     "name": "stdout",
     "output_type": "stream",
     "text": [
      "\n",
      "Training - Epoch 22: Loss: 0.1071, Accuracy: 96.48%\n",
      "Validation - Epoch 22: Loss: 0.6522, Accuracy: 97.34%\n",
      "\n",
      "No improvement for 2 epoch(s).\n"
     ]
    },
    {
     "name": "stderr",
     "output_type": "stream",
     "text": [
      "Epoch 23/50: 100%|██████████| 1979/1979 [06:23<00:00,  5.15it/s, loss=0.2382, avg_loss=0.1000, accuracy=96.71%]\n"
     ]
    },
    {
     "name": "stdout",
     "output_type": "stream",
     "text": [
      "\n",
      "Training - Epoch 23: Loss: 0.1000, Accuracy: 96.71%\n",
      "Validation - Epoch 23: Loss: 0.6579, Accuracy: 97.17%\n",
      "\n",
      "No improvement for 3 epoch(s).\n"
     ]
    },
    {
     "name": "stderr",
     "output_type": "stream",
     "text": [
      "Epoch 24/50: 100%|██████████| 1979/1979 [05:57<00:00,  5.54it/s, loss=0.1194, avg_loss=0.0835, accuracy=97.17%]\n"
     ]
    },
    {
     "name": "stdout",
     "output_type": "stream",
     "text": [
      "\n",
      "Training - Epoch 24: Loss: 0.0835, Accuracy: 97.17%\n",
      "Validation - Epoch 24: Loss: 2.0438, Accuracy: 96.68%\n",
      "\n",
      "No improvement for 4 epoch(s).\n"
     ]
    },
    {
     "name": "stderr",
     "output_type": "stream",
     "text": [
      "Epoch 25/50: 100%|██████████| 1979/1979 [05:56<00:00,  5.55it/s, loss=0.1407, avg_loss=0.0967, accuracy=96.68%]\n"
     ]
    },
    {
     "name": "stdout",
     "output_type": "stream",
     "text": [
      "\n",
      "Training - Epoch 25: Loss: 0.0967, Accuracy: 96.68%\n",
      "Validation - Epoch 25: Loss: 1.7132, Accuracy: 96.40%\n",
      "\n",
      "No improvement for 5 epoch(s).\n"
     ]
    },
    {
     "name": "stderr",
     "output_type": "stream",
     "text": [
      "Epoch 26/50: 100%|██████████| 1979/1979 [05:55<00:00,  5.56it/s, loss=0.0238, avg_loss=0.0947, accuracy=96.81%]\n"
     ]
    },
    {
     "name": "stdout",
     "output_type": "stream",
     "text": [
      "\n",
      "Training - Epoch 26: Loss: 0.0947, Accuracy: 96.81%\n",
      "Validation - Epoch 26: Loss: 1.7870, Accuracy: 96.59%\n",
      "\n",
      "No improvement for 6 epoch(s).\n"
     ]
    },
    {
     "name": "stderr",
     "output_type": "stream",
     "text": [
      "Epoch 27/50: 100%|██████████| 1979/1979 [05:55<00:00,  5.57it/s, loss=0.0590, avg_loss=0.0785, accuracy=97.24%]\n"
     ]
    },
    {
     "name": "stdout",
     "output_type": "stream",
     "text": [
      "\n",
      "Training - Epoch 27: Loss: 0.0785, Accuracy: 97.24%\n",
      "Validation - Epoch 27: Loss: 0.0473, Accuracy: 98.37%\n",
      "\n",
      "Validation loss improved. Model saved to resnet34_best.pth\n"
     ]
    },
    {
     "name": "stderr",
     "output_type": "stream",
     "text": [
      "Epoch 28/50: 100%|██████████| 1979/1979 [05:56<00:00,  5.56it/s, loss=0.2006, avg_loss=0.0764, accuracy=97.32%]\n"
     ]
    },
    {
     "name": "stdout",
     "output_type": "stream",
     "text": [
      "\n",
      "Training - Epoch 28: Loss: 0.0764, Accuracy: 97.32%\n",
      "Validation - Epoch 28: Loss: 0.0962, Accuracy: 97.55%\n",
      "\n",
      "No improvement for 1 epoch(s).\n"
     ]
    },
    {
     "name": "stderr",
     "output_type": "stream",
     "text": [
      "Epoch 29/50: 100%|██████████| 1979/1979 [06:00<00:00,  5.49it/s, loss=0.1898, avg_loss=0.0731, accuracy=97.35%]\n"
     ]
    },
    {
     "name": "stdout",
     "output_type": "stream",
     "text": [
      "\n",
      "Training - Epoch 29: Loss: 0.0731, Accuracy: 97.35%\n",
      "Validation - Epoch 29: Loss: 0.0344, Accuracy: 98.75%\n",
      "\n",
      "Validation loss improved. Model saved to resnet34_best.pth\n"
     ]
    },
    {
     "name": "stderr",
     "output_type": "stream",
     "text": [
      "Epoch 30/50: 100%|██████████| 1979/1979 [05:56<00:00,  5.55it/s, loss=0.0904, avg_loss=0.0750, accuracy=97.34%]\n"
     ]
    },
    {
     "name": "stdout",
     "output_type": "stream",
     "text": [
      "\n",
      "Training - Epoch 30: Loss: 0.0750, Accuracy: 97.34%\n",
      "Validation - Epoch 30: Loss: 0.0570, Accuracy: 98.25%\n",
      "\n",
      "No improvement for 1 epoch(s).\n"
     ]
    },
    {
     "name": "stderr",
     "output_type": "stream",
     "text": [
      "Epoch 31/50: 100%|██████████| 1979/1979 [05:58<00:00,  5.52it/s, loss=0.0041, avg_loss=0.0677, accuracy=97.56%]\n"
     ]
    },
    {
     "name": "stdout",
     "output_type": "stream",
     "text": [
      "\n",
      "Training - Epoch 31: Loss: 0.0677, Accuracy: 97.56%\n",
      "Validation - Epoch 31: Loss: 0.2734, Accuracy: 97.39%\n",
      "\n",
      "No improvement for 2 epoch(s).\n"
     ]
    },
    {
     "name": "stderr",
     "output_type": "stream",
     "text": [
      "Epoch 32/50: 100%|██████████| 1979/1979 [05:57<00:00,  5.53it/s, loss=0.1204, avg_loss=0.0674, accuracy=97.58%]\n"
     ]
    },
    {
     "name": "stdout",
     "output_type": "stream",
     "text": [
      "\n",
      "Training - Epoch 32: Loss: 0.0674, Accuracy: 97.58%\n",
      "Validation - Epoch 32: Loss: 0.1989, Accuracy: 97.71%\n",
      "\n",
      "No improvement for 3 epoch(s).\n"
     ]
    },
    {
     "name": "stderr",
     "output_type": "stream",
     "text": [
      "Epoch 33/50: 100%|██████████| 1979/1979 [05:57<00:00,  5.54it/s, loss=0.0620, avg_loss=0.0647, accuracy=97.64%]\n"
     ]
    },
    {
     "name": "stdout",
     "output_type": "stream",
     "text": [
      "\n",
      "Training - Epoch 33: Loss: 0.0647, Accuracy: 97.64%\n",
      "Validation - Epoch 33: Loss: 0.0412, Accuracy: 98.60%\n",
      "\n",
      "No improvement for 4 epoch(s).\n"
     ]
    },
    {
     "name": "stderr",
     "output_type": "stream",
     "text": [
      "Epoch 34/50: 100%|██████████| 1979/1979 [05:56<00:00,  5.55it/s, loss=0.1314, avg_loss=0.0611, accuracy=97.75%]\n"
     ]
    },
    {
     "name": "stdout",
     "output_type": "stream",
     "text": [
      "\n",
      "Training - Epoch 34: Loss: 0.0611, Accuracy: 97.75%\n",
      "Validation - Epoch 34: Loss: 0.1644, Accuracy: 97.81%\n",
      "\n",
      "No improvement for 5 epoch(s).\n"
     ]
    },
    {
     "name": "stderr",
     "output_type": "stream",
     "text": [
      "Epoch 35/50: 100%|██████████| 1979/1979 [05:55<00:00,  5.56it/s, loss=0.0746, avg_loss=0.0587, accuracy=97.81%]\n"
     ]
    },
    {
     "name": "stdout",
     "output_type": "stream",
     "text": [
      "\n",
      "Training - Epoch 35: Loss: 0.0587, Accuracy: 97.81%\n",
      "Validation - Epoch 35: Loss: 0.0430, Accuracy: 98.53%\n",
      "\n",
      "No improvement for 6 epoch(s).\n"
     ]
    },
    {
     "name": "stderr",
     "output_type": "stream",
     "text": [
      "Epoch 36/50: 100%|██████████| 1979/1979 [05:56<00:00,  5.55it/s, loss=0.1082, avg_loss=0.0546, accuracy=97.93%]\n"
     ]
    },
    {
     "name": "stdout",
     "output_type": "stream",
     "text": [
      "\n",
      "Training - Epoch 36: Loss: 0.0546, Accuracy: 97.93%\n",
      "Validation - Epoch 36: Loss: 0.0334, Accuracy: 98.77%\n",
      "\n",
      "Validation loss improved. Model saved to resnet34_best.pth\n"
     ]
    },
    {
     "name": "stderr",
     "output_type": "stream",
     "text": [
      "Epoch 37/50: 100%|██████████| 1979/1979 [05:56<00:00,  5.55it/s, loss=0.0125, avg_loss=0.0601, accuracy=97.76%]\n"
     ]
    },
    {
     "name": "stdout",
     "output_type": "stream",
     "text": [
      "\n",
      "Training - Epoch 37: Loss: 0.0601, Accuracy: 97.76%\n",
      "Validation - Epoch 37: Loss: 0.0512, Accuracy: 98.30%\n",
      "\n",
      "No improvement for 1 epoch(s).\n"
     ]
    },
    {
     "name": "stderr",
     "output_type": "stream",
     "text": [
      "Epoch 38/50: 100%|██████████| 1979/1979 [05:55<00:00,  5.57it/s, loss=0.1525, avg_loss=0.0550, accuracy=97.94%]\n"
     ]
    },
    {
     "name": "stdout",
     "output_type": "stream",
     "text": [
      "\n",
      "Training - Epoch 38: Loss: 0.0550, Accuracy: 97.94%\n",
      "Validation - Epoch 38: Loss: 0.0669, Accuracy: 98.34%\n",
      "\n",
      "No improvement for 2 epoch(s).\n"
     ]
    },
    {
     "name": "stderr",
     "output_type": "stream",
     "text": [
      "Epoch 39/50: 100%|██████████| 1979/1979 [06:01<00:00,  5.48it/s, loss=0.0756, avg_loss=0.0578, accuracy=97.82%]\n"
     ]
    },
    {
     "name": "stdout",
     "output_type": "stream",
     "text": [
      "\n",
      "Training - Epoch 39: Loss: 0.0578, Accuracy: 97.82%\n",
      "Validation - Epoch 39: Loss: 0.0364, Accuracy: 98.69%\n",
      "\n",
      "No improvement for 3 epoch(s).\n"
     ]
    },
    {
     "name": "stderr",
     "output_type": "stream",
     "text": [
      "Epoch 40/50: 100%|██████████| 1979/1979 [05:57<00:00,  5.53it/s, loss=0.0458, avg_loss=0.0536, accuracy=98.01%]\n"
     ]
    },
    {
     "name": "stdout",
     "output_type": "stream",
     "text": [
      "\n",
      "Training - Epoch 40: Loss: 0.0536, Accuracy: 98.01%\n",
      "Validation - Epoch 40: Loss: 0.0435, Accuracy: 98.43%\n",
      "\n",
      "No improvement for 4 epoch(s).\n"
     ]
    },
    {
     "name": "stderr",
     "output_type": "stream",
     "text": [
      "Epoch 41/50: 100%|██████████| 1979/1979 [05:55<00:00,  5.56it/s, loss=0.1454, avg_loss=0.0531, accuracy=97.97%]\n"
     ]
    },
    {
     "name": "stdout",
     "output_type": "stream",
     "text": [
      "\n",
      "Training - Epoch 41: Loss: 0.0531, Accuracy: 97.97%\n",
      "Validation - Epoch 41: Loss: 0.0387, Accuracy: 98.72%\n",
      "\n",
      "No improvement for 5 epoch(s).\n"
     ]
    },
    {
     "name": "stderr",
     "output_type": "stream",
     "text": [
      "Epoch 42/50: 100%|██████████| 1979/1979 [05:55<00:00,  5.56it/s, loss=0.0174, avg_loss=0.0516, accuracy=98.11%]\n"
     ]
    },
    {
     "name": "stdout",
     "output_type": "stream",
     "text": [
      "\n",
      "Training - Epoch 42: Loss: 0.0516, Accuracy: 98.11%\n",
      "Validation - Epoch 42: Loss: 0.0345, Accuracy: 98.74%\n",
      "\n",
      "No improvement for 6 epoch(s).\n"
     ]
    },
    {
     "name": "stderr",
     "output_type": "stream",
     "text": [
      "Epoch 43/50: 100%|██████████| 1979/1979 [05:55<00:00,  5.57it/s, loss=0.0089, avg_loss=0.0501, accuracy=98.13%]\n"
     ]
    },
    {
     "name": "stdout",
     "output_type": "stream",
     "text": [
      "\n",
      "Training - Epoch 43: Loss: 0.0501, Accuracy: 98.13%\n",
      "Validation - Epoch 43: Loss: 0.0476, Accuracy: 98.26%\n",
      "\n",
      "No improvement for 7 epoch(s).\n"
     ]
    },
    {
     "name": "stderr",
     "output_type": "stream",
     "text": [
      "Epoch 44/50: 100%|██████████| 1979/1979 [06:05<00:00,  5.41it/s, loss=0.0581, avg_loss=0.0489, accuracy=98.07%]\n"
     ]
    },
    {
     "name": "stdout",
     "output_type": "stream",
     "text": [
      "\n",
      "Training - Epoch 44: Loss: 0.0489, Accuracy: 98.07%\n",
      "Validation - Epoch 44: Loss: 0.0391, Accuracy: 98.67%\n",
      "\n",
      "No improvement for 8 epoch(s).\n"
     ]
    },
    {
     "name": "stderr",
     "output_type": "stream",
     "text": [
      "Epoch 45/50: 100%|██████████| 1979/1979 [05:57<00:00,  5.53it/s, loss=0.0265, avg_loss=0.0478, accuracy=98.14%]\n"
     ]
    },
    {
     "name": "stdout",
     "output_type": "stream",
     "text": [
      "\n",
      "Training - Epoch 45: Loss: 0.0478, Accuracy: 98.14%\n",
      "Validation - Epoch 45: Loss: 0.0647, Accuracy: 98.79%\n",
      "\n",
      "No improvement for 9 epoch(s).\n"
     ]
    },
    {
     "name": "stderr",
     "output_type": "stream",
     "text": [
      "Epoch 46/50: 100%|██████████| 1979/1979 [05:55<00:00,  5.56it/s, loss=0.0305, avg_loss=0.0442, accuracy=98.27%]\n"
     ]
    },
    {
     "name": "stdout",
     "output_type": "stream",
     "text": [
      "\n",
      "Training - Epoch 46: Loss: 0.0442, Accuracy: 98.27%\n",
      "Validation - Epoch 46: Loss: 0.0285, Accuracy: 98.95%\n",
      "\n",
      "Validation loss improved. Model saved to resnet34_best.pth\n"
     ]
    },
    {
     "name": "stderr",
     "output_type": "stream",
     "text": [
      "Epoch 47/50: 100%|██████████| 1979/1979 [05:53<00:00,  5.60it/s, loss=0.0183, avg_loss=0.0478, accuracy=98.11%]\n"
     ]
    },
    {
     "name": "stdout",
     "output_type": "stream",
     "text": [
      "\n",
      "Training - Epoch 47: Loss: 0.0478, Accuracy: 98.11%\n",
      "Validation - Epoch 47: Loss: 0.0373, Accuracy: 98.83%\n",
      "\n",
      "No improvement for 1 epoch(s).\n"
     ]
    },
    {
     "name": "stderr",
     "output_type": "stream",
     "text": [
      "Epoch 48/50: 100%|██████████| 1979/1979 [05:50<00:00,  5.65it/s, loss=0.0347, avg_loss=0.0430, accuracy=98.30%]\n"
     ]
    },
    {
     "name": "stdout",
     "output_type": "stream",
     "text": [
      "\n",
      "Training - Epoch 48: Loss: 0.0430, Accuracy: 98.30%\n",
      "Validation - Epoch 48: Loss: 0.0434, Accuracy: 98.53%\n",
      "\n",
      "No improvement for 2 epoch(s).\n"
     ]
    },
    {
     "name": "stderr",
     "output_type": "stream",
     "text": [
      "Epoch 49/50: 100%|██████████| 1979/1979 [05:58<00:00,  5.52it/s, loss=0.0302, avg_loss=0.0466, accuracy=98.17%]\n"
     ]
    },
    {
     "name": "stdout",
     "output_type": "stream",
     "text": [
      "\n",
      "Training - Epoch 49: Loss: 0.0466, Accuracy: 98.17%\n",
      "Validation - Epoch 49: Loss: 0.0263, Accuracy: 98.98%\n",
      "\n",
      "Validation loss improved. Model saved to resnet34_best.pth\n"
     ]
    },
    {
     "name": "stderr",
     "output_type": "stream",
     "text": [
      "Epoch 50/50: 100%|██████████| 1979/1979 [06:02<00:00,  5.46it/s, loss=0.0101, avg_loss=0.0437, accuracy=98.29%]\n"
     ]
    },
    {
     "name": "stdout",
     "output_type": "stream",
     "text": [
      "\n",
      "Training - Epoch 50: Loss: 0.0437, Accuracy: 98.29%\n",
      "Validation - Epoch 50: Loss: 0.2356, Accuracy: 98.32%\n",
      "\n",
      "No improvement for 1 epoch(s).\n",
      "Training complete or interrupted.\n"
     ]
    },
    {
     "data": {
      "image/png": "[encoded data removed]",
      "text/plain": [
       "<Figure size 1000x500 with 1 Axes>"
      ]
     },
     "metadata": {},
     "output_type": "display_data"
    }
   ],
   "source": [
    "num_epochs = 50\n",
    "patience = 10\n",
    "best_model_path = \"resnet34_best.pth\"\n",
    "best_val_loss = np.inf\n",
    "\n",
    "device = torch.device(\"cuda\" if torch.cuda.is_available() else \"cpu\")\n",
    "print(f\"Using device: {device}\")\n",
    "\n",
    "model = ResNet34()\n",
    "model.to(device)\n",
    "\n",
    "criterion = nn.CrossEntropyLoss()\n",
    "\n",
    "optimizer = optim.Adam(model.parameters(), lr=0.001)\n",
    "\n",
    "# Lists to store loss values\n",
    "train_losses = []\n",
    "val_losses = []\n",
    "\n",
    "try:\n",
    "    for epoch in range(num_epochs):\n",
    "        model.train()\n",
    "        running_loss = 0.0\n",
    "        correct = 0\n",
    "        total = 0\n",
    "\n",
    "        progress_bar = tqdm(train_loader, desc=f\"Epoch {epoch+1}/{num_epochs}\")\n",
    "\n",
    "        for batch_idx, (images, labels) in enumerate(progress_bar):\n",
    "            images, labels = images.to(device), labels.to(device)\n",
    "\n",
    "            optimizer.zero_grad()\n",
    "            outputs = model(images)\n",
    "            loss = criterion(outputs, labels)\n",
    "            loss.backward()\n",
    "            optimizer.step()\n",
    "\n",
    "            running_loss += loss.item()\n",
    "            _, predicted = torch.max(outputs.data, 1)\n",
    "            total += labels.size(0)\n",
    "            correct += (predicted == labels).sum().item()\n",
    "\n",
    "            progress_bar.set_postfix({\n",
    "                'loss': f\"{loss.item():.4f}\",\n",
    "                'avg_loss': f\"{running_loss/(batch_idx+1):.4f}\",\n",
    "                'accuracy': f\"{100 * correct / total:.2f}%\"\n",
    "            })\n",
    "\n",
    "        epoch_loss = running_loss / len(train_loader)\n",
    "        train_losses.append(epoch_loss)\n",
    "        epoch_accuracy = 100 * correct / total\n",
    "        print(f\"\\nTraining - Epoch {epoch+1}: Loss: {epoch_loss:.4f}, Accuracy: {epoch_accuracy:.2f}%\")\n",
    "\n",
    "        # Validation\n",
    "        model.eval()\n",
    "        val_loss = 0.0\n",
    "        val_correct = 0\n",
    "        val_total = 0\n",
    "\n",
    "        with torch.no_grad():\n",
    "            for images, labels in val_loader:\n",
    "                images, labels = images.to(device), labels.to(device)\n",
    "                outputs = model(images)\n",
    "                loss = criterion(outputs, labels)\n",
    "                val_loss += loss.item()\n",
    "                _, predicted = torch.max(outputs.data, 1)\n",
    "                val_total += labels.size(0)\n",
    "                val_correct += (predicted == labels).sum().item()\n",
    "\n",
    "        val_epoch_loss = val_loss / len(val_loader)\n",
    "        val_losses.append(val_epoch_loss)\n",
    "        val_epoch_accuracy = 100 * val_correct / val_total\n",
    "        print(f\"Validation - Epoch {epoch+1}: Loss: {val_epoch_loss:.4f}, Accuracy: {val_epoch_accuracy:.2f}%\\n\")\n",
    "\n",
    "        # Check for improvement\n",
    "        if val_epoch_loss < best_val_loss:\n",
    "            best_val_loss = val_epoch_loss\n",
    "            epochs_no_improve = 0\n",
    "            torch.save(model.state_dict(), best_model_path)\n",
    "            print(f\"Validation loss improved. Model saved to {best_model_path}\")\n",
    "        else:\n",
    "            epochs_no_improve += 1\n",
    "            print(f\"No improvement for {epochs_no_improve} epoch(s).\")\n",
    "\n",
    "        # Early stopping\n",
    "        if epochs_no_improve >= patience:\n",
    "            print(f\"Early stopping triggered after {epoch+1} epochs!\")\n",
    "            break\n",
    "\n",
    "except KeyboardInterrupt:\n",
    "    print(\"\\nTraining interrupted by user.\")\n",
    "    # Optionally save latest model\n",
    "    torch.save(model.state_dict(), \"resnet34_interrupt.pth\")\n",
    "    print(\"Model saved after interrupt as 'resnet34_interrupt.pth'.\")\n",
    "\n",
    "finally:\n",
    "    print(\"Training complete or interrupted.\")\n",
    "    # Plot losses\n",
    "    plt.figure(figsize=(10, 5))\n",
    "    plt.plot(range(1, len(train_losses) + 1), train_losses, label=\"Training Loss\", marker='o')\n",
    "    plt.plot(range(1, len(val_losses) + 1), val_losses, label=\"Validation Loss\", marker='s')\n",
    "    plt.xlabel(\"Epochs\")\n",
    "    plt.ylabel(\"Loss\")\n",
    "    plt.title(\"Training vs Validation Loss\")\n",
    "    plt.legend()\n",
    "    plt.grid()\n",
    "    plt.show()\n"
   ]
  },
  {
   "cell_type": "markdown",
   "metadata": {},
   "source": [
    "myCNN"
   ]
  },
  {
   "cell_type": "code",
   "execution_count": 23,
   "metadata": {},
   "outputs": [],
   "source": [
    "class myCNN(nn.Module):\n",
    "    def __init__(self, num_classes=50):\n",
    "        super(myCNN, self).__init__()\n",
    "\n",
    "        # Layer 1\n",
    "        self.conv1 = nn.Conv2d(3, 64, kernel_size=3, stride=2, padding=1)\n",
    "        self.bn1 = nn.BatchNorm2d(64)\n",
    "\n",
    "        # Layer 2\n",
    "        self.conv2 = nn.Conv2d(64, 128, kernel_size=3, stride=2, padding=1)\n",
    "        self.bn2 = nn.BatchNorm2d(128)\n",
    "\n",
    "        # Layer 3\n",
    "        self.conv3 = nn.Conv2d(128, 256, kernel_size=3, stride=2, padding=1)\n",
    "        self.bn3 = nn.BatchNorm2d(256)\n",
    "\n",
    "        # Layer 4\n",
    "        self.conv4 = nn.Conv2d(256, 512, kernel_size=3, stride=2, padding=1)\n",
    "        self.bn4 = nn.BatchNorm2d(512)\n",
    "\n",
    "        # Classification head\n",
    "        self.global_pool = nn.AdaptiveAvgPool2d((1, 1))\n",
    "        self.dropout = nn.Dropout(0.4)\n",
    "        self.fc = nn.Linear(512, num_classes)\n",
    "\n",
    "    def forward(self, x):\n",
    "        x = F.relu(self.bn1(self.conv1(x)))  # Layer 1\n",
    "        x = F.relu(self.bn2(self.conv2(x)))  # Layer 2\n",
    "        x = F.relu(self.bn3(self.conv3(x)))  # Layer 3\n",
    "        x = F.relu(self.bn4(self.conv4(x)))  # Layer 4\n",
    "        x = self.global_pool(x)\n",
    "        x = torch.flatten(x, 1)\n",
    "        x = self.dropout(x)\n",
    "        x = self.fc(x)\n",
    "        return x\n"
   ]
  },
  {
   "cell_type": "code",
   "execution_count": 24,
   "metadata": {},
   "outputs": [
    {
     "data": {
      "text/plain": [
       "==========================================================================================\n",
       "Layer (type:depth-idx)                   Output Shape              Param #\n",
       "==========================================================================================\n",
       "myCNN                                    [1, 50]                   --\n",
       "├─Conv2d: 1-1                            [1, 64, 112, 112]         1,792\n",
       "├─BatchNorm2d: 1-2                       [1, 64, 112, 112]         128\n",
       "├─Conv2d: 1-3                            [1, 128, 56, 56]          73,856\n",
       "├─BatchNorm2d: 1-4                       [1, 128, 56, 56]          256\n",
       "├─Conv2d: 1-5                            [1, 256, 28, 28]          295,168\n",
       "├─BatchNorm2d: 1-6                       [1, 256, 28, 28]          512\n",
       "├─Conv2d: 1-7                            [1, 512, 14, 14]          1,180,160\n",
       "├─BatchNorm2d: 1-8                       [1, 512, 14, 14]          1,024\n",
       "├─AdaptiveAvgPool2d: 1-9                 [1, 512, 1, 1]            --\n",
       "├─Dropout: 1-10                          [1, 512]                  --\n",
       "├─Linear: 1-11                           [1, 50]                   25,650\n",
       "==========================================================================================\n",
       "Total params: 1,578,546\n",
       "Trainable params: 1,578,546\n",
       "Non-trainable params: 0\n",
       "Total mult-adds (M): 716.84\n",
       "==========================================================================================\n",
       "Input size (MB): 0.60\n",
       "Forward/backward pass size (MB): 24.08\n",
       "Params size (MB): 6.31\n",
       "Estimated Total Size (MB): 31.00\n",
       "=========================================================================================="
      ]
     },
     "execution_count": 24,
     "metadata": {},
     "output_type": "execute_result"
    }
   ],
   "source": [
    "model = myCNN()\n",
    "summary(model, input_size=(1, 3, 224, 224))"
   ]
  },
  {
   "cell_type": "code",
   "execution_count": 22,
   "metadata": {},
   "outputs": [
    {
     "name": "stdout",
     "output_type": "stream",
     "text": [
      "Using device: cuda\n"
     ]
    },
    {
     "name": "stderr",
     "output_type": "stream",
     "text": [
      "Epoch 1/50: 100%|██████████| 1979/1979 [10:04<00:00,  3.27it/s, loss=3.3453, avg_loss=3.4543, accuracy=11.06%]\n"
     ]
    },
    {
     "name": "stdout",
     "output_type": "stream",
     "text": [
      "\n",
      "Training - Epoch 1: Loss: 3.4543, Accuracy: 11.06%\n",
      "Validation - Epoch 1: Loss: 3.2430, Accuracy: 16.27%\n",
      "\n",
      "Validation loss improved. Model saved to mycnn_best.pth\n"
     ]
    },
    {
     "name": "stderr",
     "output_type": "stream",
     "text": [
      "Epoch 2/50: 100%|██████████| 1979/1979 [03:09<00:00, 10.46it/s, loss=2.9390, avg_loss=3.0925, accuracy=18.09%]\n"
     ]
    },
    {
     "name": "stdout",
     "output_type": "stream",
     "text": [
      "\n",
      "Training - Epoch 2: Loss: 3.0925, Accuracy: 18.09%\n",
      "Validation - Epoch 2: Loss: 2.8871, Accuracy: 23.06%\n",
      "\n",
      "Validation loss improved. Model saved to mycnn_best.pth\n"
     ]
    },
    {
     "name": "stderr",
     "output_type": "stream",
     "text": [
      "Epoch 3/50: 100%|██████████| 1979/1979 [03:25<00:00,  9.61it/s, loss=2.6766, avg_loss=2.8141, accuracy=23.99%]\n"
     ]
    },
    {
     "name": "stdout",
     "output_type": "stream",
     "text": [
      "\n",
      "Training - Epoch 3: Loss: 2.8141, Accuracy: 23.99%\n",
      "Validation - Epoch 3: Loss: 2.9386, Accuracy: 22.86%\n",
      "\n",
      "No improvement for 1 epoch(s).\n"
     ]
    },
    {
     "name": "stderr",
     "output_type": "stream",
     "text": [
      "Epoch 4/50: 100%|██████████| 1979/1979 [03:20<00:00,  9.85it/s, loss=2.9937, avg_loss=2.6071, accuracy=28.32%]\n"
     ]
    },
    {
     "name": "stdout",
     "output_type": "stream",
     "text": [
      "\n",
      "Training - Epoch 4: Loss: 2.6071, Accuracy: 28.32%\n",
      "Validation - Epoch 4: Loss: 2.4520, Accuracy: 32.85%\n",
      "\n",
      "Validation loss improved. Model saved to mycnn_best.pth\n"
     ]
    },
    {
     "name": "stderr",
     "output_type": "stream",
     "text": [
      "Epoch 5/50: 100%|██████████| 1979/1979 [03:23<00:00,  9.70it/s, loss=2.6603, avg_loss=2.4478, accuracy=31.82%]\n"
     ]
    },
    {
     "name": "stdout",
     "output_type": "stream",
     "text": [
      "\n",
      "Training - Epoch 5: Loss: 2.4478, Accuracy: 31.82%\n",
      "Validation - Epoch 5: Loss: 2.2231, Accuracy: 38.13%\n",
      "\n",
      "Validation loss improved. Model saved to mycnn_best.pth\n"
     ]
    },
    {
     "name": "stderr",
     "output_type": "stream",
     "text": [
      "Epoch 6/50: 100%|██████████| 1979/1979 [03:26<00:00,  9.60it/s, loss=2.5689, avg_loss=2.3176, accuracy=34.59%]\n"
     ]
    },
    {
     "name": "stdout",
     "output_type": "stream",
     "text": [
      "\n",
      "Training - Epoch 6: Loss: 2.3176, Accuracy: 34.59%\n",
      "Validation - Epoch 6: Loss: 2.1288, Accuracy: 39.59%\n",
      "\n",
      "Validation loss improved. Model saved to mycnn_best.pth\n"
     ]
    },
    {
     "name": "stderr",
     "output_type": "stream",
     "text": [
      "Epoch 7/50: 100%|██████████| 1979/1979 [03:25<00:00,  9.63it/s, loss=3.0030, avg_loss=2.2088, accuracy=37.41%]\n"
     ]
    },
    {
     "name": "stdout",
     "output_type": "stream",
     "text": [
      "\n",
      "Training - Epoch 7: Loss: 2.2088, Accuracy: 37.41%\n",
      "Validation - Epoch 7: Loss: 1.9902, Accuracy: 43.10%\n",
      "\n",
      "Validation loss improved. Model saved to mycnn_best.pth\n"
     ]
    },
    {
     "name": "stderr",
     "output_type": "stream",
     "text": [
      "Epoch 8/50: 100%|██████████| 1979/1979 [03:29<00:00,  9.47it/s, loss=2.2065, avg_loss=2.1084, accuracy=39.75%]\n"
     ]
    },
    {
     "name": "stdout",
     "output_type": "stream",
     "text": [
      "\n",
      "Training - Epoch 8: Loss: 2.1084, Accuracy: 39.75%\n",
      "Validation - Epoch 8: Loss: 1.9127, Accuracy: 45.32%\n",
      "\n",
      "Validation loss improved. Model saved to mycnn_best.pth\n"
     ]
    },
    {
     "name": "stderr",
     "output_type": "stream",
     "text": [
      "Epoch 9/50: 100%|██████████| 1979/1979 [03:27<00:00,  9.54it/s, loss=2.1632, avg_loss=2.0181, accuracy=41.82%]\n"
     ]
    },
    {
     "name": "stdout",
     "output_type": "stream",
     "text": [
      "\n",
      "Training - Epoch 9: Loss: 2.0181, Accuracy: 41.82%\n",
      "Validation - Epoch 9: Loss: 1.9931, Accuracy: 43.78%\n",
      "\n",
      "No improvement for 1 epoch(s).\n"
     ]
    },
    {
     "name": "stderr",
     "output_type": "stream",
     "text": [
      "Epoch 10/50: 100%|██████████| 1979/1979 [03:17<00:00, 10.00it/s, loss=2.5865, avg_loss=1.9361, accuracy=43.95%]\n"
     ]
    },
    {
     "name": "stdout",
     "output_type": "stream",
     "text": [
      "\n",
      "Training - Epoch 10: Loss: 1.9361, Accuracy: 43.95%\n",
      "Validation - Epoch 10: Loss: 1.7479, Accuracy: 50.11%\n",
      "\n",
      "Validation loss improved. Model saved to mycnn_best.pth\n"
     ]
    },
    {
     "name": "stderr",
     "output_type": "stream",
     "text": [
      "Epoch 11/50: 100%|██████████| 1979/1979 [03:12<00:00, 10.29it/s, loss=1.4719, avg_loss=1.8608, accuracy=45.74%]\n"
     ]
    },
    {
     "name": "stdout",
     "output_type": "stream",
     "text": [
      "\n",
      "Training - Epoch 11: Loss: 1.8608, Accuracy: 45.74%\n",
      "Validation - Epoch 11: Loss: 1.6310, Accuracy: 54.16%\n",
      "\n",
      "Validation loss improved. Model saved to mycnn_best.pth\n"
     ]
    },
    {
     "name": "stderr",
     "output_type": "stream",
     "text": [
      "Epoch 12/50: 100%|██████████| 1979/1979 [03:12<00:00, 10.25it/s, loss=2.2746, avg_loss=1.7896, accuracy=47.61%]\n"
     ]
    },
    {
     "name": "stdout",
     "output_type": "stream",
     "text": [
      "\n",
      "Training - Epoch 12: Loss: 1.7896, Accuracy: 47.61%\n",
      "Validation - Epoch 12: Loss: 1.5664, Accuracy: 55.18%\n",
      "\n",
      "Validation loss improved. Model saved to mycnn_best.pth\n"
     ]
    },
    {
     "name": "stderr",
     "output_type": "stream",
     "text": [
      "Epoch 13/50: 100%|██████████| 1979/1979 [03:11<00:00, 10.32it/s, loss=1.7773, avg_loss=1.7204, accuracy=49.52%]\n"
     ]
    },
    {
     "name": "stdout",
     "output_type": "stream",
     "text": [
      "\n",
      "Training - Epoch 13: Loss: 1.7204, Accuracy: 49.52%\n",
      "Validation - Epoch 13: Loss: 1.4620, Accuracy: 57.75%\n",
      "\n",
      "Validation loss improved. Model saved to mycnn_best.pth\n"
     ]
    },
    {
     "name": "stderr",
     "output_type": "stream",
     "text": [
      "Epoch 14/50: 100%|██████████| 1979/1979 [03:19<00:00,  9.90it/s, loss=1.7226, avg_loss=1.6540, accuracy=51.03%]\n"
     ]
    },
    {
     "name": "stdout",
     "output_type": "stream",
     "text": [
      "\n",
      "Training - Epoch 14: Loss: 1.6540, Accuracy: 51.03%\n",
      "Validation - Epoch 14: Loss: 1.3797, Accuracy: 59.04%\n",
      "\n",
      "Validation loss improved. Model saved to mycnn_best.pth\n"
     ]
    },
    {
     "name": "stderr",
     "output_type": "stream",
     "text": [
      "Epoch 15/50: 100%|██████████| 1979/1979 [03:20<00:00,  9.86it/s, loss=1.3555, avg_loss=1.5886, accuracy=52.69%]\n"
     ]
    },
    {
     "name": "stdout",
     "output_type": "stream",
     "text": [
      "\n",
      "Training - Epoch 15: Loss: 1.5886, Accuracy: 52.69%\n",
      "Validation - Epoch 15: Loss: 1.3159, Accuracy: 61.50%\n",
      "\n",
      "Validation loss improved. Model saved to mycnn_best.pth\n"
     ]
    },
    {
     "name": "stderr",
     "output_type": "stream",
     "text": [
      "Epoch 16/50: 100%|██████████| 1979/1979 [03:21<00:00,  9.82it/s, loss=1.4285, avg_loss=1.5261, accuracy=54.26%]\n"
     ]
    },
    {
     "name": "stdout",
     "output_type": "stream",
     "text": [
      "\n",
      "Training - Epoch 16: Loss: 1.5261, Accuracy: 54.26%\n",
      "Validation - Epoch 16: Loss: 1.3843, Accuracy: 57.77%\n",
      "\n",
      "No improvement for 1 epoch(s).\n"
     ]
    },
    {
     "name": "stderr",
     "output_type": "stream",
     "text": [
      "Epoch 17/50: 100%|██████████| 1979/1979 [03:20<00:00,  9.85it/s, loss=1.5751, avg_loss=1.4723, accuracy=55.74%]\n"
     ]
    },
    {
     "name": "stdout",
     "output_type": "stream",
     "text": [
      "\n",
      "Training - Epoch 17: Loss: 1.4723, Accuracy: 55.74%\n",
      "Validation - Epoch 17: Loss: 1.2133, Accuracy: 64.53%\n",
      "\n",
      "Validation loss improved. Model saved to mycnn_best.pth\n"
     ]
    },
    {
     "name": "stderr",
     "output_type": "stream",
     "text": [
      "Epoch 18/50: 100%|██████████| 1979/1979 [03:20<00:00,  9.89it/s, loss=1.0518, avg_loss=1.4134, accuracy=56.91%]\n"
     ]
    },
    {
     "name": "stdout",
     "output_type": "stream",
     "text": [
      "\n",
      "Training - Epoch 18: Loss: 1.4134, Accuracy: 56.91%\n",
      "Validation - Epoch 18: Loss: 1.2056, Accuracy: 64.87%\n",
      "\n",
      "Validation loss improved. Model saved to mycnn_best.pth\n"
     ]
    },
    {
     "name": "stderr",
     "output_type": "stream",
     "text": [
      "Epoch 19/50: 100%|██████████| 1979/1979 [03:13<00:00, 10.21it/s, loss=1.5662, avg_loss=1.3631, accuracy=58.19%]\n"
     ]
    },
    {
     "name": "stdout",
     "output_type": "stream",
     "text": [
      "\n",
      "Training - Epoch 19: Loss: 1.3631, Accuracy: 58.19%\n",
      "Validation - Epoch 19: Loss: 1.0678, Accuracy: 67.75%\n",
      "\n",
      "Validation loss improved. Model saved to mycnn_best.pth\n"
     ]
    },
    {
     "name": "stderr",
     "output_type": "stream",
     "text": [
      "Epoch 20/50: 100%|██████████| 1979/1979 [03:10<00:00, 10.40it/s, loss=1.5064, avg_loss=1.3034, accuracy=59.79%]\n"
     ]
    },
    {
     "name": "stdout",
     "output_type": "stream",
     "text": [
      "\n",
      "Training - Epoch 20: Loss: 1.3034, Accuracy: 59.79%\n",
      "Validation - Epoch 20: Loss: 1.0446, Accuracy: 69.60%\n",
      "\n",
      "Validation loss improved. Model saved to mycnn_best.pth\n"
     ]
    },
    {
     "name": "stderr",
     "output_type": "stream",
     "text": [
      "Epoch 21/50: 100%|██████████| 1979/1979 [03:13<00:00, 10.25it/s, loss=1.8909, avg_loss=1.2590, accuracy=61.12%]\n"
     ]
    },
    {
     "name": "stdout",
     "output_type": "stream",
     "text": [
      "\n",
      "Training - Epoch 21: Loss: 1.2590, Accuracy: 61.12%\n",
      "Validation - Epoch 21: Loss: 0.9628, Accuracy: 72.45%\n",
      "\n",
      "Validation loss improved. Model saved to mycnn_best.pth\n"
     ]
    },
    {
     "name": "stderr",
     "output_type": "stream",
     "text": [
      "Epoch 22/50: 100%|██████████| 1979/1979 [03:29<00:00,  9.44it/s, loss=1.1736, avg_loss=1.2118, accuracy=62.58%]\n"
     ]
    },
    {
     "name": "stdout",
     "output_type": "stream",
     "text": [
      "\n",
      "Training - Epoch 22: Loss: 1.2118, Accuracy: 62.58%\n",
      "Validation - Epoch 22: Loss: 0.9134, Accuracy: 72.99%\n",
      "\n",
      "Validation loss improved. Model saved to mycnn_best.pth\n"
     ]
    },
    {
     "name": "stderr",
     "output_type": "stream",
     "text": [
      "Epoch 23/50: 100%|██████████| 1979/1979 [03:31<00:00,  9.34it/s, loss=0.8919, avg_loss=1.1690, accuracy=63.50%]\n"
     ]
    },
    {
     "name": "stdout",
     "output_type": "stream",
     "text": [
      "\n",
      "Training - Epoch 23: Loss: 1.1690, Accuracy: 63.50%\n",
      "Validation - Epoch 23: Loss: 0.8980, Accuracy: 73.47%\n",
      "\n",
      "Validation loss improved. Model saved to mycnn_best.pth\n"
     ]
    },
    {
     "name": "stderr",
     "output_type": "stream",
     "text": [
      "Epoch 24/50: 100%|██████████| 1979/1979 [03:17<00:00, 10.02it/s, loss=1.5351, avg_loss=1.1220, accuracy=64.80%]\n"
     ]
    },
    {
     "name": "stdout",
     "output_type": "stream",
     "text": [
      "\n",
      "Training - Epoch 24: Loss: 1.1220, Accuracy: 64.80%\n",
      "Validation - Epoch 24: Loss: 0.8524, Accuracy: 75.19%\n",
      "\n",
      "Validation loss improved. Model saved to mycnn_best.pth\n"
     ]
    },
    {
     "name": "stderr",
     "output_type": "stream",
     "text": [
      "Epoch 25/50: 100%|██████████| 1979/1979 [03:22<00:00,  9.76it/s, loss=1.2689, avg_loss=1.0831, accuracy=65.95%]\n"
     ]
    },
    {
     "name": "stdout",
     "output_type": "stream",
     "text": [
      "\n",
      "Training - Epoch 25: Loss: 1.0831, Accuracy: 65.95%\n",
      "Validation - Epoch 25: Loss: 0.7606, Accuracy: 77.90%\n",
      "\n",
      "Validation loss improved. Model saved to mycnn_best.pth\n"
     ]
    },
    {
     "name": "stderr",
     "output_type": "stream",
     "text": [
      "Epoch 26/50: 100%|██████████| 1979/1979 [03:31<00:00,  9.34it/s, loss=1.0065, avg_loss=1.0404, accuracy=67.11%]\n"
     ]
    },
    {
     "name": "stdout",
     "output_type": "stream",
     "text": [
      "\n",
      "Training - Epoch 26: Loss: 1.0404, Accuracy: 67.11%\n",
      "Validation - Epoch 26: Loss: 0.6989, Accuracy: 80.99%\n",
      "\n",
      "Validation loss improved. Model saved to mycnn_best.pth\n"
     ]
    },
    {
     "name": "stderr",
     "output_type": "stream",
     "text": [
      "Epoch 27/50: 100%|██████████| 1979/1979 [03:17<00:00, 10.03it/s, loss=0.6257, avg_loss=1.0044, accuracy=68.16%]\n"
     ]
    },
    {
     "name": "stdout",
     "output_type": "stream",
     "text": [
      "\n",
      "Training - Epoch 27: Loss: 1.0044, Accuracy: 68.16%\n",
      "Validation - Epoch 27: Loss: 0.8567, Accuracy: 74.89%\n",
      "\n",
      "No improvement for 1 epoch(s).\n"
     ]
    },
    {
     "name": "stderr",
     "output_type": "stream",
     "text": [
      "Epoch 28/50: 100%|██████████| 1979/1979 [03:18<00:00,  9.95it/s, loss=0.9549, avg_loss=0.9621, accuracy=69.61%]\n"
     ]
    },
    {
     "name": "stdout",
     "output_type": "stream",
     "text": [
      "\n",
      "Training - Epoch 28: Loss: 0.9621, Accuracy: 69.61%\n",
      "Validation - Epoch 28: Loss: 0.6432, Accuracy: 81.80%\n",
      "\n",
      "Validation loss improved. Model saved to mycnn_best.pth\n"
     ]
    },
    {
     "name": "stderr",
     "output_type": "stream",
     "text": [
      "Epoch 29/50: 100%|██████████| 1979/1979 [03:19<00:00,  9.91it/s, loss=0.9506, avg_loss=0.9345, accuracy=70.35%]\n"
     ]
    },
    {
     "name": "stdout",
     "output_type": "stream",
     "text": [
      "\n",
      "Training - Epoch 29: Loss: 0.9345, Accuracy: 70.35%\n",
      "Validation - Epoch 29: Loss: 0.6612, Accuracy: 80.53%\n",
      "\n",
      "No improvement for 1 epoch(s).\n"
     ]
    },
    {
     "name": "stderr",
     "output_type": "stream",
     "text": [
      "Epoch 30/50: 100%|██████████| 1979/1979 [03:22<00:00,  9.78it/s, loss=1.2272, avg_loss=0.8989, accuracy=71.42%]\n"
     ]
    },
    {
     "name": "stdout",
     "output_type": "stream",
     "text": [
      "\n",
      "Training - Epoch 30: Loss: 0.8989, Accuracy: 71.42%\n",
      "Validation - Epoch 30: Loss: 0.6112, Accuracy: 83.08%\n",
      "\n",
      "Validation loss improved. Model saved to mycnn_best.pth\n"
     ]
    },
    {
     "name": "stderr",
     "output_type": "stream",
     "text": [
      "Epoch 31/50: 100%|██████████| 1979/1979 [03:12<00:00, 10.28it/s, loss=1.0454, avg_loss=0.8659, accuracy=72.49%]\n"
     ]
    },
    {
     "name": "stdout",
     "output_type": "stream",
     "text": [
      "\n",
      "Training - Epoch 31: Loss: 0.8659, Accuracy: 72.49%\n",
      "Validation - Epoch 31: Loss: 0.5533, Accuracy: 85.13%\n",
      "\n",
      "Validation loss improved. Model saved to mycnn_best.pth\n"
     ]
    },
    {
     "name": "stderr",
     "output_type": "stream",
     "text": [
      "Epoch 32/50: 100%|██████████| 1979/1979 [03:20<00:00,  9.85it/s, loss=0.8747, avg_loss=0.8364, accuracy=73.26%]\n"
     ]
    },
    {
     "name": "stdout",
     "output_type": "stream",
     "text": [
      "\n",
      "Training - Epoch 32: Loss: 0.8364, Accuracy: 73.26%\n",
      "Validation - Epoch 32: Loss: 0.5371, Accuracy: 85.98%\n",
      "\n",
      "Validation loss improved. Model saved to mycnn_best.pth\n"
     ]
    },
    {
     "name": "stderr",
     "output_type": "stream",
     "text": [
      "Epoch 33/50: 100%|██████████| 1979/1979 [03:13<00:00, 10.22it/s, loss=0.5112, avg_loss=0.8114, accuracy=74.17%]\n"
     ]
    },
    {
     "name": "stdout",
     "output_type": "stream",
     "text": [
      "\n",
      "Training - Epoch 33: Loss: 0.8114, Accuracy: 74.17%\n",
      "Validation - Epoch 33: Loss: 0.4909, Accuracy: 86.06%\n",
      "\n",
      "Validation loss improved. Model saved to mycnn_best.pth\n"
     ]
    },
    {
     "name": "stderr",
     "output_type": "stream",
     "text": [
      "Epoch 34/50: 100%|██████████| 1979/1979 [03:13<00:00, 10.24it/s, loss=0.8146, avg_loss=0.7811, accuracy=75.24%]\n"
     ]
    },
    {
     "name": "stdout",
     "output_type": "stream",
     "text": [
      "\n",
      "Training - Epoch 34: Loss: 0.7811, Accuracy: 75.24%\n",
      "Validation - Epoch 34: Loss: 0.4498, Accuracy: 88.49%\n",
      "\n",
      "Validation loss improved. Model saved to mycnn_best.pth\n"
     ]
    },
    {
     "name": "stderr",
     "output_type": "stream",
     "text": [
      "Epoch 35/50: 100%|██████████| 1979/1979 [03:12<00:00, 10.28it/s, loss=0.8742, avg_loss=0.7532, accuracy=76.00%]\n"
     ]
    },
    {
     "name": "stdout",
     "output_type": "stream",
     "text": [
      "\n",
      "Training - Epoch 35: Loss: 0.7532, Accuracy: 76.00%\n",
      "Validation - Epoch 35: Loss: 0.4388, Accuracy: 88.16%\n",
      "\n",
      "Validation loss improved. Model saved to mycnn_best.pth\n"
     ]
    },
    {
     "name": "stderr",
     "output_type": "stream",
     "text": [
      "Epoch 36/50: 100%|██████████| 1979/1979 [03:13<00:00, 10.25it/s, loss=0.6161, avg_loss=0.7259, accuracy=76.84%]\n"
     ]
    },
    {
     "name": "stdout",
     "output_type": "stream",
     "text": [
      "\n",
      "Training - Epoch 36: Loss: 0.7259, Accuracy: 76.84%\n",
      "Validation - Epoch 36: Loss: 0.4169, Accuracy: 89.49%\n",
      "\n",
      "Validation loss improved. Model saved to mycnn_best.pth\n"
     ]
    },
    {
     "name": "stderr",
     "output_type": "stream",
     "text": [
      "Epoch 37/50: 100%|██████████| 1979/1979 [03:10<00:00, 10.41it/s, loss=0.6981, avg_loss=0.6993, accuracy=77.72%]\n"
     ]
    },
    {
     "name": "stdout",
     "output_type": "stream",
     "text": [
      "\n",
      "Training - Epoch 37: Loss: 0.6993, Accuracy: 77.72%\n",
      "Validation - Epoch 37: Loss: 0.4348, Accuracy: 88.48%\n",
      "\n",
      "No improvement for 1 epoch(s).\n"
     ]
    },
    {
     "name": "stderr",
     "output_type": "stream",
     "text": [
      "Epoch 38/50: 100%|██████████| 1979/1979 [03:16<00:00, 10.09it/s, loss=0.8666, avg_loss=0.6865, accuracy=78.28%]\n"
     ]
    },
    {
     "name": "stdout",
     "output_type": "stream",
     "text": [
      "\n",
      "Training - Epoch 38: Loss: 0.6865, Accuracy: 78.28%\n",
      "Validation - Epoch 38: Loss: 0.3750, Accuracy: 90.33%\n",
      "\n",
      "Validation loss improved. Model saved to mycnn_best.pth\n"
     ]
    },
    {
     "name": "stderr",
     "output_type": "stream",
     "text": [
      "Epoch 39/50: 100%|██████████| 1979/1979 [03:12<00:00, 10.30it/s, loss=0.5460, avg_loss=0.6632, accuracy=78.83%]\n"
     ]
    },
    {
     "name": "stdout",
     "output_type": "stream",
     "text": [
      "\n",
      "Training - Epoch 39: Loss: 0.6632, Accuracy: 78.83%\n",
      "Validation - Epoch 39: Loss: 0.3909, Accuracy: 90.94%\n",
      "\n",
      "No improvement for 1 epoch(s).\n"
     ]
    },
    {
     "name": "stderr",
     "output_type": "stream",
     "text": [
      "Epoch 40/50: 100%|██████████| 1979/1979 [03:11<00:00, 10.32it/s, loss=0.5707, avg_loss=0.6451, accuracy=79.20%]\n"
     ]
    },
    {
     "name": "stdout",
     "output_type": "stream",
     "text": [
      "\n",
      "Training - Epoch 40: Loss: 0.6451, Accuracy: 79.20%\n",
      "Validation - Epoch 40: Loss: 0.3824, Accuracy: 90.64%\n",
      "\n",
      "No improvement for 2 epoch(s).\n"
     ]
    },
    {
     "name": "stderr",
     "output_type": "stream",
     "text": [
      "Epoch 41/50: 100%|██████████| 1979/1979 [03:11<00:00, 10.33it/s, loss=0.3958, avg_loss=0.6204, accuracy=80.64%]\n"
     ]
    },
    {
     "name": "stdout",
     "output_type": "stream",
     "text": [
      "\n",
      "Training - Epoch 41: Loss: 0.6204, Accuracy: 80.64%\n",
      "Validation - Epoch 41: Loss: 0.3493, Accuracy: 91.82%\n",
      "\n",
      "Validation loss improved. Model saved to mycnn_best.pth\n"
     ]
    },
    {
     "name": "stderr",
     "output_type": "stream",
     "text": [
      "Epoch 42/50: 100%|██████████| 1979/1979 [03:11<00:00, 10.34it/s, loss=0.7066, avg_loss=0.6025, accuracy=80.91%]\n"
     ]
    },
    {
     "name": "stdout",
     "output_type": "stream",
     "text": [
      "\n",
      "Training - Epoch 42: Loss: 0.6025, Accuracy: 80.91%\n",
      "Validation - Epoch 42: Loss: 0.3706, Accuracy: 90.57%\n",
      "\n",
      "No improvement for 1 epoch(s).\n"
     ]
    },
    {
     "name": "stderr",
     "output_type": "stream",
     "text": [
      "Epoch 43/50: 100%|██████████| 1979/1979 [03:11<00:00, 10.34it/s, loss=0.3851, avg_loss=0.5846, accuracy=81.55%]\n"
     ]
    },
    {
     "name": "stdout",
     "output_type": "stream",
     "text": [
      "\n",
      "Training - Epoch 43: Loss: 0.5846, Accuracy: 81.55%\n",
      "Validation - Epoch 43: Loss: 0.3126, Accuracy: 91.93%\n",
      "\n",
      "Validation loss improved. Model saved to mycnn_best.pth\n"
     ]
    },
    {
     "name": "stderr",
     "output_type": "stream",
     "text": [
      "Epoch 44/50: 100%|██████████| 1979/1979 [03:13<00:00, 10.23it/s, loss=0.4350, avg_loss=0.5722, accuracy=82.02%]\n"
     ]
    },
    {
     "name": "stdout",
     "output_type": "stream",
     "text": [
      "\n",
      "Training - Epoch 44: Loss: 0.5722, Accuracy: 82.02%\n",
      "Validation - Epoch 44: Loss: 0.3475, Accuracy: 92.76%\n",
      "\n",
      "No improvement for 1 epoch(s).\n"
     ]
    },
    {
     "name": "stderr",
     "output_type": "stream",
     "text": [
      "Epoch 45/50: 100%|██████████| 1979/1979 [03:12<00:00, 10.27it/s, loss=0.5047, avg_loss=0.5560, accuracy=82.68%]\n"
     ]
    },
    {
     "name": "stdout",
     "output_type": "stream",
     "text": [
      "\n",
      "Training - Epoch 45: Loss: 0.5560, Accuracy: 82.68%\n",
      "Validation - Epoch 45: Loss: 0.2830, Accuracy: 94.05%\n",
      "\n",
      "Validation loss improved. Model saved to mycnn_best.pth\n"
     ]
    },
    {
     "name": "stderr",
     "output_type": "stream",
     "text": [
      "Epoch 46/50: 100%|██████████| 1979/1979 [03:12<00:00, 10.28it/s, loss=0.5411, avg_loss=0.5401, accuracy=83.16%]\n"
     ]
    },
    {
     "name": "stdout",
     "output_type": "stream",
     "text": [
      "\n",
      "Training - Epoch 46: Loss: 0.5401, Accuracy: 83.16%\n",
      "Validation - Epoch 46: Loss: 0.3002, Accuracy: 93.72%\n",
      "\n",
      "No improvement for 1 epoch(s).\n"
     ]
    },
    {
     "name": "stderr",
     "output_type": "stream",
     "text": [
      "Epoch 47/50: 100%|██████████| 1979/1979 [03:13<00:00, 10.25it/s, loss=0.3534, avg_loss=0.5200, accuracy=83.95%]\n"
     ]
    },
    {
     "name": "stdout",
     "output_type": "stream",
     "text": [
      "\n",
      "Training - Epoch 47: Loss: 0.5200, Accuracy: 83.95%\n",
      "Validation - Epoch 47: Loss: 0.2373, Accuracy: 95.41%\n",
      "\n",
      "Validation loss improved. Model saved to mycnn_best.pth\n"
     ]
    },
    {
     "name": "stderr",
     "output_type": "stream",
     "text": [
      "Epoch 48/50: 100%|██████████| 1979/1979 [03:10<00:00, 10.36it/s, loss=0.5602, avg_loss=0.5119, accuracy=84.06%]\n"
     ]
    },
    {
     "name": "stdout",
     "output_type": "stream",
     "text": [
      "\n",
      "Training - Epoch 48: Loss: 0.5119, Accuracy: 84.06%\n",
      "Validation - Epoch 48: Loss: 0.2641, Accuracy: 94.06%\n",
      "\n",
      "No improvement for 1 epoch(s).\n"
     ]
    },
    {
     "name": "stderr",
     "output_type": "stream",
     "text": [
      "Epoch 49/50: 100%|██████████| 1979/1979 [03:11<00:00, 10.33it/s, loss=0.3656, avg_loss=0.4967, accuracy=84.59%]\n"
     ]
    },
    {
     "name": "stdout",
     "output_type": "stream",
     "text": [
      "\n",
      "Training - Epoch 49: Loss: 0.4967, Accuracy: 84.59%\n",
      "Validation - Epoch 49: Loss: 0.2119, Accuracy: 95.94%\n",
      "\n",
      "Validation loss improved. Model saved to mycnn_best.pth\n"
     ]
    },
    {
     "name": "stderr",
     "output_type": "stream",
     "text": [
      "Epoch 50/50: 100%|██████████| 1979/1979 [03:14<00:00, 10.15it/s, loss=0.3999, avg_loss=0.4783, accuracy=85.26%]\n"
     ]
    },
    {
     "name": "stdout",
     "output_type": "stream",
     "text": [
      "\n",
      "Training - Epoch 50: Loss: 0.4783, Accuracy: 85.26%\n",
      "Validation - Epoch 50: Loss: 0.1961, Accuracy: 96.55%\n",
      "\n",
      "Validation loss improved. Model saved to mycnn_best.pth\n",
      "Training complete or interrupted.\n"
     ]
    },
    {
     "data": {
      "image/png": "[encoded data removed]",
      "text/plain": [
       "<Figure size 1000x500 with 1 Axes>"
      ]
     },
     "metadata": {},
     "output_type": "display_data"
    }
   ],
   "source": [
    "num_epochs = 50\n",
    "patience = 10\n",
    "best_model_path = \"mycnn_best.pth\"\n",
    "best_val_loss = np.inf\n",
    "\n",
    "device = torch.device(\"cuda\" if torch.cuda.is_available() else \"cpu\")\n",
    "print(f\"Using device: {device}\")\n",
    "\n",
    "model = myCNN()\n",
    "model.to(device)\n",
    "\n",
    "criterion = nn.CrossEntropyLoss()\n",
    "\n",
    "optimizer = optim.Adam(model.parameters(), lr=0.001)\n",
    "\n",
    "# Lists to store loss values\n",
    "train_losses = []\n",
    "val_losses = []\n",
    "\n",
    "try:\n",
    "    for epoch in range(num_epochs):\n",
    "        model.train()\n",
    "        running_loss = 0.0\n",
    "        correct = 0\n",
    "        total = 0\n",
    "\n",
    "        progress_bar = tqdm(train_loader, desc=f\"Epoch {epoch+1}/{num_epochs}\")\n",
    "\n",
    "        for batch_idx, (images, labels) in enumerate(progress_bar):\n",
    "            images, labels = images.to(device), labels.to(device)\n",
    "\n",
    "            optimizer.zero_grad()\n",
    "            outputs = model(images)\n",
    "            loss = criterion(outputs, labels)\n",
    "            loss.backward()\n",
    "            optimizer.step()\n",
    "\n",
    "            running_loss += loss.item()\n",
    "            _, predicted = torch.max(outputs.data, 1)\n",
    "            total += labels.size(0)\n",
    "            correct += (predicted == labels).sum().item()\n",
    "\n",
    "            progress_bar.set_postfix({\n",
    "                'loss': f\"{loss.item():.4f}\",\n",
    "                'avg_loss': f\"{running_loss/(batch_idx+1):.4f}\",\n",
    "                'accuracy': f\"{100 * correct / total:.2f}%\"\n",
    "            })\n",
    "\n",
    "        epoch_loss = running_loss / len(train_loader)\n",
    "        train_losses.append(epoch_loss)\n",
    "        epoch_accuracy = 100 * correct / total\n",
    "        print(f\"\\nTraining - Epoch {epoch+1}: Loss: {epoch_loss:.4f}, Accuracy: {epoch_accuracy:.2f}%\")\n",
    "\n",
    "        # Validation\n",
    "        model.eval()\n",
    "        val_loss = 0.0\n",
    "        val_correct = 0\n",
    "        val_total = 0\n",
    "\n",
    "        with torch.no_grad():\n",
    "            for images, labels in val_loader:\n",
    "                images, labels = images.to(device), labels.to(device)\n",
    "                outputs = model(images)\n",
    "                loss = criterion(outputs, labels)\n",
    "                val_loss += loss.item()\n",
    "                _, predicted = torch.max(outputs.data, 1)\n",
    "                val_total += labels.size(0)\n",
    "                val_correct += (predicted == labels).sum().item()\n",
    "\n",
    "        val_epoch_loss = val_loss / len(val_loader)\n",
    "        val_losses.append(val_epoch_loss)\n",
    "        val_epoch_accuracy = 100 * val_correct / val_total\n",
    "        print(f\"Validation - Epoch {epoch+1}: Loss: {val_epoch_loss:.4f}, Accuracy: {val_epoch_accuracy:.2f}%\\n\")\n",
    "\n",
    "        # Check for improvement\n",
    "        if val_epoch_loss < best_val_loss:\n",
    "            best_val_loss = val_epoch_loss\n",
    "            epochs_no_improve = 0\n",
    "            torch.save(model.state_dict(), best_model_path)\n",
    "            print(f\"Validation loss improved. Model saved to {best_model_path}\")\n",
    "        else:\n",
    "            epochs_no_improve += 1\n",
    "            print(f\"No improvement for {epochs_no_improve} epoch(s).\")\n",
    "\n",
    "        # Early stopping\n",
    "        if epochs_no_improve >= patience:\n",
    "            print(f\"Early stopping triggered after {epoch+1} epochs!\")\n",
    "            break\n",
    "\n",
    "except KeyboardInterrupt:\n",
    "    print(\"\\nTraining interrupted by user.\")\n",
    "    # Optionally save latest model\n",
    "    torch.save(model.state_dict(), \"mycnn_interrupt.pth\")\n",
    "    print(\"Model saved after interrupt as 'mycnn_interrupt.pth'.\")\n",
    "\n",
    "finally:\n",
    "    print(\"Training complete or interrupted.\")\n",
    "    # Plot losses\n",
    "    plt.figure(figsize=(10, 5))\n",
    "    plt.plot(range(1, len(train_losses) + 1), train_losses, label=\"Training Loss\", marker='o')\n",
    "    plt.plot(range(1, len(val_losses) + 1), val_losses, label=\"Validation Loss\", marker='s')\n",
    "    plt.xlabel(\"Epochs\")\n",
    "    plt.ylabel(\"Loss\")\n",
    "    plt.title(\"Training vs Validation Loss\")\n",
    "    plt.legend()\n",
    "    plt.grid()\n",
    "    plt.show()\n"
   ]
  },
  {
   "cell_type": "code",
   "execution_count": 2,
   "metadata": {},
   "outputs": [
    {
     "ename": "NameError",
     "evalue": "name 'nn' is not defined",
     "output_type": "error",
     "traceback": [
      "\u001b[1;31m---------------------------------------------------------------------------\u001b[0m",
      "\u001b[1;31mNameError\u001b[0m                                 Traceback (most recent call last)",
      "Cell \u001b[1;32mIn[2], line 2\u001b[0m\n\u001b[0;32m      1\u001b[0m \u001b[38;5;66;03m# ablation study, remove one layer\u001b[39;00m\n\u001b[1;32m----> 2\u001b[0m \u001b[38;5;28;01mclass\u001b[39;00m\u001b[38;5;250m \u001b[39m\u001b[38;5;21;01mmyCNN\u001b[39;00m(\u001b[43mnn\u001b[49m\u001b[38;5;241m.\u001b[39mModule):\n\u001b[0;32m      3\u001b[0m     \u001b[38;5;28;01mdef\u001b[39;00m\u001b[38;5;250m \u001b[39m\u001b[38;5;21m__init__\u001b[39m(\u001b[38;5;28mself\u001b[39m, num_classes\u001b[38;5;241m=\u001b[39m\u001b[38;5;241m50\u001b[39m):\n\u001b[0;32m      4\u001b[0m         \u001b[38;5;28msuper\u001b[39m(myCNN, \u001b[38;5;28mself\u001b[39m)\u001b[38;5;241m.\u001b[39m\u001b[38;5;21m__init__\u001b[39m()\n",
      "\u001b[1;31mNameError\u001b[0m: name 'nn' is not defined"
     ]
    }
   ],
   "source": [
    "# ablation study, remove one layer\n",
    "class myCNN(nn.Module):\n",
    "    def __init__(self, num_classes=50):\n",
    "        super(myCNN, self).__init__()\n",
    "\n",
    "        # Layer 1\n",
    "        self.conv1 = nn.Conv2d(3, 64, kernel_size=3, stride=2, padding=1)\n",
    "        self.bn1 = nn.BatchNorm2d(64)\n",
    "\n",
    "        # Layer 2\n",
    "        self.conv2 = nn.Conv2d(64, 128, kernel_size=3, stride=2, padding=1)\n",
    "        self.bn2 = nn.BatchNorm2d(128)\n",
    "\n",
    "        # Layer 3\n",
    "        self.conv3 = nn.Conv2d(128, 256, kernel_size=3, stride=2, padding=1)\n",
    "        self.bn3 = nn.BatchNorm2d(256)\n",
    "\n",
    "        # Classification head\n",
    "        self.global_pool = nn.AdaptiveAvgPool2d((1, 1))\n",
    "        self.dropout = nn.Dropout(0.4)\n",
    "        self.fc = nn.Linear(256, num_classes)\n",
    "\n",
    "    def forward(self, x):\n",
    "        x = F.relu(self.bn1(self.conv1(x)))  # Layer 1\n",
    "        x = F.relu(self.bn2(self.conv2(x)))  # Layer 2\n",
    "        x = F.relu(self.bn3(self.conv3(x)))  # Layer 3\n",
    "        x = self.global_pool(x)\n",
    "        x = torch.flatten(x, 1)\n",
    "        x = self.dropout(x)\n",
    "        x = self.fc(x)\n",
    "        return x\n"
   ]
  },
  {
   "cell_type": "code",
   "execution_count": null,
   "metadata": {},
   "outputs": [],
   "source": [
    "# ablation study, remove one layer\n",
    "num_epochs = 50\n",
    "patience = 10\n",
    "best_model_path = \"mycnn_best.pth\"\n",
    "best_val_loss = np.inf\n",
    "\n",
    "device = torch.device(\"cuda\" if torch.cuda.is_available() else \"cpu\")\n",
    "print(f\"Using device: {device}\")\n",
    "\n",
    "model = myCNN()\n",
    "model.to(device)\n",
    "\n",
    "criterion = nn.CrossEntropyLoss()\n",
    "\n",
    "optimizer = optim.Adam(model.parameters(), lr=0.001)\n",
    "\n",
    "# Lists to store loss values\n",
    "train_losses = []\n",
    "val_losses = []\n",
    "\n",
    "try:\n",
    "    for epoch in range(num_epochs):\n",
    "        model.train()\n",
    "        running_loss = 0.0\n",
    "        correct = 0\n",
    "        total = 0\n",
    "\n",
    "        progress_bar = tqdm(train_loader, desc=f\"Epoch {epoch+1}/{num_epochs}\")\n",
    "\n",
    "        for batch_idx, (images, labels) in enumerate(progress_bar):\n",
    "            images, labels = images.to(device), labels.to(device)\n",
    "\n",
    "            optimizer.zero_grad()\n",
    "            outputs = model(images)\n",
    "            loss = criterion(outputs, labels)\n",
    "            loss.backward()\n",
    "            optimizer.step()\n",
    "\n",
    "            running_loss += loss.item()\n",
    "            _, predicted = torch.max(outputs.data, 1)\n",
    "            total += labels.size(0)\n",
    "            correct += (predicted == labels).sum().item()\n",
    "\n",
    "            progress_bar.set_postfix({\n",
    "                'loss': f\"{loss.item():.4f}\",\n",
    "                'avg_loss': f\"{running_loss/(batch_idx+1):.4f}\",\n",
    "                'accuracy': f\"{100 * correct / total:.2f}%\"\n",
    "            })\n",
    "\n",
    "        epoch_loss = running_loss / len(train_loader)\n",
    "        train_losses.append(epoch_loss)\n",
    "        epoch_accuracy = 100 * correct / total\n",
    "        print(f\"\\nTraining - Epoch {epoch+1}: Loss: {epoch_loss:.4f}, Accuracy: {epoch_accuracy:.2f}%\")\n",
    "\n",
    "        # Validation\n",
    "        model.eval()\n",
    "        val_loss = 0.0\n",
    "        val_correct = 0\n",
    "        val_total = 0\n",
    "\n",
    "        with torch.no_grad():\n",
    "            for images, labels in val_loader:\n",
    "                images, labels = images.to(device), labels.to(device)\n",
    "                outputs = model(images)\n",
    "                loss = criterion(outputs, labels)\n",
    "                val_loss += loss.item()\n",
    "                _, predicted = torch.max(outputs.data, 1)\n",
    "                val_total += labels.size(0)\n",
    "                val_correct += (predicted == labels).sum().item()\n",
    "\n",
    "        val_epoch_loss = val_loss / len(val_loader)\n",
    "        val_losses.append(val_epoch_loss)\n",
    "        val_epoch_accuracy = 100 * val_correct / val_total\n",
    "        print(f\"Validation - Epoch {epoch+1}: Loss: {val_epoch_loss:.4f}, Accuracy: {val_epoch_accuracy:.2f}%\\n\")\n",
    "\n",
    "        # Check for improvement\n",
    "        if val_epoch_loss < best_val_loss:\n",
    "            best_val_loss = val_epoch_loss\n",
    "            epochs_no_improve = 0\n",
    "            torch.save(model.state_dict(), best_model_path)\n",
    "            print(f\"Validation loss improved. Model saved to {best_model_path}\")\n",
    "        else:\n",
    "            epochs_no_improve += 1\n",
    "            print(f\"No improvement for {epochs_no_improve} epoch(s).\")\n",
    "\n",
    "        # Early stopping\n",
    "        if epochs_no_improve >= patience:\n",
    "            print(f\"Early stopping triggered after {epoch+1} epochs!\")\n",
    "            break\n",
    "\n",
    "except KeyboardInterrupt:\n",
    "    print(\"\\nTraining interrupted by user.\")\n",
    "    # Optionally save latest model\n",
    "    torch.save(model.state_dict(), \"mycnn_interrupt.pth\")\n",
    "    print(\"Model saved after interrupt as 'mycnn_interrupt.pth'.\")\n",
    "\n",
    "finally:\n",
    "    print(\"Training complete or interrupted.\")\n",
    "    # Plot losses\n",
    "    plt.figure(figsize=(10, 5))\n",
    "    plt.plot(range(1, len(train_losses) + 1), train_losses, label=\"Training Loss\", marker='o')\n",
    "    plt.plot(range(1, len(val_losses) + 1), val_losses, label=\"Validation Loss\", marker='s')\n",
    "    plt.xlabel(\"Epochs\")\n",
    "    plt.ylabel(\"Loss\")\n",
    "    plt.title(\"Training vs Validation Loss\")\n",
    "    plt.legend()\n",
    "    plt.grid()\n",
    "    plt.show()\n"
   ]
  }
 ],
 "metadata": {
  "kernelspec": {
   "display_name": "DLenv",
   "language": "python",
   "name": "python3"
  },
  "language_info": {
   "codemirror_mode": {
    "name": "ipython",
    "version": 3
   },
   "file_extension": ".py",
   "mimetype": "text/x-python",
   "name": "python",
   "nbconvert_exporter": "python",
   "pygments_lexer": "ipython3",
   "version": "3.9.12"
  }
 },
 "nbformat": 4,
 "nbformat_minor": 2
}
